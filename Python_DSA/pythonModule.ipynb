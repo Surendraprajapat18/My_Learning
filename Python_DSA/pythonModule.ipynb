{
 "cells": [
  {
   "cell_type": "markdown",
   "metadata": {},
   "source": [
    "## collections Module:"
   ]
  },
  {
   "cell_type": "code",
   "execution_count": 81,
   "metadata": {},
   "outputs": [],
   "source": [
    "from collections import *"
   ]
  },
  {
   "cell_type": "code",
   "execution_count": 83,
   "metadata": {},
   "outputs": [
    {
     "name": "stdout",
     "output_type": "stream",
     "text": [
      "['ChainMap', 'Counter', 'OrderedDict', 'UserDict', 'UserList', 'UserString', '_Link', '_OrderedDictItemsView', '_OrderedDictKeysView', '_OrderedDictValuesView', '__all__', '__builtins__', '__cached__', '__doc__', '__file__', '__getattr__', '__loader__', '__name__', '__package__', '__path__', '__spec__', '_chain', '_collections_abc', '_count_elements', '_eq', '_heapq', '_iskeyword', '_itemgetter', '_proxy', '_recursive_repr', '_repeat', '_starmap', '_sys', '_tuplegetter', 'abc', 'defaultdict', 'deque', 'namedtuple']\n"
     ]
    }
   ],
   "source": [
    "# all methos in collections module\n",
    "import collections\n",
    "print(dir(collections))"
   ]
  },
  {
   "cell_type": "code",
   "execution_count": 3,
   "metadata": {},
   "outputs": [
    {
     "name": "stdout",
     "output_type": "stream",
     "text": [
      "courses(name='data science', technology='python')\n"
     ]
    }
   ],
   "source": [
    "# namedtuple\n",
    "from collections import *\n",
    "a = namedtuple('courses', 'name, technology')\n",
    "b = a(\"data science\", \"python\")\n",
    "print(b)"
   ]
  },
  {
   "cell_type": "code",
   "execution_count": 4,
   "metadata": {},
   "outputs": [
    {
     "name": "stdout",
     "output_type": "stream",
     "text": [
      "courses(name='data science', technology='python')\n"
     ]
    }
   ],
   "source": [
    "a = namedtuple('courses', 'name, technology')\n",
    "b = a._make([\"data science\", \"python\"])\n",
    "print(b)"
   ]
  },
  {
   "cell_type": "code",
   "execution_count": 5,
   "metadata": {},
   "outputs": [
    {
     "name": "stdout",
     "output_type": "stream",
     "text": [
      "deque(['D', 'A', 'T', 'A'])\n",
      "deque(['SCIENCE', 'D', 'A', 'T', 'A'])\n"
     ]
    }
   ],
   "source": [
    "a = ['D','A','T','A']\n",
    "b = deque(a)\n",
    "print(b)\n",
    "b.appendleft('SCIENCE')\n",
    "print(b)"
   ]
  },
  {
   "cell_type": "code",
   "execution_count": 6,
   "metadata": {},
   "outputs": [
    {
     "name": "stdout",
     "output_type": "stream",
     "text": [
      "ChainMap({'D': 2, 'A': 6, 'T': 2}, {'S': 7, 'C': 4, 'I': 4, 'E': 5, 'N': 5})\n"
     ]
    }
   ],
   "source": [
    "a = {'D':2, 'A':3, 'T':2, 'A':6}\n",
    "b = {'S':7, 'C':5, 'I':4, 'E':2, 'N':5, 'C':4, 'E':5}\n",
    "c = ChainMap(a, b)\n",
    "print(c)"
   ]
  },
  {
   "cell_type": "code",
   "execution_count": 7,
   "metadata": {},
   "outputs": [
    {
     "name": "stdout",
     "output_type": "stream",
     "text": [
      "Counter({2: 5, 3: 4, 4: 4, 1: 3, 5: 3, 6: 1})\n",
      "<bound method Counter.most_common of Counter({2: 5, 3: 4, 4: 4, 1: 3, 5: 3, 6: 1})>\n"
     ]
    }
   ],
   "source": [
    "a = [1,2,3,4,5,6,5,4,3,2,1,2,3,4,5,4,3,2,1,2]\n",
    "b = Counter(a)\n",
    "print(b)\n",
    "print(b.most_common)"
   ]
  },
  {
   "cell_type": "code",
   "execution_count": 8,
   "metadata": {},
   "outputs": [
    {
     "name": "stdout",
     "output_type": "stream",
     "text": [
      "OrderedDict([(1, 'S'), (2, 'C'), (3, 'I'), (4, 'E'), (5, 'N'), (6, 'C'), (7, 'E')])\n",
      "odict_values(['S', 'C', 'I', 'E', 'N', 'C', 'E'])\n"
     ]
    }
   ],
   "source": [
    "a = OrderedDict()\n",
    "a[1] = 'S'\n",
    "a[2] = 'C'\n",
    "a[3] = 'I'\n",
    "a[4] = 'E'\n",
    "a[5] = 'N'\n",
    "a[6] = 'C'\n",
    "a[7] = 'E'\n",
    "print(a)\n",
    "print(a.values())"
   ]
  },
  {
   "cell_type": "code",
   "execution_count": 9,
   "metadata": {},
   "outputs": [
    {
     "name": "stdout",
     "output_type": "stream",
     "text": [
      "0\n"
     ]
    }
   ],
   "source": [
    "d = defaultdict(int)\n",
    "d[1] = 'python'\n",
    "d[2] = 'data'\n",
    "print(d[3])"
   ]
  },
  {
   "cell_type": "markdown",
   "metadata": {},
   "source": [
    "## Itertools Module"
   ]
  },
  {
   "cell_type": "code",
   "execution_count": 10,
   "metadata": {},
   "outputs": [],
   "source": [
    "import itertools"
   ]
  },
  {
   "cell_type": "code",
   "execution_count": 11,
   "metadata": {},
   "outputs": [
    {
     "name": "stdout",
     "output_type": "stream",
     "text": [
      "['__doc__', '__loader__', '__name__', '__package__', '__spec__', '_grouper', '_tee', '_tee_dataobject', 'accumulate', 'chain', 'combinations', 'combinations_with_replacement', 'compress', 'count', 'cycle', 'dropwhile', 'filterfalse', 'groupby', 'islice', 'permutations', 'product', 'repeat', 'starmap', 'takewhile', 'tee', 'zip_longest']\n"
     ]
    }
   ],
   "source": [
    "print(dir(itertools))"
   ]
  },
  {
   "cell_type": "code",
   "execution_count": 12,
   "metadata": {},
   "outputs": [
    {
     "name": "stdout",
     "output_type": "stream",
     "text": [
      "7 9 15 18 23 32 36 46 54 61 73 88 \n",
      " 88\n",
      "[7, 9, 15, 18, 23, 32, 36, 46, 54, 61, 73, 88]\n"
     ]
    }
   ],
   "source": [
    "\n",
    "number = [7,2,6,3,5,9,4,10,8,7,12,15]\n",
    "b = list(itertools.accumulate(number))\n",
    "for i in itertools.accumulate(number):\n",
    "    print(i,end=\" \")\n",
    "\n",
    "print(\"\\n\",sum(number))\n",
    "print(b)"
   ]
  },
  {
   "cell_type": "code",
   "execution_count": 13,
   "metadata": {},
   "outputs": [
    {
     "name": "stdout",
     "output_type": "stream",
     "text": [
      "14 16 18 20 22 24 26 28 "
     ]
    }
   ],
   "source": [
    "for i in itertools.count(14,2):\n",
    "    if i == 30:\n",
    "        break\n",
    "    else:\n",
    "        print(i, end=\" \")"
   ]
  },
  {
   "cell_type": "code",
   "execution_count": 14,
   "metadata": {},
   "outputs": [
    {
     "data": {
      "text/plain": [
       "itertools.cycle"
      ]
     },
     "execution_count": 14,
     "metadata": {},
     "output_type": "execute_result"
    }
   ],
   "source": [
    "from itertools import *\n",
    "cycle"
   ]
  },
  {
   "cell_type": "code",
   "execution_count": 15,
   "metadata": {},
   "outputs": [
    {
     "name": "stdout",
     "output_type": "stream",
     "text": [
      "3 2 1 3 2 1 3 2 1 3 2 1 3 2 1 3 "
     ]
    }
   ],
   "source": [
    "j=0\n",
    "for i in cycle(\"321\"):\n",
    "    if j>15:\n",
    "        break\n",
    "    else:\n",
    "        print(i, end=\" \")\n",
    "        j+=1"
   ]
  },
  {
   "cell_type": "code",
   "execution_count": 16,
   "metadata": {},
   "outputs": [
    {
     "name": "stdout",
     "output_type": "stream",
     "text": [
      "['Python', 'Python', 'Python', 'Python', 'Python']\n"
     ]
    }
   ],
   "source": [
    "print(list(repeat(\"Python\", 5)))"
   ]
  },
  {
   "cell_type": "code",
   "execution_count": 17,
   "metadata": {},
   "outputs": [
    {
     "name": "stdout",
     "output_type": "stream",
     "text": [
      "The cartesain product\n",
      "[('A', 1), ('A', 2), ('A', 3), ('B', 1), ('B', 2), ('B', 3), ('C', 1), ('C', 2), ('C', 3)]\n"
     ]
    }
   ],
   "source": [
    "print(\"The cartesain product\")\n",
    "print(list(product(\"ABC\", [1,2,3])))"
   ]
  },
  {
   "cell_type": "code",
   "execution_count": 18,
   "metadata": {},
   "outputs": [
    {
     "name": "stdout",
     "output_type": "stream",
     "text": [
      "[('A', 0), ('A', 1), ('B', 0), ('B', 1), ('C', 0), ('C', 1)]\n"
     ]
    }
   ],
   "source": [
    "print(list(product([\"A\",\"B\",\"C\"], range(2))))"
   ]
  },
  {
   "cell_type": "code",
   "execution_count": 19,
   "metadata": {},
   "outputs": [],
   "source": [
    "number = [[7,8,9],[4,5,6]]"
   ]
  },
  {
   "cell_type": "code",
   "execution_count": 20,
   "metadata": {},
   "outputs": [
    {
     "name": "stdout",
     "output_type": "stream",
     "text": [
      "[(7, 4), (7, 5), (7, 6), (8, 4), (8, 5), (8, 6), (9, 4), (9, 5), (9, 6)]\n"
     ]
    }
   ],
   "source": [
    "print(list(product(*number)))"
   ]
  },
  {
   "cell_type": "markdown",
   "metadata": {},
   "source": [
    "### 1. permutation"
   ]
  },
  {
   "cell_type": "code",
   "execution_count": 21,
   "metadata": {},
   "outputs": [
    {
     "name": "stdout",
     "output_type": "stream",
     "text": [
      "['__class__', '__delattr__', '__dir__', '__doc__', '__eq__', '__format__', '__ge__', '__getattribute__', '__gt__', '__hash__', '__init__', '__init_subclass__', '__iter__', '__le__', '__lt__', '__ne__', '__new__', '__next__', '__reduce__', '__reduce_ex__', '__repr__', '__setattr__', '__setstate__', '__sizeof__', '__str__', '__subclasshook__']\n"
     ]
    }
   ],
   "source": [
    "print(dir(permutations))"
   ]
  },
  {
   "cell_type": "code",
   "execution_count": 22,
   "metadata": {},
   "outputs": [
    {
     "name": "stdout",
     "output_type": "stream",
     "text": [
      "[('X', 'Y'), ('X', 'Z'), ('Y', 'X'), ('Y', 'Z'), ('Z', 'X'), ('Z', 'Y')]\n"
     ]
    }
   ],
   "source": [
    "print(list(permutations(\"XYZ\", 2)))"
   ]
  },
  {
   "cell_type": "code",
   "execution_count": 23,
   "metadata": {},
   "outputs": [
    {
     "name": "stdout",
     "output_type": "stream",
     "text": [
      "[(1, 2), (1, 3), (2, 1), (2, 3), (3, 1), (3, 2)]\n"
     ]
    }
   ],
   "source": [
    "print(list(permutations(range(1,4),2)))"
   ]
  },
  {
   "cell_type": "code",
   "execution_count": 24,
   "metadata": {},
   "outputs": [
    {
     "name": "stdout",
     "output_type": "stream",
     "text": [
      "('A', 'B', 'C') ('A', 'C', 'B') ('B', 'A', 'C') ('B', 'C', 'A') ('C', 'A', 'B') ('C', 'B', 'A') "
     ]
    }
   ],
   "source": [
    "for i in permutations([\"A\",\"B\",\"C\"]):\n",
    "    print(i, end=\" \")"
   ]
  },
  {
   "cell_type": "markdown",
   "metadata": {},
   "source": [
    "### 2. combination"
   ]
  },
  {
   "cell_type": "code",
   "execution_count": 25,
   "metadata": {},
   "outputs": [
    {
     "name": "stdout",
     "output_type": "stream",
     "text": [
      "['__class__', '__delattr__', '__dir__', '__doc__', '__eq__', '__format__', '__ge__', '__getattribute__', '__gt__', '__hash__', '__init__', '__init_subclass__', '__iter__', '__le__', '__lt__', '__ne__', '__new__', '__next__', '__reduce__', '__reduce_ex__', '__repr__', '__setattr__', '__setstate__', '__sizeof__', '__str__', '__subclasshook__']\n"
     ]
    }
   ],
   "source": [
    "print(dir(combinations))"
   ]
  },
  {
   "cell_type": "code",
   "execution_count": 26,
   "metadata": {},
   "outputs": [
    {
     "name": "stdout",
     "output_type": "stream",
     "text": [
      "[('A', 'B'), ('A', 'C'), ('B', 'C')]\n"
     ]
    }
   ],
   "source": [
    "print(list(combinations(\"ABC\",2)))"
   ]
  },
  {
   "cell_type": "code",
   "execution_count": 27,
   "metadata": {},
   "outputs": [
    {
     "name": "stdout",
     "output_type": "stream",
     "text": [
      "[('1', '1'), ('1', '2'), ('1', '3'), ('2', '2'), ('2', '3'), ('3', '3')]\n"
     ]
    }
   ],
   "source": [
    "print(list(combinations_with_replacement(\"123\", 2)))"
   ]
  },
  {
   "cell_type": "code",
   "execution_count": 28,
   "metadata": {},
   "outputs": [],
   "source": [
    "lst = [1,2,3,4,5,6]"
   ]
  },
  {
   "cell_type": "code",
   "execution_count": 29,
   "metadata": {},
   "outputs": [
    {
     "name": "stdout",
     "output_type": "stream",
     "text": [
      "[(1, 2, 3), (1, 2, 4), (1, 2, 5), (1, 2, 6), (1, 3, 4), (1, 3, 5), (1, 3, 6), (1, 4, 5), (1, 4, 6), (1, 5, 6), (2, 3, 4), (2, 3, 5), (2, 3, 6), (2, 4, 5), (2, 4, 6), (2, 5, 6), (3, 4, 5), (3, 4, 6), (3, 5, 6), (4, 5, 6)]\n"
     ]
    }
   ],
   "source": [
    "print(list(combinations(lst, 3)))"
   ]
  },
  {
   "cell_type": "code",
   "execution_count": 30,
   "metadata": {},
   "outputs": [
    {
     "name": "stdout",
     "output_type": "stream",
     "text": [
      "[(1, 3, 6), (1, 4, 5), (2, 3, 5)]\n"
     ]
    }
   ],
   "source": [
    "print(([result for result in combinations(lst, 3) if sum(result) == 10]))"
   ]
  },
  {
   "cell_type": "code",
   "execution_count": 31,
   "metadata": {},
   "outputs": [
    {
     "name": "stdout",
     "output_type": "stream",
     "text": [
      "[(1, 3, 6), (1, 4, 5), (1, 5, 4), (1, 6, 3), (2, 3, 5), (2, 5, 3), (3, 1, 6), (3, 2, 5), (3, 5, 2), (3, 6, 1), (4, 1, 5), (4, 5, 1), (5, 1, 4), (5, 2, 3), (5, 3, 2), (5, 4, 1), (6, 1, 3), (6, 3, 1)]\n"
     ]
    }
   ],
   "source": [
    "print(([result for result in permutations(lst, 3) if sum(result) == 10]))"
   ]
  },
  {
   "cell_type": "code",
   "execution_count": 32,
   "metadata": {},
   "outputs": [],
   "source": [
    "x = [1,2,3,4,5]\n",
    "y = [\"A\",\"B\",\"C\"]"
   ]
  },
  {
   "cell_type": "code",
   "execution_count": 33,
   "metadata": {},
   "outputs": [
    {
     "name": "stdout",
     "output_type": "stream",
     "text": [
      "[(1, 'A'), (2, 'B'), (3, 'C'), (4, None), (5, None)]\n"
     ]
    }
   ],
   "source": [
    "print(list(zip_longest(x,y)))"
   ]
  },
  {
   "cell_type": "code",
   "execution_count": 34,
   "metadata": {},
   "outputs": [
    {
     "name": "stdout",
     "output_type": "stream",
     "text": [
      "[(1, 'A'), (2, 'B'), (3, 'C'), (4, 'X'), (5, 'X')]\n"
     ]
    }
   ],
   "source": [
    "print(list(zip_longest(x,y,fillvalue=\"X\")))"
   ]
  },
  {
   "cell_type": "code",
   "execution_count": 35,
   "metadata": {},
   "outputs": [
    {
     "name": "stdout",
     "output_type": "stream",
     "text": [
      "[7, 8, 9]\n"
     ]
    }
   ],
   "source": [
    "part_nuumber = islice(number, 0,7,2)\n",
    "for i in part_nuumber:\n",
    "    print(i)"
   ]
  },
  {
   "cell_type": "code",
   "execution_count": 36,
   "metadata": {},
   "outputs": [
    {
     "name": "stdout",
     "output_type": "stream",
     "text": [
      "81 125 216 "
     ]
    }
   ],
   "source": [
    "import operator\n",
    "lst = [(3,4),(5,3),(6,3)]\n",
    "x = starmap(operator.pow,lst)\n",
    "for i in x:\n",
    "    print(i, end=\" \")"
   ]
  },
  {
   "cell_type": "markdown",
   "metadata": {},
   "source": [
    "# sys module: "
   ]
  },
  {
   "cell_type": "markdown",
   "metadata": {},
   "source": [
    "##### (he sys module in Python provides various functions and variables that are used to manipulate different parts of the Python runtime environment. It allows operating on the interpreter as it provides access to the variables and functions that interact strongly with the interpreter.)"
   ]
  },
  {
   "cell_type": "code",
   "execution_count": 37,
   "metadata": {},
   "outputs": [
    {
     "name": "stdout",
     "output_type": "stream",
     "text": [
      "3.8.10 (default, Jun 22 2022, 20:18:18) \n",
      "[GCC 9.4.0]\n"
     ]
    }
   ],
   "source": [
    "import sys\n",
    "print(sys.version)"
   ]
  },
  {
   "cell_type": "code",
   "execution_count": 38,
   "metadata": {},
   "outputs": [
    {
     "name": "stdout",
     "output_type": "stream",
     "text": [
      "Exit\n"
     ]
    }
   ],
   "source": [
    "import sys \n",
    "for line in sys.stdin: \n",
    "    if 'q' == line.rstrip(): \n",
    "        break\n",
    "    print(f'Input : {line}') \n",
    "  \n",
    "print(\"Exit\") "
   ]
  },
  {
   "cell_type": "code",
   "execution_count": 39,
   "metadata": {},
   "outputs": [
    {
     "name": "stdout",
     "output_type": "stream",
     "text": [
      "Geekss"
     ]
    },
    {
     "data": {
      "text/plain": [
       "6"
      ]
     },
     "execution_count": 39,
     "metadata": {},
     "output_type": "execute_result"
    }
   ],
   "source": [
    "import sys\n",
    "sys.stdout.write('Geekss')"
   ]
  },
  {
   "cell_type": "code",
   "execution_count": 40,
   "metadata": {},
   "outputs": [
    {
     "name": "stderr",
     "output_type": "stream",
     "text": [
      "Hello World\n"
     ]
    }
   ],
   "source": [
    "import sys \n",
    "def print_to_stderr(*a): \n",
    "  \n",
    "    # Here a is the array holding the objects \n",
    "    # passed as the argument of the function \n",
    "    print(*a, file = sys.stderr) \n",
    "  \n",
    "print_to_stderr(\"Hello World\") "
   ]
  },
  {
   "cell_type": "code",
   "execution_count": 41,
   "metadata": {},
   "outputs": [
    {
     "data": {
      "text/plain": [
       "{'sys': <module 'sys' (built-in)>,\n",
       " 'builtins': <module 'builtins' (built-in)>,\n",
       " '_frozen_importlib': <module 'importlib._bootstrap' (frozen)>,\n",
       " '_imp': <module '_imp' (built-in)>,\n",
       " '_warnings': <module '_warnings' (built-in)>,\n",
       " '_io': <module 'io' (built-in)>,\n",
       " 'marshal': <module 'marshal' (built-in)>,\n",
       " 'posix': <module 'posix' (built-in)>,\n",
       " '_frozen_importlib_external': <module 'importlib._bootstrap_external' (frozen)>,\n",
       " '_thread': <module '_thread' (built-in)>,\n",
       " '_weakref': <module '_weakref' (built-in)>,\n",
       " 'time': <module 'time' (built-in)>,\n",
       " 'zipimport': <module 'zipimport' (frozen)>,\n",
       " '_codecs': <module '_codecs' (built-in)>,\n",
       " 'codecs': <module 'codecs' from '/usr/lib/python3.8/codecs.py'>,\n",
       " 'encodings.aliases': <module 'encodings.aliases' from '/usr/lib/python3.8/encodings/aliases.py'>,\n",
       " 'encodings': <module 'encodings' from '/usr/lib/python3.8/encodings/__init__.py'>,\n",
       " 'encodings.utf_8': <module 'encodings.utf_8' from '/usr/lib/python3.8/encodings/utf_8.py'>,\n",
       " '_signal': <module '_signal' (built-in)>,\n",
       " '__main__': <module '__main__'>,\n",
       " 'encodings.latin_1': <module 'encodings.latin_1' from '/usr/lib/python3.8/encodings/latin_1.py'>,\n",
       " '_abc': <module '_abc' (built-in)>,\n",
       " 'abc': <module 'abc' from '/usr/lib/python3.8/abc.py'>,\n",
       " 'io': <module 'io' from '/usr/lib/python3.8/io.py'>,\n",
       " '_stat': <module '_stat' (built-in)>,\n",
       " 'stat': <module 'stat' from '/usr/lib/python3.8/stat.py'>,\n",
       " '_collections_abc': <module '_collections_abc' from '/usr/lib/python3.8/_collections_abc.py'>,\n",
       " 'genericpath': <module 'genericpath' from '/usr/lib/python3.8/genericpath.py'>,\n",
       " 'posixpath': <module 'posixpath' from '/usr/lib/python3.8/posixpath.py'>,\n",
       " 'os.path': <module 'posixpath' from '/usr/lib/python3.8/posixpath.py'>,\n",
       " 'os': <module 'os' from '/usr/lib/python3.8/os.py'>,\n",
       " '_sitebuiltins': <module '_sitebuiltins' from '/usr/lib/python3.8/_sitebuiltins.py'>,\n",
       " '_locale': <module '_locale' (built-in)>,\n",
       " '_bootlocale': <module '_bootlocale' from '/usr/lib/python3.8/_bootlocale.py'>,\n",
       " 'types': <module 'types' from '/usr/lib/python3.8/types.py'>,\n",
       " 'importlib._bootstrap': <module 'importlib._bootstrap' (frozen)>,\n",
       " 'importlib._bootstrap_external': <module 'importlib._bootstrap_external' (frozen)>,\n",
       " 'warnings': <module 'warnings' from '/usr/lib/python3.8/warnings.py'>,\n",
       " 'importlib': <module 'importlib' from '/usr/lib/python3.8/importlib/__init__.py'>,\n",
       " 'importlib.machinery': <module 'importlib.machinery' from '/usr/lib/python3.8/importlib/machinery.py'>,\n",
       " 'importlib.abc': <module 'importlib.abc' from '/usr/lib/python3.8/importlib/abc.py'>,\n",
       " '_operator': <module '_operator' (built-in)>,\n",
       " 'operator': <module 'operator' from '/usr/lib/python3.8/operator.py'>,\n",
       " 'keyword': <module 'keyword' from '/usr/lib/python3.8/keyword.py'>,\n",
       " '_heapq': <module '_heapq' (built-in)>,\n",
       " 'heapq': <module 'heapq' from '/usr/lib/python3.8/heapq.py'>,\n",
       " 'itertools': <module 'itertools' (built-in)>,\n",
       " 'reprlib': <module 'reprlib' from '/usr/lib/python3.8/reprlib.py'>,\n",
       " '_collections': <module '_collections' (built-in)>,\n",
       " 'collections': <module 'collections' from '/usr/lib/python3.8/collections/__init__.py'>,\n",
       " '_functools': <module '_functools' (built-in)>,\n",
       " 'functools': <module 'functools' from '/usr/lib/python3.8/functools.py'>,\n",
       " 'contextlib': <module 'contextlib' from '/usr/lib/python3.8/contextlib.py'>,\n",
       " 'importlib.util': <module 'importlib.util' from '/usr/lib/python3.8/importlib/util.py'>,\n",
       " 'mpl_toolkits': <module 'mpl_toolkits' (namespace)>,\n",
       " 'sitecustomize': <module 'sitecustomize' from '/usr/lib/python3.8/sitecustomize.py'>,\n",
       " 'site': <module 'site' from '/usr/lib/python3.8/site.py'>,\n",
       " '_weakrefset': <module '_weakrefset' from '/usr/lib/python3.8/_weakrefset.py'>,\n",
       " 'weakref': <module 'weakref' from '/usr/lib/python3.8/weakref.py'>,\n",
       " 'pkgutil': <module 'pkgutil' from '/usr/lib/python3.8/pkgutil.py'>,\n",
       " 'runpy': <module 'runpy' from '/usr/lib/python3.8/runpy.py'>,\n",
       " 'enum': <module 'enum' from '/usr/lib/python3.8/enum.py'>,\n",
       " '_sre': <module '_sre' (built-in)>,\n",
       " 'sre_constants': <module 'sre_constants' from '/usr/lib/python3.8/sre_constants.py'>,\n",
       " 'sre_parse': <module 'sre_parse' from '/usr/lib/python3.8/sre_parse.py'>,\n",
       " 'sre_compile': <module 'sre_compile' from '/usr/lib/python3.8/sre_compile.py'>,\n",
       " 'copyreg': <module 'copyreg' from '/usr/lib/python3.8/copyreg.py'>,\n",
       " 're': <module 're' from '/usr/lib/python3.8/re.py'>,\n",
       " 'collections.abc': <module 'collections.abc' from '/usr/lib/python3.8/collections/abc.py'>,\n",
       " 'typing.io': typing.io,\n",
       " 'typing.re': typing.re,\n",
       " 'typing': <module 'typing' from '/usr/lib/python3.8/typing.py'>,\n",
       " 'ipykernel._version': <module 'ipykernel._version' from '/home/user/helloCode/.myenv/lib/python3.8/site-packages/ipykernel/_version.py'>,\n",
       " '_json': <module '_json' from '/usr/lib/python3.8/lib-dynload/_json.cpython-38-x86_64-linux-gnu.so'>,\n",
       " 'json.scanner': <module 'json.scanner' from '/usr/lib/python3.8/json/scanner.py'>,\n",
       " 'json.decoder': <module 'json.decoder' from '/usr/lib/python3.8/json/decoder.py'>,\n",
       " 'json.encoder': <module 'json.encoder' from '/usr/lib/python3.8/json/encoder.py'>,\n",
       " 'json': <module 'json' from '/usr/lib/python3.8/json/__init__.py'>,\n",
       " 'errno': <module 'errno' (built-in)>,\n",
       " 'signal': <module 'signal' from '/usr/lib/python3.8/signal.py'>,\n",
       " 'threading': <module 'threading' from '/usr/lib/python3.8/threading.py'>,\n",
       " '_posixsubprocess': <module '_posixsubprocess' (built-in)>,\n",
       " 'select': <module 'select' (built-in)>,\n",
       " 'math': <module 'math' (built-in)>,\n",
       " 'selectors': <module 'selectors' from '/usr/lib/python3.8/selectors.py'>,\n",
       " 'subprocess': <module 'subprocess' from '/usr/lib/python3.8/subprocess.py'>,\n",
       " 'jupyter_client._version': <module 'jupyter_client._version' from '/home/user/helloCode/.myenv/lib/python3.8/site-packages/jupyter_client/_version.py'>,\n",
       " '_opcode': <module '_opcode' from '/usr/lib/python3.8/lib-dynload/_opcode.cpython-38-x86_64-linux-gnu.so'>,\n",
       " 'opcode': <module 'opcode' from '/usr/lib/python3.8/opcode.py'>,\n",
       " 'dis': <module 'dis' from '/usr/lib/python3.8/dis.py'>,\n",
       " 'token': <module 'token' from '/usr/lib/python3.8/token.py'>,\n",
       " 'tokenize': <module 'tokenize' from '/usr/lib/python3.8/tokenize.py'>,\n",
       " 'linecache': <module 'linecache' from '/usr/lib/python3.8/linecache.py'>,\n",
       " 'inspect': <module 'inspect' from '/usr/lib/python3.8/inspect.py'>,\n",
       " '_ast': <module '_ast' (built-in)>,\n",
       " 'ast': <module 'ast' from '/usr/lib/python3.8/ast.py'>,\n",
       " 'traitlets.utils': <module 'traitlets.utils' from '/home/user/helloCode/.myenv/lib/python3.8/site-packages/traitlets/utils/__init__.py'>,\n",
       " 'traitlets.utils.bunch': <module 'traitlets.utils.bunch' from '/home/user/helloCode/.myenv/lib/python3.8/site-packages/traitlets/utils/bunch.py'>,\n",
       " 'traitlets.utils.descriptions': <module 'traitlets.utils.descriptions' from '/home/user/helloCode/.myenv/lib/python3.8/site-packages/traitlets/utils/descriptions.py'>,\n",
       " 'traitlets.utils.getargspec': <module 'traitlets.utils.getargspec' from '/home/user/helloCode/.myenv/lib/python3.8/site-packages/traitlets/utils/getargspec.py'>,\n",
       " 'traitlets.utils.importstring': <module 'traitlets.utils.importstring' from '/home/user/helloCode/.myenv/lib/python3.8/site-packages/traitlets/utils/importstring.py'>,\n",
       " 'traitlets.utils.sentinel': <module 'traitlets.utils.sentinel' from '/home/user/helloCode/.myenv/lib/python3.8/site-packages/traitlets/utils/sentinel.py'>,\n",
       " 'traitlets.traitlets': <module 'traitlets.traitlets' from '/home/user/helloCode/.myenv/lib/python3.8/site-packages/traitlets/traitlets.py'>,\n",
       " 'traitlets._version': <module 'traitlets._version' from '/home/user/helloCode/.myenv/lib/python3.8/site-packages/traitlets/_version.py'>,\n",
       " 'copy': <module 'copy' from '/usr/lib/python3.8/copy.py'>,\n",
       " 'traitlets.utils.decorators': <module 'traitlets.utils.decorators' from '/home/user/helloCode/.myenv/lib/python3.8/site-packages/traitlets/utils/decorators.py'>,\n",
       " 'traitlets': <module 'traitlets' from '/home/user/helloCode/.myenv/lib/python3.8/site-packages/traitlets/__init__.py'>,\n",
       " 'concurrent': <module 'concurrent' from '/usr/lib/python3.8/concurrent/__init__.py'>,\n",
       " 'traceback': <module 'traceback' from '/usr/lib/python3.8/traceback.py'>,\n",
       " '_string': <module '_string' (built-in)>,\n",
       " 'string': <module 'string' from '/usr/lib/python3.8/string.py'>,\n",
       " 'atexit': <module 'atexit' (built-in)>,\n",
       " 'logging': <module 'logging' from '/usr/lib/python3.8/logging/__init__.py'>,\n",
       " 'concurrent.futures._base': <module 'concurrent.futures._base' from '/usr/lib/python3.8/concurrent/futures/_base.py'>,\n",
       " 'concurrent.futures': <module 'concurrent.futures' from '/usr/lib/python3.8/concurrent/futures/__init__.py'>,\n",
       " '_socket': <module '_socket' (built-in)>,\n",
       " 'socket': <module 'socket' from '/usr/lib/python3.8/socket.py'>,\n",
       " '_ssl': <module '_ssl' from '/usr/lib/python3.8/lib-dynload/_ssl.cpython-38-x86_64-linux-gnu.so'>,\n",
       " '_struct': <module '_struct' (built-in)>,\n",
       " 'struct': <module 'struct' from '/usr/lib/python3.8/struct.py'>,\n",
       " 'binascii': <module 'binascii' (built-in)>,\n",
       " 'base64': <module 'base64' from '/usr/lib/python3.8/base64.py'>,\n",
       " 'ssl': <module 'ssl' from '/usr/lib/python3.8/ssl.py'>,\n",
       " 'asyncio.constants': <module 'asyncio.constants' from '/usr/lib/python3.8/asyncio/constants.py'>,\n",
       " 'asyncio.format_helpers': <module 'asyncio.format_helpers' from '/usr/lib/python3.8/asyncio/format_helpers.py'>,\n",
       " 'asyncio.base_futures': <module 'asyncio.base_futures' from '/usr/lib/python3.8/asyncio/base_futures.py'>,\n",
       " 'asyncio.log': <module 'asyncio.log' from '/usr/lib/python3.8/asyncio/log.py'>,\n",
       " 'asyncio.coroutines': <module 'asyncio.coroutines' from '/usr/lib/python3.8/asyncio/coroutines.py'>,\n",
       " '_contextvars': <module '_contextvars' from '/usr/lib/python3.8/lib-dynload/_contextvars.cpython-38-x86_64-linux-gnu.so'>,\n",
       " 'contextvars': <module 'contextvars' from '/usr/lib/python3.8/contextvars.py'>,\n",
       " 'asyncio.exceptions': <module 'asyncio.exceptions' from '/usr/lib/python3.8/asyncio/exceptions.py'>,\n",
       " 'asyncio.base_tasks': <module 'asyncio.base_tasks' from '/usr/lib/python3.8/asyncio/base_tasks.py'>,\n",
       " '_asyncio': <module '_asyncio' from '/usr/lib/python3.8/lib-dynload/_asyncio.cpython-38-x86_64-linux-gnu.so'>,\n",
       " 'asyncio.events': <module 'asyncio.events' from '/usr/lib/python3.8/asyncio/events.py'>,\n",
       " 'asyncio.futures': <module 'asyncio.futures' from '/usr/lib/python3.8/asyncio/futures.py'>,\n",
       " 'asyncio.protocols': <module 'asyncio.protocols' from '/usr/lib/python3.8/asyncio/protocols.py'>,\n",
       " 'asyncio.transports': <module 'asyncio.transports' from '/usr/lib/python3.8/asyncio/transports.py'>,\n",
       " 'asyncio.sslproto': <module 'asyncio.sslproto' from '/usr/lib/python3.8/asyncio/sslproto.py'>,\n",
       " 'asyncio.locks': <module 'asyncio.locks' from '/usr/lib/python3.8/asyncio/locks.py'>,\n",
       " 'asyncio.tasks': <module 'asyncio.tasks' from '/usr/lib/python3.8/asyncio/tasks.py'>,\n",
       " 'asyncio.staggered': <module 'asyncio.staggered' from '/usr/lib/python3.8/asyncio/staggered.py'>,\n",
       " 'asyncio.trsock': <module 'asyncio.trsock' from '/usr/lib/python3.8/asyncio/trsock.py'>,\n",
       " 'asyncio.base_events': <module 'asyncio.base_events' from '/usr/lib/python3.8/asyncio/base_events.py'>,\n",
       " 'asyncio.runners': <module 'asyncio.runners' from '/usr/lib/python3.8/asyncio/runners.py'>,\n",
       " 'asyncio.queues': <module 'asyncio.queues' from '/usr/lib/python3.8/asyncio/queues.py'>,\n",
       " 'asyncio.streams': <module 'asyncio.streams' from '/usr/lib/python3.8/asyncio/streams.py'>,\n",
       " 'asyncio.subprocess': <module 'asyncio.subprocess' from '/usr/lib/python3.8/asyncio/subprocess.py'>,\n",
       " 'asyncio.base_subprocess': <module 'asyncio.base_subprocess' from '/usr/lib/python3.8/asyncio/base_subprocess.py'>,\n",
       " 'asyncio.selector_events': <module 'asyncio.selector_events' from '/usr/lib/python3.8/asyncio/selector_events.py'>,\n",
       " 'asyncio.unix_events': <module 'asyncio.unix_events' from '/usr/lib/python3.8/asyncio/unix_events.py'>,\n",
       " 'asyncio': <module 'asyncio' from '/usr/lib/python3.8/asyncio/__init__.py'>,\n",
       " '_queue': <module '_queue' from '/usr/lib/python3.8/lib-dynload/_queue.cpython-38-x86_64-linux-gnu.so'>,\n",
       " 'queue': <module 'queue' from '/usr/lib/python3.8/queue.py'>,\n",
       " 'platform': <module 'platform' from '/usr/lib/python3.8/platform.py'>,\n",
       " '_ctypes': <module '_ctypes' from '/usr/lib/python3.8/lib-dynload/_ctypes.cpython-38-x86_64-linux-gnu.so'>,\n",
       " 'ctypes._endian': <module 'ctypes._endian' from '/usr/lib/python3.8/ctypes/_endian.py'>,\n",
       " 'ctypes': <module 'ctypes' from '/usr/lib/python3.8/ctypes/__init__.py'>,\n",
       " 'zmq.backend.select': <module 'zmq.backend.select' from '/home/user/helloCode/.myenv/lib/python3.8/site-packages/zmq/backend/select.py'>,\n",
       " '_cython_0_29_32': <module '_cython_0_29_32'>,\n",
       " 'cython_runtime': <module 'cython_runtime'>,\n",
       " 'zmq.error': <module 'zmq.error' from '/home/user/helloCode/.myenv/lib/python3.8/site-packages/zmq/error.py'>,\n",
       " 'zmq.backend.cython.context': <module 'zmq.backend.cython.context' from '/home/user/helloCode/.myenv/lib/python3.8/site-packages/zmq/backend/cython/context.cpython-38-x86_64-linux-gnu.so'>,\n",
       " 'zmq.backend.cython.message': <module 'zmq.backend.cython.message' from '/home/user/helloCode/.myenv/lib/python3.8/site-packages/zmq/backend/cython/message.cpython-38-x86_64-linux-gnu.so'>,\n",
       " '_bisect': <module '_bisect' (built-in)>,\n",
       " 'bisect': <module 'bisect' from '/usr/lib/python3.8/bisect.py'>,\n",
       " '_sha512': <module '_sha512' (built-in)>,\n",
       " '_random': <module '_random' (built-in)>,\n",
       " 'random': <module 'random' from '/usr/lib/python3.8/random.py'>,\n",
       " '_compat_pickle': <module '_compat_pickle' from '/usr/lib/python3.8/_compat_pickle.py'>,\n",
       " '_pickle': <module '_pickle' (built-in)>,\n",
       " 'pickle': <module 'pickle' from '/usr/lib/python3.8/pickle.py'>,\n",
       " 'zmq.constants': <module 'zmq.constants' from '/home/user/helloCode/.myenv/lib/python3.8/site-packages/zmq/constants.py'>,\n",
       " 'zmq.backend.cython.socket': <module 'zmq.backend.cython.socket' from '/home/user/helloCode/.myenv/lib/python3.8/site-packages/zmq/backend/cython/socket.cpython-38-x86_64-linux-gnu.so'>,\n",
       " 'zmq.backend.cython._device': <module 'zmq.backend.cython._device' from '/home/user/helloCode/.myenv/lib/python3.8/site-packages/zmq/backend/cython/_device.cpython-38-x86_64-linux-gnu.so'>,\n",
       " 'zmq.backend.cython._poll': <module 'zmq.backend.cython._poll' from '/home/user/helloCode/.myenv/lib/python3.8/site-packages/zmq/backend/cython/_poll.cpython-38-x86_64-linux-gnu.so'>,\n",
       " 'zmq.backend.cython._proxy_steerable': <module 'zmq.backend.cython._proxy_steerable' from '/home/user/helloCode/.myenv/lib/python3.8/site-packages/zmq/backend/cython/_proxy_steerable.cpython-38-x86_64-linux-gnu.so'>,\n",
       " 'zmq.backend.cython._version': <module 'zmq.backend.cython._version' from '/home/user/helloCode/.myenv/lib/python3.8/site-packages/zmq/backend/cython/_version.cpython-38-x86_64-linux-gnu.so'>,\n",
       " 'zmq.backend.cython.error': <module 'zmq.backend.cython.error' from '/home/user/helloCode/.myenv/lib/python3.8/site-packages/zmq/backend/cython/error.cpython-38-x86_64-linux-gnu.so'>,\n",
       " 'zmq.backend.cython.utils': <module 'zmq.backend.cython.utils' from '/home/user/helloCode/.myenv/lib/python3.8/site-packages/zmq/backend/cython/utils.cpython-38-x86_64-linux-gnu.so'>,\n",
       " 'zmq.backend.cython': <module 'zmq.backend.cython' from '/home/user/helloCode/.myenv/lib/python3.8/site-packages/zmq/backend/cython/__init__.py'>,\n",
       " 'zmq.backend': <module 'zmq.backend' from '/home/user/helloCode/.myenv/lib/python3.8/site-packages/zmq/backend/__init__.py'>,\n",
       " 'zmq.sugar.attrsettr': <module 'zmq.sugar.attrsettr' from '/home/user/helloCode/.myenv/lib/python3.8/site-packages/zmq/sugar/attrsettr.py'>,\n",
       " 'zmq._typing': <module 'zmq._typing' from '/home/user/helloCode/.myenv/lib/python3.8/site-packages/zmq/_typing.py'>,\n",
       " 'zmq.utils': <module 'zmq.utils' from '/home/user/helloCode/.myenv/lib/python3.8/site-packages/zmq/utils/__init__.py'>,\n",
       " 'zmq.utils.jsonapi': <module 'zmq.utils.jsonapi' from '/home/user/helloCode/.myenv/lib/python3.8/site-packages/zmq/utils/jsonapi.py'>,\n",
       " 'zmq.sugar.poll': <module 'zmq.sugar.poll' from '/home/user/helloCode/.myenv/lib/python3.8/site-packages/zmq/sugar/poll.py'>,\n",
       " 'zmq.sugar.socket': <module 'zmq.sugar.socket' from '/home/user/helloCode/.myenv/lib/python3.8/site-packages/zmq/sugar/socket.py'>,\n",
       " 'zmq.sugar.context': <module 'zmq.sugar.context' from '/home/user/helloCode/.myenv/lib/python3.8/site-packages/zmq/sugar/context.py'>,\n",
       " 'zmq.sugar.frame': <module 'zmq.sugar.frame' from '/home/user/helloCode/.myenv/lib/python3.8/site-packages/zmq/sugar/frame.py'>,\n",
       " 'zmq.sugar.tracker': <module 'zmq.sugar.tracker' from '/home/user/helloCode/.myenv/lib/python3.8/site-packages/zmq/sugar/tracker.py'>,\n",
       " 'zmq.sugar.version': <module 'zmq.sugar.version' from '/home/user/helloCode/.myenv/lib/python3.8/site-packages/zmq/sugar/version.py'>,\n",
       " 'zmq.sugar.stopwatch': <module 'zmq.sugar.stopwatch' from '/home/user/helloCode/.myenv/lib/python3.8/site-packages/zmq/sugar/stopwatch.py'>,\n",
       " 'zmq.sugar': <module 'zmq.sugar' from '/home/user/helloCode/.myenv/lib/python3.8/site-packages/zmq/sugar/__init__.py'>,\n",
       " 'zmq': <module 'zmq' from '/home/user/helloCode/.myenv/lib/python3.8/site-packages/zmq/__init__.py'>,\n",
       " 'zmq._future': <module 'zmq._future' from '/home/user/helloCode/.myenv/lib/python3.8/site-packages/zmq/_future.py'>,\n",
       " 'zmq.asyncio': <module 'zmq.asyncio' from '/home/user/helloCode/.myenv/lib/python3.8/site-packages/zmq/asyncio.py'>,\n",
       " 'jupyter_client.channelsabc': <module 'jupyter_client.channelsabc' from '/home/user/helloCode/.myenv/lib/python3.8/site-packages/jupyter_client/channelsabc.py'>,\n",
       " '_hashlib': <module '_hashlib' from '/usr/lib/python3.8/lib-dynload/_hashlib.cpython-38-x86_64-linux-gnu.so'>,\n",
       " '_blake2': <module '_blake2' (built-in)>,\n",
       " '_sha3': <module '_sha3' (built-in)>,\n",
       " 'hashlib': <module 'hashlib' from '/usr/lib/python3.8/hashlib.py'>,\n",
       " 'hmac': <module 'hmac' from '/usr/lib/python3.8/hmac.py'>,\n",
       " 'pprint': <module 'pprint' from '/usr/lib/python3.8/pprint.py'>,\n",
       " '_datetime': <module '_datetime' (built-in)>,\n",
       " 'datetime': <module 'datetime' from '/usr/lib/python3.8/datetime.py'>,\n",
       " 'logging.handlers': <module 'logging.handlers' from '/usr/lib/python3.8/logging/handlers.py'>,\n",
       " 'socketserver': <module 'socketserver' from '/usr/lib/python3.8/socketserver.py'>,\n",
       " 'logging.config': <module 'logging.config' from '/usr/lib/python3.8/logging/config.py'>,\n",
       " 'textwrap': <module 'textwrap' from '/usr/lib/python3.8/textwrap.py'>,\n",
       " 'traitlets.utils.text': <module 'traitlets.utils.text' from '/home/user/helloCode/.myenv/lib/python3.8/site-packages/traitlets/utils/text.py'>,\n",
       " 'locale': <module 'locale' from '/usr/lib/python3.8/locale.py'>,\n",
       " 'gettext': <module 'gettext' from '/usr/lib/python3.8/gettext.py'>,\n",
       " 'argparse': <module 'argparse' from '/usr/lib/python3.8/argparse.py'>,\n",
       " 'traitlets.config.loader': <module 'traitlets.config.loader' from '/home/user/helloCode/.myenv/lib/python3.8/site-packages/traitlets/config/loader.py'>,\n",
       " 'traitlets.config.configurable': <module 'traitlets.config.configurable' from '/home/user/helloCode/.myenv/lib/python3.8/site-packages/traitlets/config/configurable.py'>,\n",
       " 'traitlets.utils.nested_update': <module 'traitlets.utils.nested_update' from '/home/user/helloCode/.myenv/lib/python3.8/site-packages/traitlets/utils/nested_update.py'>,\n",
       " 'traitlets.config.application': <module 'traitlets.config.application' from '/home/user/helloCode/.myenv/lib/python3.8/site-packages/traitlets/config/application.py'>,\n",
       " 'traitlets.config': <module 'traitlets.config' from '/home/user/helloCode/.myenv/lib/python3.8/site-packages/traitlets/config/__init__.py'>,\n",
       " 'traitlets.log': <module 'traitlets.log' from '/home/user/helloCode/.myenv/lib/python3.8/site-packages/traitlets/log.py'>,\n",
       " 'tornado': <module 'tornado' from '/home/user/helloCode/.myenv/lib/python3.8/site-packages/tornado/__init__.py'>,\n",
       " 'numbers': <module 'numbers' from '/usr/lib/python3.8/numbers.py'>,\n",
       " 'html.entities': <module 'html.entities' from '/usr/lib/python3.8/html/entities.py'>,\n",
       " 'html': <module 'html' from '/usr/lib/python3.8/html/__init__.py'>,\n",
       " 'urllib': <module 'urllib' from '/usr/lib/python3.8/urllib/__init__.py'>,\n",
       " 'urllib.parse': <module 'urllib.parse' from '/usr/lib/python3.8/urllib/parse.py'>,\n",
       " 'array': <module 'array' (built-in)>,\n",
       " 'zlib': <module 'zlib' (built-in)>,\n",
       " 'tornado.speedups': <module 'tornado.speedups' from '/home/user/helloCode/.myenv/lib/python3.8/site-packages/tornado/speedups.abi3.so'>,\n",
       " 'tornado.util': <module 'tornado.util' from '/home/user/helloCode/.myenv/lib/python3.8/site-packages/tornado/util.py'>,\n",
       " 'tornado.escape': <module 'tornado.escape' from '/home/user/helloCode/.myenv/lib/python3.8/site-packages/tornado/escape.py'>,\n",
       " '_curses': <module '_curses' from '/usr/lib/python3.8/lib-dynload/_curses.cpython-38-x86_64-linux-gnu.so'>,\n",
       " 'curses': <module 'curses' from '/usr/lib/python3.8/curses/__init__.py'>,\n",
       " 'tornado.log': <module 'tornado.log' from '/home/user/helloCode/.myenv/lib/python3.8/site-packages/tornado/log.py'>,\n",
       " 'tornado.concurrent': <module 'tornado.concurrent' from '/home/user/helloCode/.myenv/lib/python3.8/site-packages/tornado/concurrent.py'>,\n",
       " 'tornado.ioloop': <module 'tornado.ioloop' from '/home/user/helloCode/.myenv/lib/python3.8/site-packages/tornado/ioloop.py'>,\n",
       " 'tornado.platform': <module 'tornado.platform' from '/home/user/helloCode/.myenv/lib/python3.8/site-packages/tornado/platform/__init__.py'>,\n",
       " 'tornado.gen': <module 'tornado.gen' from '/home/user/helloCode/.myenv/lib/python3.8/site-packages/tornado/gen.py'>,\n",
       " 'tornado.platform.asyncio': <module 'tornado.platform.asyncio' from '/home/user/helloCode/.myenv/lib/python3.8/site-packages/tornado/platform/asyncio.py'>,\n",
       " 'zmq.eventloop.ioloop': <module 'zmq.eventloop.ioloop' from '/home/user/helloCode/.myenv/lib/python3.8/site-packages/zmq/eventloop/ioloop.py'>,\n",
       " 'zmq.eventloop': <module 'zmq.eventloop' from '/home/user/helloCode/.myenv/lib/python3.8/site-packages/zmq/eventloop/__init__.py'>,\n",
       " 'zmq.eventloop.zmqstream': <module 'zmq.eventloop.zmqstream' from '/home/user/helloCode/.myenv/lib/python3.8/site-packages/zmq/eventloop/zmqstream.py'>,\n",
       " 'jupyter_client.adapter': <module 'jupyter_client.adapter' from '/home/user/helloCode/.myenv/lib/python3.8/site-packages/jupyter_client/adapter.py'>,\n",
       " 'dateutil._version': <module 'dateutil._version' from '/home/user/helloCode/.myenv/lib/python3.8/site-packages/dateutil/_version.py'>,\n",
       " 'dateutil': <module 'dateutil' from '/home/user/helloCode/.myenv/lib/python3.8/site-packages/dateutil/__init__.py'>,\n",
       " '__future__': <module '__future__' from '/usr/lib/python3.8/__future__.py'>,\n",
       " 'calendar': <module 'calendar' from '/usr/lib/python3.8/calendar.py'>,\n",
       " 'six': <module 'six' from '/home/user/helloCode/.myenv/lib/python3.8/site-packages/six.py'>,\n",
       " '_decimal': <module '_decimal' from '/usr/lib/python3.8/lib-dynload/_decimal.cpython-38-x86_64-linux-gnu.so'>,\n",
       " 'decimal': <module 'decimal' from '/usr/lib/python3.8/decimal.py'>,\n",
       " 'dateutil._common': <module 'dateutil._common' from '/home/user/helloCode/.myenv/lib/python3.8/site-packages/dateutil/_common.py'>,\n",
       " 'dateutil.relativedelta': <module 'dateutil.relativedelta' from '/home/user/helloCode/.myenv/lib/python3.8/site-packages/dateutil/relativedelta.py'>,\n",
       " 'six.moves': <module 'six.moves' (<six._SixMetaPathImporter object at 0x7f37cc60afd0>)>,\n",
       " 'dateutil.tz._common': <module 'dateutil.tz._common' from '/home/user/helloCode/.myenv/lib/python3.8/site-packages/dateutil/tz/_common.py'>,\n",
       " 'dateutil.tz._factories': <module 'dateutil.tz._factories' from '/home/user/helloCode/.myenv/lib/python3.8/site-packages/dateutil/tz/_factories.py'>,\n",
       " 'dateutil.tz.tz': <module 'dateutil.tz.tz' from '/home/user/helloCode/.myenv/lib/python3.8/site-packages/dateutil/tz/tz.py'>,\n",
       " 'dateutil.tz': <module 'dateutil.tz' from '/home/user/helloCode/.myenv/lib/python3.8/site-packages/dateutil/tz/__init__.py'>,\n",
       " 'dateutil.parser._parser': <module 'dateutil.parser._parser' from '/home/user/helloCode/.myenv/lib/python3.8/site-packages/dateutil/parser/_parser.py'>,\n",
       " 'dateutil.parser.isoparser': <module 'dateutil.parser.isoparser' from '/home/user/helloCode/.myenv/lib/python3.8/site-packages/dateutil/parser/isoparser.py'>,\n",
       " 'dateutil.parser': <module 'dateutil.parser' from '/home/user/helloCode/.myenv/lib/python3.8/site-packages/dateutil/parser/__init__.py'>,\n",
       " '_strptime': <module '_strptime' from '/usr/lib/python3.8/_strptime.py'>,\n",
       " 'jupyter_client.jsonutil': <module 'jupyter_client.jsonutil' from '/home/user/helloCode/.myenv/lib/python3.8/site-packages/jupyter_client/jsonutil.py'>,\n",
       " 'jupyter_client.session': <module 'jupyter_client.session' from '/home/user/helloCode/.myenv/lib/python3.8/site-packages/jupyter_client/session.py'>,\n",
       " 'jupyter_client.channels': <module 'jupyter_client.channels' from '/home/user/helloCode/.myenv/lib/python3.8/site-packages/jupyter_client/channels.py'>,\n",
       " 'termios': <module 'termios' from '/usr/lib/python3.8/lib-dynload/termios.cpython-38-x86_64-linux-gnu.so'>,\n",
       " 'getpass': <module 'getpass' from '/usr/lib/python3.8/getpass.py'>,\n",
       " 'jupyter_client.clientabc': <module 'jupyter_client.clientabc' from '/home/user/helloCode/.myenv/lib/python3.8/site-packages/jupyter_client/clientabc.py'>,\n",
       " 'fnmatch': <module 'fnmatch' from '/usr/lib/python3.8/fnmatch.py'>,\n",
       " 'glob': <module 'glob' from '/usr/lib/python3.8/glob.py'>,\n",
       " '_compression': <module '_compression' from '/usr/lib/python3.8/_compression.py'>,\n",
       " '_bz2': <module '_bz2' from '/usr/lib/python3.8/lib-dynload/_bz2.cpython-38-x86_64-linux-gnu.so'>,\n",
       " 'bz2': <module 'bz2' from '/usr/lib/python3.8/bz2.py'>,\n",
       " '_lzma': <module '_lzma' from '/usr/lib/python3.8/lib-dynload/_lzma.cpython-38-x86_64-linux-gnu.so'>,\n",
       " 'lzma': <module 'lzma' from '/usr/lib/python3.8/lzma.py'>,\n",
       " 'pwd': <module 'pwd' (built-in)>,\n",
       " 'grp': <module 'grp' (built-in)>,\n",
       " 'shutil': <module 'shutil' from '/usr/lib/python3.8/shutil.py'>,\n",
       " 'tempfile': <module 'tempfile' from '/usr/lib/python3.8/tempfile.py'>,\n",
       " 'jupyter_core.version': <module 'jupyter_core.version' from '/home/user/helloCode/.myenv/lib/python3.8/site-packages/jupyter_core/version.py'>,\n",
       " 'jupyter_core': <module 'jupyter_core' from '/home/user/helloCode/.myenv/lib/python3.8/site-packages/jupyter_core/__init__.py'>,\n",
       " 'ntpath': <module 'ntpath' from '/usr/lib/python3.8/ntpath.py'>,\n",
       " 'pathlib': <module 'pathlib' from '/usr/lib/python3.8/pathlib.py'>,\n",
       " 'jupyter_core.paths': <module 'jupyter_core.paths' from '/home/user/helloCode/.myenv/lib/python3.8/site-packages/jupyter_core/paths.py'>,\n",
       " 'jupyter_client.localinterfaces': <module 'jupyter_client.localinterfaces' from '/home/user/helloCode/.myenv/lib/python3.8/site-packages/jupyter_client/localinterfaces.py'>,\n",
       " 'jupyter_client.utils': <module 'jupyter_client.utils' from '/home/user/helloCode/.myenv/lib/python3.8/site-packages/jupyter_client/utils.py'>,\n",
       " 'jupyter_client.connect': <module 'jupyter_client.connect' from '/home/user/helloCode/.myenv/lib/python3.8/site-packages/jupyter_client/connect.py'>,\n",
       " 'jupyter_client.client': <module 'jupyter_client.client' from '/home/user/helloCode/.myenv/lib/python3.8/site-packages/jupyter_client/client.py'>,\n",
       " 'jupyter_client.asynchronous.client': <module 'jupyter_client.asynchronous.client' from '/home/user/helloCode/.myenv/lib/python3.8/site-packages/jupyter_client/asynchronous/client.py'>,\n",
       " 'jupyter_client.asynchronous': <module 'jupyter_client.asynchronous' from '/home/user/helloCode/.myenv/lib/python3.8/site-packages/jupyter_client/asynchronous/__init__.py'>,\n",
       " 'jupyter_client.blocking.client': <module 'jupyter_client.blocking.client' from '/home/user/helloCode/.myenv/lib/python3.8/site-packages/jupyter_client/blocking/client.py'>,\n",
       " 'jupyter_client.blocking': <module 'jupyter_client.blocking' from '/home/user/helloCode/.myenv/lib/python3.8/site-packages/jupyter_client/blocking/__init__.py'>,\n",
       " 'jupyter_client.launcher': <module 'jupyter_client.launcher' from '/home/user/helloCode/.myenv/lib/python3.8/site-packages/jupyter_client/launcher.py'>,\n",
       " '_uuid': <module '_uuid' from '/usr/lib/python3.8/lib-dynload/_uuid.cpython-38-x86_64-linux-gnu.so'>,\n",
       " 'uuid': <module 'uuid' from '/usr/lib/python3.8/uuid.py'>,\n",
       " 'jupyter_client.managerabc': <module 'jupyter_client.managerabc' from '/home/user/helloCode/.myenv/lib/python3.8/site-packages/jupyter_client/managerabc.py'>,\n",
       " 'zipfile': <module 'zipfile' from '/usr/lib/python3.8/zipfile.py'>,\n",
       " 'configparser': <module 'configparser' from '/usr/lib/python3.8/configparser.py'>,\n",
       " 'entrypoints': <module 'entrypoints' from '/home/user/helloCode/.myenv/lib/python3.8/site-packages/entrypoints.py'>,\n",
       " 'jupyter_client.provisioning.provisioner_base': <module 'jupyter_client.provisioning.provisioner_base' from '/home/user/helloCode/.myenv/lib/python3.8/site-packages/jupyter_client/provisioning/provisioner_base.py'>,\n",
       " 'jupyter_client.provisioning.factory': <module 'jupyter_client.provisioning.factory' from '/home/user/helloCode/.myenv/lib/python3.8/site-packages/jupyter_client/provisioning/factory.py'>,\n",
       " 'jupyter_client.provisioning.local_provisioner': <module 'jupyter_client.provisioning.local_provisioner' from '/home/user/helloCode/.myenv/lib/python3.8/site-packages/jupyter_client/provisioning/local_provisioner.py'>,\n",
       " 'jupyter_client.provisioning': <module 'jupyter_client.provisioning' from '/home/user/helloCode/.myenv/lib/python3.8/site-packages/jupyter_client/provisioning/__init__.py'>,\n",
       " 'jupyter_client.kernelspec': <module 'jupyter_client.kernelspec' from '/home/user/helloCode/.myenv/lib/python3.8/site-packages/jupyter_client/kernelspec.py'>,\n",
       " 'jupyter_client.manager': <module 'jupyter_client.manager' from '/home/user/helloCode/.myenv/lib/python3.8/site-packages/jupyter_client/manager.py'>,\n",
       " 'jupyter_client.multikernelmanager': <module 'jupyter_client.multikernelmanager' from '/home/user/helloCode/.myenv/lib/python3.8/site-packages/jupyter_client/multikernelmanager.py'>,\n",
       " 'jupyter_client': <module 'jupyter_client' from '/home/user/helloCode/.myenv/lib/python3.8/site-packages/jupyter_client/__init__.py'>,\n",
       " 'ipykernel.connect': <module 'ipykernel.connect' from '/home/user/helloCode/.myenv/lib/python3.8/site-packages/ipykernel/connect.py'>,\n",
       " 'ipykernel': <module 'ipykernel' from '/home/user/helloCode/.myenv/lib/python3.8/site-packages/ipykernel/__init__.py'>,\n",
       " 'IPython.core': <module 'IPython.core' from '/home/user/helloCode/.myenv/lib/python3.8/site-packages/IPython/core/__init__.py'>,\n",
       " 'IPython.core.getipython': <module 'IPython.core.getipython' from '/home/user/helloCode/.myenv/lib/python3.8/site-packages/IPython/core/getipython.py'>,\n",
       " 'IPython.core.release': <module 'IPython.core.release' from '/home/user/helloCode/.myenv/lib/python3.8/site-packages/IPython/core/release.py'>,\n",
       " 'sysconfig': <module 'sysconfig' from '/usr/lib/python3.8/sysconfig.py'>,\n",
       " '_sysconfigdata__x86_64-linux-gnu': <module '_sysconfigdata__x86_64-linux-gnu' from '/usr/lib/python3.8/_sysconfigdata__x86_64-linux-gnu.py'>,\n",
       " 'pydoc': <module 'pydoc' from '/usr/lib/python3.8/pydoc.py'>,\n",
       " 'executing.executing': <module 'executing.executing' from '/home/user/helloCode/.myenv/lib/python3.8/site-packages/executing/executing.py'>,\n",
       " 'executing.version': <module 'executing.version' from '/home/user/helloCode/.myenv/lib/python3.8/site-packages/executing/version.py'>,\n",
       " 'executing': <module 'executing' from '/home/user/helloCode/.myenv/lib/python3.8/site-packages/executing/__init__.py'>,\n",
       " 'asttokens.line_numbers': <module 'asttokens.line_numbers' from '/home/user/helloCode/.myenv/lib/python3.8/site-packages/asttokens/line_numbers.py'>,\n",
       " 'asttokens.util': <module 'asttokens.util' from '/home/user/helloCode/.myenv/lib/python3.8/site-packages/asttokens/util.py'>,\n",
       " 'asttokens.asttokens': <module 'asttokens.asttokens' from '/home/user/helloCode/.myenv/lib/python3.8/site-packages/asttokens/asttokens.py'>,\n",
       " 'asttokens': <module 'asttokens' from '/home/user/helloCode/.myenv/lib/python3.8/site-packages/asttokens/__init__.py'>,\n",
       " 'fractions': <module 'fractions' from '/usr/lib/python3.8/fractions.py'>,\n",
       " 'pure_eval.utils': <module 'pure_eval.utils' from '/home/user/helloCode/.myenv/lib/python3.8/site-packages/pure_eval/utils.py'>,\n",
       " 'pure_eval.my_getattr_static': <module 'pure_eval.my_getattr_static' from '/home/user/helloCode/.myenv/lib/python3.8/site-packages/pure_eval/my_getattr_static.py'>,\n",
       " 'pure_eval.core': <module 'pure_eval.core' from '/home/user/helloCode/.myenv/lib/python3.8/site-packages/pure_eval/core.py'>,\n",
       " 'pure_eval.version': <module 'pure_eval.version' from '/home/user/helloCode/.myenv/lib/python3.8/site-packages/pure_eval/version.py'>,\n",
       " 'pure_eval': <module 'pure_eval' from '/home/user/helloCode/.myenv/lib/python3.8/site-packages/pure_eval/__init__.py'>,\n",
       " 'stack_data.utils': <module 'stack_data.utils' from '/home/user/helloCode/.myenv/lib/python3.8/site-packages/stack_data/utils.py'>,\n",
       " 'stack_data.core': <module 'stack_data.core' from '/home/user/helloCode/.myenv/lib/python3.8/site-packages/stack_data/core.py'>,\n",
       " 'stack_data.formatting': <module 'stack_data.formatting' from '/home/user/helloCode/.myenv/lib/python3.8/site-packages/stack_data/formatting.py'>,\n",
       " 'stack_data.serializing': <module 'stack_data.serializing' from '/home/user/helloCode/.myenv/lib/python3.8/site-packages/stack_data/serializing.py'>,\n",
       " 'stack_data.version': <module 'stack_data.version' from '/home/user/helloCode/.myenv/lib/python3.8/site-packages/stack_data/version.py'>,\n",
       " 'stack_data': <module 'stack_data' from '/home/user/helloCode/.myenv/lib/python3.8/site-packages/stack_data/__init__.py'>,\n",
       " 'pygments': <module 'pygments' from '/home/user/helloCode/.myenv/lib/python3.8/site-packages/pygments/__init__.py'>,\n",
       " 'pygments.formatters._mapping': <module 'pygments.formatters._mapping' from '/home/user/helloCode/.myenv/lib/python3.8/site-packages/pygments/formatters/_mapping.py'>,\n",
       " 'pygments.plugin': <module 'pygments.plugin' from '/home/user/helloCode/.myenv/lib/python3.8/site-packages/pygments/plugin.py'>,\n",
       " 'pygments.util': <module 'pygments.util' from '/home/user/helloCode/.myenv/lib/python3.8/site-packages/pygments/util.py'>,\n",
       " 'pygments.formatters': <module 'pygments.formatters' from '/home/user/helloCode/.myenv/lib/python3.8/site-packages/pygments/formatters/__init__.py'>,\n",
       " 'pygments.styles': <module 'pygments.styles' from '/home/user/helloCode/.myenv/lib/python3.8/site-packages/pygments/styles/__init__.py'>,\n",
       " 'pygments.formatter': <module 'pygments.formatter' from '/home/user/helloCode/.myenv/lib/python3.8/site-packages/pygments/formatter.py'>,\n",
       " 'pygments.console': <module 'pygments.console' from '/home/user/helloCode/.myenv/lib/python3.8/site-packages/pygments/console.py'>,\n",
       " 'pygments.token': <module 'pygments.token' from '/home/user/helloCode/.myenv/lib/python3.8/site-packages/pygments/token.py'>,\n",
       " 'pygments.style': <module 'pygments.style' from '/home/user/helloCode/.myenv/lib/python3.8/site-packages/pygments/style.py'>,\n",
       " 'pygments.formatters.terminal256': <module 'pygments.formatters.terminal256' from '/home/user/helloCode/.myenv/lib/python3.8/site-packages/pygments/formatters/terminal256.py'>,\n",
       " 'IPython.utils': <module 'IPython.utils' from '/home/user/helloCode/.myenv/lib/python3.8/site-packages/IPython/utils/__init__.py'>,\n",
       " 'IPython.utils.ipstruct': <module 'IPython.utils.ipstruct' from '/home/user/helloCode/.myenv/lib/python3.8/site-packages/IPython/utils/ipstruct.py'>,\n",
       " 'IPython.utils.coloransi': <module 'IPython.utils.coloransi' from '/home/user/helloCode/.myenv/lib/python3.8/site-packages/IPython/utils/coloransi.py'>,\n",
       " 'IPython.utils.colorable': <module 'IPython.utils.colorable' from '/home/user/helloCode/.myenv/lib/python3.8/site-packages/IPython/utils/colorable.py'>,\n",
       " 'IPython.utils.PyColorize': <module 'IPython.utils.PyColorize' from '/home/user/helloCode/.myenv/lib/python3.8/site-packages/IPython/utils/PyColorize.py'>,\n",
       " 'IPython.utils.encoding': <module 'IPython.utils.encoding' from '/home/user/helloCode/.myenv/lib/python3.8/site-packages/IPython/utils/encoding.py'>,\n",
       " 'IPython.utils.py3compat': <module 'IPython.utils.py3compat' from '/home/user/helloCode/.myenv/lib/python3.8/site-packages/IPython/utils/py3compat.py'>,\n",
       " 'IPython.core.excolors': <module 'IPython.core.excolors' from '/home/user/helloCode/.myenv/lib/python3.8/site-packages/IPython/core/excolors.py'>,\n",
       " 'cmd': <module 'cmd' from '/usr/lib/python3.8/cmd.py'>,\n",
       " 'bdb': <module 'bdb' from '/usr/lib/python3.8/bdb.py'>,\n",
       " 'codeop': <module 'codeop' from '/usr/lib/python3.8/codeop.py'>,\n",
       " 'code': <module 'code' from '/usr/lib/python3.8/code.py'>,\n",
       " 'pdb': <module 'pdb' from '/usr/lib/python3.8/pdb.py'>,\n",
       " 'IPython.core.debugger': <module 'IPython.core.debugger' from '/home/user/helloCode/.myenv/lib/python3.8/site-packages/IPython/core/debugger.py'>,\n",
       " 'IPython.core.display_trap': <module 'IPython.core.display_trap' from '/home/user/helloCode/.myenv/lib/python3.8/site-packages/IPython/core/display_trap.py'>,\n",
       " 'pexpect.exceptions': <module 'pexpect.exceptions' from '/home/user/helloCode/.myenv/lib/python3.8/site-packages/pexpect/exceptions.py'>,\n",
       " 'pexpect.utils': <module 'pexpect.utils' from '/home/user/helloCode/.myenv/lib/python3.8/site-packages/pexpect/utils.py'>,\n",
       " 'pexpect.expect': <module 'pexpect.expect' from '/home/user/helloCode/.myenv/lib/python3.8/site-packages/pexpect/expect.py'>,\n",
       " 'tty': <module 'tty' from '/usr/lib/python3.8/tty.py'>,\n",
       " 'pty': <module 'pty' from '/usr/lib/python3.8/pty.py'>,\n",
       " 'fcntl': <module 'fcntl' (built-in)>,\n",
       " 'resource': <module 'resource' from '/usr/lib/python3.8/lib-dynload/resource.cpython-38-x86_64-linux-gnu.so'>,\n",
       " 'ptyprocess.util': <module 'ptyprocess.util' from '/home/user/helloCode/.myenv/lib/python3.8/site-packages/ptyprocess/util.py'>,\n",
       " 'ptyprocess.ptyprocess': <module 'ptyprocess.ptyprocess' from '/home/user/helloCode/.myenv/lib/python3.8/site-packages/ptyprocess/ptyprocess.py'>,\n",
       " 'ptyprocess': <module 'ptyprocess' from '/home/user/helloCode/.myenv/lib/python3.8/site-packages/ptyprocess/__init__.py'>,\n",
       " 'pexpect.spawnbase': <module 'pexpect.spawnbase' from '/home/user/helloCode/.myenv/lib/python3.8/site-packages/pexpect/spawnbase.py'>,\n",
       " 'pexpect.pty_spawn': <module 'pexpect.pty_spawn' from '/home/user/helloCode/.myenv/lib/python3.8/site-packages/pexpect/pty_spawn.py'>,\n",
       " 'pexpect.run': <module 'pexpect.run' from '/home/user/helloCode/.myenv/lib/python3.8/site-packages/pexpect/run.py'>,\n",
       " 'pexpect': <module 'pexpect' from '/home/user/helloCode/.myenv/lib/python3.8/site-packages/pexpect/__init__.py'>,\n",
       " 'shlex': <module 'shlex' from '/usr/lib/python3.8/shlex.py'>,\n",
       " 'IPython.utils._process_common': <module 'IPython.utils._process_common' from '/home/user/helloCode/.myenv/lib/python3.8/site-packages/IPython/utils/_process_common.py'>,\n",
       " 'IPython.utils._process_posix': <module 'IPython.utils._process_posix' from '/home/user/helloCode/.myenv/lib/python3.8/site-packages/IPython/utils/_process_posix.py'>,\n",
       " 'IPython.utils.process': <module 'IPython.utils.process' from '/home/user/helloCode/.myenv/lib/python3.8/site-packages/IPython/utils/process.py'>,\n",
       " 'IPython.utils.decorators': <module 'IPython.utils.decorators' from '/home/user/helloCode/.myenv/lib/python3.8/site-packages/IPython/utils/decorators.py'>,\n",
       " 'IPython.utils.path': <module 'IPython.utils.path' from '/home/user/helloCode/.myenv/lib/python3.8/site-packages/IPython/utils/path.py'>,\n",
       " 'IPython.utils.terminal': <module 'IPython.utils.terminal' from '/home/user/helloCode/.myenv/lib/python3.8/site-packages/IPython/utils/terminal.py'>,\n",
       " 'IPython.core.ultratb': <module 'IPython.core.ultratb' from '/home/user/helloCode/.myenv/lib/python3.8/site-packages/IPython/core/ultratb.py'>,\n",
       " 'IPython.utils._sysinfo': <module 'IPython.utils._sysinfo' from '/home/user/helloCode/.myenv/lib/python3.8/site-packages/IPython/utils/_sysinfo.py'>,\n",
       " 'IPython.utils.sysinfo': <module 'IPython.utils.sysinfo' from '/home/user/helloCode/.myenv/lib/python3.8/site-packages/IPython/utils/sysinfo.py'>,\n",
       " 'IPython.core.crashhandler': <module 'IPython.core.crashhandler' from '/home/user/helloCode/.myenv/lib/python3.8/site-packages/IPython/core/crashhandler.py'>,\n",
       " 'IPython.utils.importstring': <module 'IPython.utils.importstring' from '/home/user/helloCode/.myenv/lib/python3.8/site-packages/IPython/utils/importstring.py'>,\n",
       " 'IPython.paths': <module 'IPython.paths' from '/home/user/helloCode/.myenv/lib/python3.8/site-packages/IPython/paths.py'>,\n",
       " 'IPython.core.profiledir': <module 'IPython.core.profiledir' from '/home/user/helloCode/.myenv/lib/python3.8/site-packages/IPython/core/profiledir.py'>,\n",
       " 'IPython.core.application': <module 'IPython.core.application' from '/home/user/helloCode/.myenv/lib/python3.8/site-packages/IPython/core/application.py'>,\n",
       " 'IPython.terminal': <module 'IPython.terminal' from '/home/user/helloCode/.myenv/lib/python3.8/site-packages/IPython/terminal/__init__.py'>,\n",
       " 'IPython.core.compilerop': <module 'IPython.core.compilerop' from '/home/user/helloCode/.myenv/lib/python3.8/site-packages/IPython/core/compilerop.py'>,\n",
       " 'IPython.core.error': <module 'IPython.core.error' from '/home/user/helloCode/.myenv/lib/python3.8/site-packages/IPython/core/error.py'>,\n",
       " 'IPython.utils.text': <module 'IPython.utils.text' from '/home/user/helloCode/.myenv/lib/python3.8/site-packages/IPython/utils/text.py'>,\n",
       " 'IPython.core.magic_arguments': <module 'IPython.core.magic_arguments' from '/home/user/helloCode/.myenv/lib/python3.8/site-packages/IPython/core/magic_arguments.py'>,\n",
       " 'getopt': <module 'getopt' from '/usr/lib/python3.8/getopt.py'>,\n",
       " 'IPython.core.display_functions': <module 'IPython.core.display_functions' from '/home/user/helloCode/.myenv/lib/python3.8/site-packages/IPython/core/display_functions.py'>,\n",
       " 'mimetypes': <module 'mimetypes' from '/usr/lib/python3.8/mimetypes.py'>,\n",
       " 'IPython.testing': <module 'IPython.testing' from '/home/user/helloCode/.myenv/lib/python3.8/site-packages/IPython/testing/__init__.py'>,\n",
       " 'IPython.testing.skipdoctest': <module 'IPython.testing.skipdoctest' from '/home/user/helloCode/.myenv/lib/python3.8/site-packages/IPython/testing/skipdoctest.py'>,\n",
       " 'IPython.core.display': <module 'IPython.core.display' from '/home/user/helloCode/.myenv/lib/python3.8/site-packages/IPython/core/display.py'>,\n",
       " 'IPython.lib': <module 'IPython.lib' from '/home/user/helloCode/.myenv/lib/python3.8/site-packages/IPython/lib/__init__.py'>,\n",
       " 'IPython.lib.display': <module 'IPython.lib.display' from '/home/user/helloCode/.myenv/lib/python3.8/site-packages/IPython/lib/display.py'>,\n",
       " 'IPython.display': <module 'IPython.display' from '/home/user/helloCode/.myenv/lib/python3.8/site-packages/IPython/display.py'>,\n",
       " 'IPython.utils.data': <module 'IPython.utils.data' from '/home/user/helloCode/.myenv/lib/python3.8/site-packages/IPython/utils/data.py'>,\n",
       " 'IPython.core.page': <module 'IPython.core.page' from '/home/user/helloCode/.myenv/lib/python3.8/site-packages/IPython/core/page.py'>,\n",
       " 'IPython.lib.pretty': <module 'IPython.lib.pretty' from '/home/user/helloCode/.myenv/lib/python3.8/site-packages/IPython/lib/pretty.py'>,\n",
       " 'IPython.utils.openpy': <module 'IPython.utils.openpy' from '/home/user/helloCode/.myenv/lib/python3.8/site-packages/IPython/utils/openpy.py'>,\n",
       " 'IPython.utils.dir2': <module 'IPython.utils.dir2' from '/home/user/helloCode/.myenv/lib/python3.8/site-packages/IPython/utils/dir2.py'>,\n",
       " 'IPython.utils.wildcard': <module 'IPython.utils.wildcard' from '/home/user/helloCode/.myenv/lib/python3.8/site-packages/IPython/utils/wildcard.py'>,\n",
       " 'pygments.lexers._mapping': <module 'pygments.lexers._mapping' from '/home/user/helloCode/.myenv/lib/python3.8/site-packages/pygments/lexers/_mapping.py'>,\n",
       " 'pygments.modeline': <module 'pygments.modeline' from '/home/user/helloCode/.myenv/lib/python3.8/site-packages/pygments/modeline.py'>,\n",
       " 'pygments.lexers': <module 'pygments.lexers' from '/home/user/helloCode/.myenv/lib/python3.8/site-packages/pygments/lexers/__init__.py'>,\n",
       " 'pygments.filter': <module 'pygments.filter' from '/home/user/helloCode/.myenv/lib/python3.8/site-packages/pygments/filter.py'>,\n",
       " 'pygments.filters': <module 'pygments.filters' from '/home/user/helloCode/.myenv/lib/python3.8/site-packages/pygments/filters/__init__.py'>,\n",
       " 'pygments.regexopt': <module 'pygments.regexopt' from '/home/user/helloCode/.myenv/lib/python3.8/site-packages/pygments/regexopt.py'>,\n",
       " 'pygments.lexer': <module 'pygments.lexer' from '/home/user/helloCode/.myenv/lib/python3.8/site-packages/pygments/lexer.py'>,\n",
       " 'pygments.unistring': <module 'pygments.unistring' from '/home/user/helloCode/.myenv/lib/python3.8/site-packages/pygments/unistring.py'>,\n",
       " 'pygments.lexers.python': <module 'pygments.lexers.python' from '/home/user/helloCode/.myenv/lib/python3.8/site-packages/pygments/lexers/python.py'>,\n",
       " 'pygments.formatters.html': <module 'pygments.formatters.html' from '/home/user/helloCode/.myenv/lib/python3.8/site-packages/pygments/formatters/html.py'>,\n",
       " 'IPython.core.oinspect': <module 'IPython.core.oinspect' from '/home/user/helloCode/.myenv/lib/python3.8/site-packages/IPython/core/oinspect.py'>,\n",
       " 'IPython.core.inputtransformer2': <module 'IPython.core.inputtransformer2' from '/home/user/helloCode/.myenv/lib/python3.8/site-packages/IPython/core/inputtransformer2.py'>,\n",
       " 'IPython.core.magic': <module 'IPython.core.magic' from '/home/user/helloCode/.myenv/lib/python3.8/site-packages/IPython/core/magic.py'>,\n",
       " 'pickleshare': <module 'pickleshare' from '/home/user/helloCode/.myenv/lib/python3.8/site-packages/pickleshare.py'>,\n",
       " 'IPython.core.hooks': <module 'IPython.core.hooks' from '/home/user/helloCode/.myenv/lib/python3.8/site-packages/IPython/core/hooks.py'>,\n",
       " 'IPython.core.autocall': <module 'IPython.core.autocall' from '/home/user/helloCode/.myenv/lib/python3.8/site-packages/IPython/core/autocall.py'>,\n",
       " 'IPython.core.macro': <module 'IPython.core.macro' from '/home/user/helloCode/.myenv/lib/python3.8/site-packages/IPython/core/macro.py'>,\n",
       " 'IPython.core.splitinput': <module 'IPython.core.splitinput' from '/home/user/helloCode/.myenv/lib/python3.8/site-packages/IPython/core/splitinput.py'>,\n",
       " 'IPython.core.prefilter': <module 'IPython.core.prefilter' from '/home/user/helloCode/.myenv/lib/python3.8/site-packages/IPython/core/prefilter.py'>,\n",
       " 'IPython.core.alias': <module 'IPython.core.alias' from '/home/user/helloCode/.myenv/lib/python3.8/site-packages/IPython/core/alias.py'>,\n",
       " 'IPython.core.builtin_trap': <module 'IPython.core.builtin_trap' from '/home/user/helloCode/.myenv/lib/python3.8/site-packages/IPython/core/builtin_trap.py'>,\n",
       " 'IPython.core.displayhook': <module 'IPython.core.displayhook' from '/home/user/helloCode/.myenv/lib/python3.8/site-packages/IPython/core/displayhook.py'>,\n",
       " 'IPython.core.displaypub': <module 'IPython.core.displaypub' from '/home/user/helloCode/.myenv/lib/python3.8/site-packages/IPython/core/displaypub.py'>,\n",
       " 'backcall.backcall': <module 'backcall.backcall' from '/home/user/helloCode/.myenv/lib/python3.8/site-packages/backcall/backcall.py'>,\n",
       " 'backcall': <module 'backcall' from '/home/user/helloCode/.myenv/lib/python3.8/site-packages/backcall/__init__.py'>,\n",
       " 'IPython.core.events': <module 'IPython.core.events' from '/home/user/helloCode/.myenv/lib/python3.8/site-packages/IPython/core/events.py'>,\n",
       " 'IPython.core.extensions': <module 'IPython.core.extensions' from '/home/user/helloCode/.myenv/lib/python3.8/site-packages/IPython/core/extensions.py'>,\n",
       " 'decorator': <module 'decorator' from '/home/user/helloCode/.myenv/lib/python3.8/site-packages/decorator.py'>,\n",
       " 'IPython.utils.sentinel': <module 'IPython.utils.sentinel' from '/home/user/helloCode/.myenv/lib/python3.8/site-packages/IPython/utils/sentinel.py'>,\n",
       " 'IPython.core.formatters': <module 'IPython.core.formatters' from '/home/user/helloCode/.myenv/lib/python3.8/site-packages/IPython/core/formatters.py'>,\n",
       " '_sqlite3': <module '_sqlite3' from '/usr/lib/python3.8/lib-dynload/_sqlite3.cpython-38-x86_64-linux-gnu.so'>,\n",
       " 'sqlite3.dbapi2': <module 'sqlite3.dbapi2' from '/usr/lib/python3.8/sqlite3/dbapi2.py'>,\n",
       " 'sqlite3': <module 'sqlite3' from '/usr/lib/python3.8/sqlite3/__init__.py'>,\n",
       " 'IPython.core.history': <module 'IPython.core.history' from '/home/user/helloCode/.myenv/lib/python3.8/site-packages/IPython/core/history.py'>,\n",
       " 'IPython.core.logger': <module 'IPython.core.logger' from '/home/user/helloCode/.myenv/lib/python3.8/site-packages/IPython/core/logger.py'>,\n",
       " 'IPython.core.payload': <module 'IPython.core.payload' from '/home/user/helloCode/.myenv/lib/python3.8/site-packages/IPython/core/payload.py'>,\n",
       " 'IPython.core.usage': <module 'IPython.core.usage' from '/home/user/helloCode/.myenv/lib/python3.8/site-packages/IPython/core/usage.py'>,\n",
       " 'IPython.utils.capture': <module 'IPython.utils.capture' from '/home/user/helloCode/.myenv/lib/python3.8/site-packages/IPython/utils/capture.py'>,\n",
       " 'IPython.utils.io': <module 'IPython.utils.io' from '/home/user/helloCode/.myenv/lib/python3.8/site-packages/IPython/utils/io.py'>,\n",
       " 'IPython.utils.strdispatch': <module 'IPython.utils.strdispatch' from '/home/user/helloCode/.myenv/lib/python3.8/site-packages/IPython/utils/strdispatch.py'>,\n",
       " 'IPython.utils.syspathcontext': <module 'IPython.utils.syspathcontext' from '/home/user/helloCode/.myenv/lib/python3.8/site-packages/IPython/utils/syspathcontext.py'>,\n",
       " 'IPython.core.async_helpers': <module 'IPython.core.async_helpers' from '/home/user/helloCode/.myenv/lib/python3.8/site-packages/IPython/core/async_helpers.py'>,\n",
       " 'IPython.core.interactiveshell': <module 'IPython.core.interactiveshell' from '/home/user/helloCode/.myenv/lib/python3.8/site-packages/IPython/core/interactiveshell.py'>,\n",
       " 'prompt_toolkit.application.current': <module 'prompt_toolkit.application.current' from '/home/user/helloCode/.myenv/lib/python3.8/site-packages/prompt_toolkit/application/current.py'>,\n",
       " 'prompt_toolkit.eventloop.utils': <module 'prompt_toolkit.eventloop.utils' from '/home/user/helloCode/.myenv/lib/python3.8/site-packages/prompt_toolkit/eventloop/utils.py'>,\n",
       " 'prompt_toolkit.eventloop.async_generator': <module 'prompt_toolkit.eventloop.async_generator' from '/home/user/helloCode/.myenv/lib/python3.8/site-packages/prompt_toolkit/eventloop/async_generator.py'>,\n",
       " 'prompt_toolkit.eventloop.inputhook': <module 'prompt_toolkit.eventloop.inputhook' from '/home/user/helloCode/.myenv/lib/python3.8/site-packages/prompt_toolkit/eventloop/inputhook.py'>,\n",
       " 'prompt_toolkit.eventloop': <module 'prompt_toolkit.eventloop' from '/home/user/helloCode/.myenv/lib/python3.8/site-packages/prompt_toolkit/eventloop/__init__.py'>,\n",
       " 'prompt_toolkit.application.run_in_terminal': <module 'prompt_toolkit.application.run_in_terminal' from '/home/user/helloCode/.myenv/lib/python3.8/site-packages/prompt_toolkit/application/run_in_terminal.py'>,\n",
       " 'prompt_toolkit.selection': <module 'prompt_toolkit.selection' from '/home/user/helloCode/.myenv/lib/python3.8/site-packages/prompt_toolkit/selection.py'>,\n",
       " 'prompt_toolkit.clipboard.base': <module 'prompt_toolkit.clipboard.base' from '/home/user/helloCode/.myenv/lib/python3.8/site-packages/prompt_toolkit/clipboard/base.py'>,\n",
       " 'prompt_toolkit.clipboard.in_memory': <module 'prompt_toolkit.clipboard.in_memory' from '/home/user/helloCode/.myenv/lib/python3.8/site-packages/prompt_toolkit/clipboard/in_memory.py'>,\n",
       " 'prompt_toolkit.clipboard': <module 'prompt_toolkit.clipboard' from '/home/user/helloCode/.myenv/lib/python3.8/site-packages/prompt_toolkit/clipboard/__init__.py'>,\n",
       " 'prompt_toolkit.cache': <module 'prompt_toolkit.cache' from '/home/user/helloCode/.myenv/lib/python3.8/site-packages/prompt_toolkit/cache.py'>,\n",
       " 'prompt_toolkit.enums': <module 'prompt_toolkit.enums' from '/home/user/helloCode/.myenv/lib/python3.8/site-packages/prompt_toolkit/enums.py'>,\n",
       " 'prompt_toolkit.filters.base': <module 'prompt_toolkit.filters.base' from '/home/user/helloCode/.myenv/lib/python3.8/site-packages/prompt_toolkit/filters/base.py'>,\n",
       " 'prompt_toolkit.filters.app': <module 'prompt_toolkit.filters.app' from '/home/user/helloCode/.myenv/lib/python3.8/site-packages/prompt_toolkit/filters/app.py'>,\n",
       " 'prompt_toolkit.filters.cli': <module 'prompt_toolkit.filters.cli' from '/home/user/helloCode/.myenv/lib/python3.8/site-packages/prompt_toolkit/filters/cli.py'>,\n",
       " 'prompt_toolkit.filters.utils': <module 'prompt_toolkit.filters.utils' from '/home/user/helloCode/.myenv/lib/python3.8/site-packages/prompt_toolkit/filters/utils.py'>,\n",
       " 'prompt_toolkit.filters': <module 'prompt_toolkit.filters' from '/home/user/helloCode/.myenv/lib/python3.8/site-packages/prompt_toolkit/filters/__init__.py'>,\n",
       " 'prompt_toolkit.document': <module 'prompt_toolkit.document' from '/home/user/helloCode/.myenv/lib/python3.8/site-packages/prompt_toolkit/document.py'>,\n",
       " 'prompt_toolkit.auto_suggest': <module 'prompt_toolkit.auto_suggest' from '/home/user/helloCode/.myenv/lib/python3.8/site-packages/prompt_toolkit/auto_suggest.py'>,\n",
       " 'prompt_toolkit.keys': <module 'prompt_toolkit.keys' from '/home/user/helloCode/.myenv/lib/python3.8/site-packages/prompt_toolkit/keys.py'>,\n",
       " 'prompt_toolkit.key_binding.key_bindings': <module 'prompt_toolkit.key_binding.key_bindings' from '/home/user/helloCode/.myenv/lib/python3.8/site-packages/prompt_toolkit/key_binding/key_bindings.py'>,\n",
       " 'wcwidth.table_wide': <module 'wcwidth.table_wide' from '/home/user/helloCode/.myenv/lib/python3.8/site-packages/wcwidth/table_wide.py'>,\n",
       " 'wcwidth.table_zero': <module 'wcwidth.table_zero' from '/home/user/helloCode/.myenv/lib/python3.8/site-packages/wcwidth/table_zero.py'>,\n",
       " 'wcwidth.unicode_versions': <module 'wcwidth.unicode_versions' from '/home/user/helloCode/.myenv/lib/python3.8/site-packages/wcwidth/unicode_versions.py'>,\n",
       " 'wcwidth.wcwidth': <module 'wcwidth.wcwidth' from '/home/user/helloCode/.myenv/lib/python3.8/site-packages/wcwidth/wcwidth.py'>,\n",
       " 'wcwidth': <module 'wcwidth' from '/home/user/helloCode/.myenv/lib/python3.8/site-packages/wcwidth/__init__.py'>,\n",
       " 'prompt_toolkit.utils': <module 'prompt_toolkit.utils' from '/home/user/helloCode/.myenv/lib/python3.8/site-packages/prompt_toolkit/utils.py'>,\n",
       " 'prompt_toolkit.key_binding.key_processor': <module 'prompt_toolkit.key_binding.key_processor' from '/home/user/helloCode/.myenv/lib/python3.8/site-packages/prompt_toolkit/key_binding/key_processor.py'>,\n",
       " 'prompt_toolkit.key_binding': <module 'prompt_toolkit.key_binding' from '/home/user/helloCode/.myenv/lib/python3.8/site-packages/prompt_toolkit/key_binding/__init__.py'>,\n",
       " 'prompt_toolkit.key_binding.vi_state': <module 'prompt_toolkit.key_binding.vi_state' from '/home/user/helloCode/.myenv/lib/python3.8/site-packages/prompt_toolkit/key_binding/vi_state.py'>,\n",
       " 'prompt_toolkit.cursor_shapes': <module 'prompt_toolkit.cursor_shapes' from '/home/user/helloCode/.myenv/lib/python3.8/site-packages/prompt_toolkit/cursor_shapes.py'>,\n",
       " 'prompt_toolkit.data_structures': <module 'prompt_toolkit.data_structures' from '/home/user/helloCode/.myenv/lib/python3.8/site-packages/prompt_toolkit/data_structures.py'>,\n",
       " 'prompt_toolkit.styles.base': <module 'prompt_toolkit.styles.base' from '/home/user/helloCode/.myenv/lib/python3.8/site-packages/prompt_toolkit/styles/base.py'>,\n",
       " 'prompt_toolkit.styles.named_colors': <module 'prompt_toolkit.styles.named_colors' from '/home/user/helloCode/.myenv/lib/python3.8/site-packages/prompt_toolkit/styles/named_colors.py'>,\n",
       " 'prompt_toolkit.styles.style': <module 'prompt_toolkit.styles.style' from '/home/user/helloCode/.myenv/lib/python3.8/site-packages/prompt_toolkit/styles/style.py'>,\n",
       " 'prompt_toolkit.styles.defaults': <module 'prompt_toolkit.styles.defaults' from '/home/user/helloCode/.myenv/lib/python3.8/site-packages/prompt_toolkit/styles/defaults.py'>,\n",
       " 'prompt_toolkit.styles.pygments': <module 'prompt_toolkit.styles.pygments' from '/home/user/helloCode/.myenv/lib/python3.8/site-packages/prompt_toolkit/styles/pygments.py'>,\n",
       " 'colorsys': <module 'colorsys' from '/usr/lib/python3.8/colorsys.py'>,\n",
       " 'prompt_toolkit.styles.style_transformation': <module 'prompt_toolkit.styles.style_transformation' from '/home/user/helloCode/.myenv/lib/python3.8/site-packages/prompt_toolkit/styles/style_transformation.py'>,\n",
       " 'prompt_toolkit.styles': <module 'prompt_toolkit.styles' from '/home/user/helloCode/.myenv/lib/python3.8/site-packages/prompt_toolkit/styles/__init__.py'>,\n",
       " 'prompt_toolkit.output.color_depth': <module 'prompt_toolkit.output.color_depth' from '/home/user/helloCode/.myenv/lib/python3.8/site-packages/prompt_toolkit/output/color_depth.py'>,\n",
       " 'prompt_toolkit.output.base': <module 'prompt_toolkit.output.base' from '/home/user/helloCode/.myenv/lib/python3.8/site-packages/prompt_toolkit/output/base.py'>,\n",
       " 'prompt_toolkit.output.flush_stdout': <module 'prompt_toolkit.output.flush_stdout' from '/home/user/helloCode/.myenv/lib/python3.8/site-packages/prompt_toolkit/output/flush_stdout.py'>,\n",
       " 'prompt_toolkit.output.plain_text': <module 'prompt_toolkit.output.plain_text' from '/home/user/helloCode/.myenv/lib/python3.8/site-packages/prompt_toolkit/output/plain_text.py'>,\n",
       " 'prompt_toolkit.output.defaults': <module 'prompt_toolkit.output.defaults' from '/home/user/helloCode/.myenv/lib/python3.8/site-packages/prompt_toolkit/output/defaults.py'>,\n",
       " 'prompt_toolkit.output': <module 'prompt_toolkit.output' from '/home/user/helloCode/.myenv/lib/python3.8/site-packages/prompt_toolkit/output/__init__.py'>,\n",
       " 'prompt_toolkit.output.vt100': <module 'prompt_toolkit.output.vt100' from '/home/user/helloCode/.myenv/lib/python3.8/site-packages/prompt_toolkit/output/vt100.py'>,\n",
       " 'prompt_toolkit.mouse_events': <module 'prompt_toolkit.mouse_events' from '/home/user/helloCode/.myenv/lib/python3.8/site-packages/prompt_toolkit/mouse_events.py'>,\n",
       " 'prompt_toolkit.formatted_text.base': <module 'prompt_toolkit.formatted_text.base' from '/home/user/helloCode/.myenv/lib/python3.8/site-packages/prompt_toolkit/formatted_text/base.py'>,\n",
       " 'prompt_toolkit.formatted_text.ansi': <module 'prompt_toolkit.formatted_text.ansi' from '/home/user/helloCode/.myenv/lib/python3.8/site-packages/prompt_toolkit/formatted_text/ansi.py'>,\n",
       " 'xml': <module 'xml' from '/usr/lib/python3.8/xml/__init__.py'>,\n",
       " 'xml.dom.domreg': <module 'xml.dom.domreg' from '/usr/lib/python3.8/xml/dom/domreg.py'>,\n",
       " 'xml.dom': <module 'xml.dom' from '/usr/lib/python3.8/xml/dom/__init__.py'>,\n",
       " 'xml.dom.minicompat': <module 'xml.dom.minicompat' from '/usr/lib/python3.8/xml/dom/minicompat.py'>,\n",
       " 'xml.dom.NodeFilter': <module 'xml.dom.NodeFilter' from '/usr/lib/python3.8/xml/dom/NodeFilter.py'>,\n",
       " 'xml.dom.xmlbuilder': <module 'xml.dom.xmlbuilder' from '/usr/lib/python3.8/xml/dom/xmlbuilder.py'>,\n",
       " 'xml.dom.minidom': <module 'xml.dom.minidom' from '/usr/lib/python3.8/xml/dom/minidom.py'>,\n",
       " 'prompt_toolkit.formatted_text.html': <module 'prompt_toolkit.formatted_text.html' from '/home/user/helloCode/.myenv/lib/python3.8/site-packages/prompt_toolkit/formatted_text/html.py'>,\n",
       " 'prompt_toolkit.formatted_text.pygments': <module 'prompt_toolkit.formatted_text.pygments' from '/home/user/helloCode/.myenv/lib/python3.8/site-packages/prompt_toolkit/formatted_text/pygments.py'>,\n",
       " 'prompt_toolkit.formatted_text.utils': <module 'prompt_toolkit.formatted_text.utils' from '/home/user/helloCode/.myenv/lib/python3.8/site-packages/prompt_toolkit/formatted_text/utils.py'>,\n",
       " 'prompt_toolkit.formatted_text': <module 'prompt_toolkit.formatted_text' from '/home/user/helloCode/.myenv/lib/python3.8/site-packages/prompt_toolkit/formatted_text/__init__.py'>,\n",
       " 'prompt_toolkit.completion.base': <module 'prompt_toolkit.completion.base' from '/home/user/helloCode/.myenv/lib/python3.8/site-packages/prompt_toolkit/completion/base.py'>,\n",
       " 'prompt_toolkit.completion.deduplicate': <module 'prompt_toolkit.completion.deduplicate' from '/home/user/helloCode/.myenv/lib/python3.8/site-packages/prompt_toolkit/completion/deduplicate.py'>,\n",
       " 'prompt_toolkit.completion.filesystem': <module 'prompt_toolkit.completion.filesystem' from '/home/user/helloCode/.myenv/lib/python3.8/site-packages/prompt_toolkit/completion/filesystem.py'>,\n",
       " 'prompt_toolkit.completion.word_completer': <module 'prompt_toolkit.completion.word_completer' from '/home/user/helloCode/.myenv/lib/python3.8/site-packages/prompt_toolkit/completion/word_completer.py'>,\n",
       " 'prompt_toolkit.completion.fuzzy_completer': <module 'prompt_toolkit.completion.fuzzy_completer' from '/home/user/helloCode/.myenv/lib/python3.8/site-packages/prompt_toolkit/completion/fuzzy_completer.py'>,\n",
       " 'prompt_toolkit.completion.nested': <module 'prompt_toolkit.completion.nested' from '/home/user/helloCode/.myenv/lib/python3.8/site-packages/prompt_toolkit/completion/nested.py'>,\n",
       " 'prompt_toolkit.completion': <module 'prompt_toolkit.completion' from '/home/user/helloCode/.myenv/lib/python3.8/site-packages/prompt_toolkit/completion/__init__.py'>,\n",
       " 'prompt_toolkit.history': <module 'prompt_toolkit.history' from '/home/user/helloCode/.myenv/lib/python3.8/site-packages/prompt_toolkit/history.py'>,\n",
       " 'prompt_toolkit.search': <module 'prompt_toolkit.search' from '/home/user/helloCode/.myenv/lib/python3.8/site-packages/prompt_toolkit/search.py'>,\n",
       " 'prompt_toolkit.validation': <module 'prompt_toolkit.validation' from '/home/user/helloCode/.myenv/lib/python3.8/site-packages/prompt_toolkit/validation.py'>,\n",
       " 'prompt_toolkit.buffer': <module 'prompt_toolkit.buffer' from '/home/user/helloCode/.myenv/lib/python3.8/site-packages/prompt_toolkit/buffer.py'>,\n",
       " 'prompt_toolkit.input.base': <module 'prompt_toolkit.input.base' from '/home/user/helloCode/.myenv/lib/python3.8/site-packages/prompt_toolkit/input/base.py'>,\n",
       " 'prompt_toolkit.input.defaults': <module 'prompt_toolkit.input.defaults' from '/home/user/helloCode/.myenv/lib/python3.8/site-packages/prompt_toolkit/input/defaults.py'>,\n",
       " 'prompt_toolkit.input': <module 'prompt_toolkit.input' from '/home/user/helloCode/.myenv/lib/python3.8/site-packages/prompt_toolkit/input/__init__.py'>,\n",
       " 'prompt_toolkit.input.typeahead': <module 'prompt_toolkit.input.typeahead' from '/home/user/helloCode/.myenv/lib/python3.8/site-packages/prompt_toolkit/input/typeahead.py'>,\n",
       " 'prompt_toolkit.key_binding.bindings': <module 'prompt_toolkit.key_binding.bindings' from '/home/user/helloCode/.myenv/lib/python3.8/site-packages/prompt_toolkit/key_binding/bindings/__init__.py'>,\n",
       " 'prompt_toolkit.key_binding.bindings.scroll': <module 'prompt_toolkit.key_binding.bindings.scroll' from '/home/user/helloCode/.myenv/lib/python3.8/site-packages/prompt_toolkit/key_binding/bindings/scroll.py'>,\n",
       " 'prompt_toolkit.key_binding.bindings.page_navigation': <module 'prompt_toolkit.key_binding.bindings.page_navigation' from '/home/user/helloCode/.myenv/lib/python3.8/site-packages/prompt_toolkit/key_binding/bindings/page_navigation.py'>,\n",
       " 'prompt_toolkit.lexers.base': <module 'prompt_toolkit.lexers.base' from '/home/user/helloCode/.myenv/lib/python3.8/site-packages/prompt_toolkit/lexers/base.py'>,\n",
       " 'prompt_toolkit.lexers.pygments': <module 'prompt_toolkit.lexers.pygments' from '/home/user/helloCode/.myenv/lib/python3.8/site-packages/prompt_toolkit/lexers/pygments.py'>,\n",
       " 'prompt_toolkit.lexers': <module 'prompt_toolkit.lexers' from '/home/user/helloCode/.myenv/lib/python3.8/site-packages/prompt_toolkit/lexers/__init__.py'>,\n",
       " 'prompt_toolkit.layout.utils': <module 'prompt_toolkit.layout.utils' from '/home/user/helloCode/.myenv/lib/python3.8/site-packages/prompt_toolkit/layout/utils.py'>,\n",
       " 'prompt_toolkit.layout.processors': <module 'prompt_toolkit.layout.processors' from '/home/user/helloCode/.myenv/lib/python3.8/site-packages/prompt_toolkit/layout/processors.py'>,\n",
       " 'prompt_toolkit.layout.controls': <module 'prompt_toolkit.layout.controls' from '/home/user/helloCode/.myenv/lib/python3.8/site-packages/prompt_toolkit/layout/controls.py'>,\n",
       " 'prompt_toolkit.layout.dimension': <module 'prompt_toolkit.layout.dimension' from '/home/user/helloCode/.myenv/lib/python3.8/site-packages/prompt_toolkit/layout/dimension.py'>,\n",
       " 'prompt_toolkit.layout.margins': <module 'prompt_toolkit.layout.margins' from '/home/user/helloCode/.myenv/lib/python3.8/site-packages/prompt_toolkit/layout/margins.py'>,\n",
       " 'prompt_toolkit.layout.mouse_handlers': <module 'prompt_toolkit.layout.mouse_handlers' from '/home/user/helloCode/.myenv/lib/python3.8/site-packages/prompt_toolkit/layout/mouse_handlers.py'>,\n",
       " 'prompt_toolkit.layout.screen': <module 'prompt_toolkit.layout.screen' from '/home/user/helloCode/.myenv/lib/python3.8/site-packages/prompt_toolkit/layout/screen.py'>,\n",
       " 'prompt_toolkit.layout.containers': <module 'prompt_toolkit.layout.containers' from '/home/user/helloCode/.myenv/lib/python3.8/site-packages/prompt_toolkit/layout/containers.py'>,\n",
       " 'prompt_toolkit.layout.layout': <module 'prompt_toolkit.layout.layout' from '/home/user/helloCode/.myenv/lib/python3.8/site-packages/prompt_toolkit/layout/layout.py'>,\n",
       " 'prompt_toolkit.layout.menus': <module 'prompt_toolkit.layout.menus' from '/home/user/helloCode/.myenv/lib/python3.8/site-packages/prompt_toolkit/layout/menus.py'>,\n",
       " 'prompt_toolkit.layout.scrollable_pane': <module 'prompt_toolkit.layout.scrollable_pane' from '/home/user/helloCode/.myenv/lib/python3.8/site-packages/prompt_toolkit/layout/scrollable_pane.py'>,\n",
       " 'prompt_toolkit.layout': <module 'prompt_toolkit.layout' from '/home/user/helloCode/.myenv/lib/python3.8/site-packages/prompt_toolkit/layout/__init__.py'>,\n",
       " 'prompt_toolkit.key_binding.bindings.completion': <module 'prompt_toolkit.key_binding.bindings.completion' from '/home/user/helloCode/.myenv/lib/python3.8/site-packages/prompt_toolkit/key_binding/bindings/completion.py'>,\n",
       " 'prompt_toolkit.key_binding.bindings.named_commands': <module 'prompt_toolkit.key_binding.bindings.named_commands' from '/home/user/helloCode/.myenv/lib/python3.8/site-packages/prompt_toolkit/key_binding/bindings/named_commands.py'>,\n",
       " 'prompt_toolkit.key_binding.bindings.basic': <module 'prompt_toolkit.key_binding.bindings.basic' from '/home/user/helloCode/.myenv/lib/python3.8/site-packages/prompt_toolkit/key_binding/bindings/basic.py'>,\n",
       " 'prompt_toolkit.key_binding.bindings.cpr': <module 'prompt_toolkit.key_binding.bindings.cpr' from '/home/user/helloCode/.myenv/lib/python3.8/site-packages/prompt_toolkit/key_binding/bindings/cpr.py'>,\n",
       " 'prompt_toolkit.key_binding.bindings.emacs': <module 'prompt_toolkit.key_binding.bindings.emacs' from '/home/user/helloCode/.myenv/lib/python3.8/site-packages/prompt_toolkit/key_binding/bindings/emacs.py'>,\n",
       " 'prompt_toolkit.key_binding.bindings.mouse': <module 'prompt_toolkit.key_binding.bindings.mouse' from '/home/user/helloCode/.myenv/lib/python3.8/site-packages/prompt_toolkit/key_binding/bindings/mouse.py'>,\n",
       " 'prompt_toolkit.input.ansi_escape_sequences': <module 'prompt_toolkit.input.ansi_escape_sequences' from '/home/user/helloCode/.myenv/lib/python3.8/site-packages/prompt_toolkit/input/ansi_escape_sequences.py'>,\n",
       " 'prompt_toolkit.input.vt100_parser': <module 'prompt_toolkit.input.vt100_parser' from '/home/user/helloCode/.myenv/lib/python3.8/site-packages/prompt_toolkit/input/vt100_parser.py'>,\n",
       " 'prompt_toolkit.key_binding.digraphs': <module 'prompt_toolkit.key_binding.digraphs' from '/home/user/helloCode/.myenv/lib/python3.8/site-packages/prompt_toolkit/key_binding/digraphs.py'>,\n",
       " 'prompt_toolkit.key_binding.bindings.vi': <module 'prompt_toolkit.key_binding.bindings.vi' from '/home/user/helloCode/.myenv/lib/python3.8/site-packages/prompt_toolkit/key_binding/bindings/vi.py'>,\n",
       " 'prompt_toolkit.key_binding.defaults': <module 'prompt_toolkit.key_binding.defaults' from '/home/user/helloCode/.myenv/lib/python3.8/site-packages/prompt_toolkit/key_binding/defaults.py'>,\n",
       " 'prompt_toolkit.key_binding.emacs_state': <module 'prompt_toolkit.key_binding.emacs_state' from '/home/user/helloCode/.myenv/lib/python3.8/site-packages/prompt_toolkit/key_binding/emacs_state.py'>,\n",
       " 'prompt_toolkit.layout.dummy': <module 'prompt_toolkit.layout.dummy' from '/home/user/helloCode/.myenv/lib/python3.8/site-packages/prompt_toolkit/layout/dummy.py'>,\n",
       " 'prompt_toolkit.renderer': <module 'prompt_toolkit.renderer' from '/home/user/helloCode/.myenv/lib/python3.8/site-packages/prompt_toolkit/renderer.py'>,\n",
       " 'prompt_toolkit.application.application': <module 'prompt_toolkit.application.application' from '/home/user/helloCode/.myenv/lib/python3.8/site-packages/prompt_toolkit/application/application.py'>,\n",
       " 'prompt_toolkit.application.dummy': <module 'prompt_toolkit.application.dummy' from '/home/user/helloCode/.myenv/lib/python3.8/site-packages/prompt_toolkit/application/dummy.py'>,\n",
       " 'prompt_toolkit.application': <module 'prompt_toolkit.application' from '/home/user/helloCode/.myenv/lib/python3.8/site-packages/prompt_toolkit/application/__init__.py'>,\n",
       " 'prompt_toolkit.key_binding.bindings.focus': <module 'prompt_toolkit.key_binding.bindings.focus' from '/home/user/helloCode/.myenv/lib/python3.8/site-packages/prompt_toolkit/key_binding/bindings/focus.py'>,\n",
       " 'prompt_toolkit.widgets.toolbars': <module 'prompt_toolkit.widgets.toolbars' from '/home/user/helloCode/.myenv/lib/python3.8/site-packages/prompt_toolkit/widgets/toolbars.py'>,\n",
       " 'prompt_toolkit.widgets.base': <module 'prompt_toolkit.widgets.base' from '/home/user/helloCode/.myenv/lib/python3.8/site-packages/prompt_toolkit/widgets/base.py'>,\n",
       " 'prompt_toolkit.widgets.dialogs': <module 'prompt_toolkit.widgets.dialogs' from '/home/user/helloCode/.myenv/lib/python3.8/site-packages/prompt_toolkit/widgets/dialogs.py'>,\n",
       " 'prompt_toolkit.widgets.menus': <module 'prompt_toolkit.widgets.menus' from '/home/user/helloCode/.myenv/lib/python3.8/site-packages/prompt_toolkit/widgets/menus.py'>,\n",
       " 'prompt_toolkit.widgets': <module 'prompt_toolkit.widgets' from '/home/user/helloCode/.myenv/lib/python3.8/site-packages/prompt_toolkit/widgets/__init__.py'>,\n",
       " 'prompt_toolkit.shortcuts.dialogs': <module 'prompt_toolkit.shortcuts.dialogs' from '/home/user/helloCode/.myenv/lib/python3.8/site-packages/prompt_toolkit/shortcuts/dialogs.py'>,\n",
       " 'prompt_toolkit.shortcuts.progress_bar.formatters': <module 'prompt_toolkit.shortcuts.progress_bar.formatters' from '/home/user/helloCode/.myenv/lib/python3.8/site-packages/prompt_toolkit/shortcuts/progress_bar/formatters.py'>,\n",
       " 'prompt_toolkit.shortcuts.progress_bar.base': <module 'prompt_toolkit.shortcuts.progress_bar.base' from '/home/user/helloCode/.myenv/lib/python3.8/site-packages/prompt_toolkit/shortcuts/progress_bar/base.py'>,\n",
       " 'prompt_toolkit.shortcuts.progress_bar': <module 'prompt_toolkit.shortcuts.progress_bar' from '/home/user/helloCode/.myenv/lib/python3.8/site-packages/prompt_toolkit/shortcuts/progress_bar/__init__.py'>,\n",
       " 'prompt_toolkit.key_binding.bindings.auto_suggest': <module 'prompt_toolkit.key_binding.bindings.auto_suggest' from '/home/user/helloCode/.myenv/lib/python3.8/site-packages/prompt_toolkit/key_binding/bindings/auto_suggest.py'>,\n",
       " 'prompt_toolkit.key_binding.bindings.open_in_editor': <module 'prompt_toolkit.key_binding.bindings.open_in_editor' from '/home/user/helloCode/.myenv/lib/python3.8/site-packages/prompt_toolkit/key_binding/bindings/open_in_editor.py'>,\n",
       " 'prompt_toolkit.shortcuts.prompt': <module 'prompt_toolkit.shortcuts.prompt' from '/home/user/helloCode/.myenv/lib/python3.8/site-packages/prompt_toolkit/shortcuts/prompt.py'>,\n",
       " 'prompt_toolkit.shortcuts.utils': <module 'prompt_toolkit.shortcuts.utils' from '/home/user/helloCode/.myenv/lib/python3.8/site-packages/prompt_toolkit/shortcuts/utils.py'>,\n",
       " 'prompt_toolkit.shortcuts': <module 'prompt_toolkit.shortcuts' from '/home/user/helloCode/.myenv/lib/python3.8/site-packages/prompt_toolkit/shortcuts/__init__.py'>,\n",
       " 'prompt_toolkit': <module 'prompt_toolkit' from '/home/user/helloCode/.myenv/lib/python3.8/site-packages/prompt_toolkit/__init__.py'>,\n",
       " 'prompt_toolkit.patch_stdout': <module 'prompt_toolkit.patch_stdout' from '/home/user/helloCode/.myenv/lib/python3.8/site-packages/prompt_toolkit/patch_stdout.py'>,\n",
       " 'unicodedata': <module 'unicodedata' (built-in)>,\n",
       " 'IPython.core.latex_symbols': <module 'IPython.core.latex_symbols' from '/home/user/helloCode/.myenv/lib/python3.8/site-packages/IPython/core/latex_symbols.py'>,\n",
       " 'IPython.utils.generics': <module 'IPython.utils.generics' from '/home/user/helloCode/.myenv/lib/python3.8/site-packages/IPython/utils/generics.py'>,\n",
       " 'parso.utils': <module 'parso.utils' from '/home/user/helloCode/.myenv/lib/python3.8/site-packages/parso/utils.py'>,\n",
       " 'parso.tree': <module 'parso.tree' from '/home/user/helloCode/.myenv/lib/python3.8/site-packages/parso/tree.py'>,\n",
       " 'parso.python': <module 'parso.python' from '/home/user/helloCode/.myenv/lib/python3.8/site-packages/parso/python/__init__.py'>,\n",
       " 'parso.python.token': <module 'parso.python.token' from '/home/user/helloCode/.myenv/lib/python3.8/site-packages/parso/python/token.py'>,\n",
       " 'parso.python.tokenize': <module 'parso.python.tokenize' from '/home/user/helloCode/.myenv/lib/python3.8/site-packages/parso/python/tokenize.py'>,\n",
       " 'parso.pgen2.grammar_parser': <module 'parso.pgen2.grammar_parser' from '/home/user/helloCode/.myenv/lib/python3.8/site-packages/parso/pgen2/grammar_parser.py'>,\n",
       " 'parso.pgen2.generator': <module 'parso.pgen2.generator' from '/home/user/helloCode/.myenv/lib/python3.8/site-packages/parso/pgen2/generator.py'>,\n",
       " 'parso.pgen2': <module 'parso.pgen2' from '/home/user/helloCode/.myenv/lib/python3.8/site-packages/parso/pgen2/__init__.py'>,\n",
       " 'parso.parser': <module 'parso.parser' from '/home/user/helloCode/.myenv/lib/python3.8/site-packages/parso/parser.py'>,\n",
       " 'parso._compatibility': <module 'parso._compatibility' from '/home/user/helloCode/.myenv/lib/python3.8/site-packages/parso/_compatibility.py'>,\n",
       " 'difflib': <module 'difflib' from '/usr/lib/python3.8/difflib.py'>,\n",
       " 'parso.python.prefix': <module 'parso.python.prefix' from '/home/user/helloCode/.myenv/lib/python3.8/site-packages/parso/python/prefix.py'>,\n",
       " 'parso.python.tree': <module 'parso.python.tree' from '/home/user/helloCode/.myenv/lib/python3.8/site-packages/parso/python/tree.py'>,\n",
       " 'parso.python.parser': <module 'parso.python.parser' from '/home/user/helloCode/.myenv/lib/python3.8/site-packages/parso/python/parser.py'>,\n",
       " 'parso.python.diff': <module 'parso.python.diff' from '/home/user/helloCode/.myenv/lib/python3.8/site-packages/parso/python/diff.py'>,\n",
       " 'gc': <module 'gc' (built-in)>,\n",
       " 'parso.cache': <module 'parso.cache' from '/home/user/helloCode/.myenv/lib/python3.8/site-packages/parso/cache.py'>,\n",
       " 'parso.normalizer': <module 'parso.normalizer' from '/home/user/helloCode/.myenv/lib/python3.8/site-packages/parso/normalizer.py'>,\n",
       " 'parso.python.errors': <module 'parso.python.errors' from '/home/user/helloCode/.myenv/lib/python3.8/site-packages/parso/python/errors.py'>,\n",
       " 'parso.python.pep8': <module 'parso.python.pep8' from '/home/user/helloCode/.myenv/lib/python3.8/site-packages/parso/python/pep8.py'>,\n",
       " 'parso.file_io': <module 'parso.file_io' from '/home/user/helloCode/.myenv/lib/python3.8/site-packages/parso/file_io.py'>,\n",
       " 'parso.grammar': <module 'parso.grammar' from '/home/user/helloCode/.myenv/lib/python3.8/site-packages/parso/grammar.py'>,\n",
       " 'parso': <module 'parso' from '/home/user/helloCode/.myenv/lib/python3.8/site-packages/parso/__init__.py'>,\n",
       " 'jedi.parser_utils': <module 'jedi.parser_utils' from '/home/user/helloCode/.myenv/lib/python3.8/site-packages/jedi/parser_utils.py'>,\n",
       " 'jedi.debug': <module 'jedi.debug' from '/home/user/helloCode/.myenv/lib/python3.8/site-packages/jedi/debug.py'>,\n",
       " 'jedi.settings': <module 'jedi.settings' from '/home/user/helloCode/.myenv/lib/python3.8/site-packages/jedi/settings.py'>,\n",
       " 'jedi.cache': <module 'jedi.cache' from '/home/user/helloCode/.myenv/lib/python3.8/site-packages/jedi/cache.py'>,\n",
       " 'jedi.file_io': <module 'jedi.file_io' from '/home/user/helloCode/.myenv/lib/python3.8/site-packages/jedi/file_io.py'>,\n",
       " 'jedi.inference.cache': <module 'jedi.inference.cache' from '/home/user/helloCode/.myenv/lib/python3.8/site-packages/jedi/inference/cache.py'>,\n",
       " 'jedi.inference.helpers': <module 'jedi.inference.helpers' from '/home/user/helloCode/.myenv/lib/python3.8/site-packages/jedi/inference/helpers.py'>,\n",
       " 'jedi.inference.utils': <module 'jedi.inference.utils' from '/home/user/helloCode/.myenv/lib/python3.8/site-packages/jedi/inference/utils.py'>,\n",
       " 'jedi.inference.base_value': <module 'jedi.inference.base_value' from '/home/user/helloCode/.myenv/lib/python3.8/site-packages/jedi/inference/base_value.py'>,\n",
       " 'jedi.inference.sys_path': <module 'jedi.inference.sys_path' from '/home/user/helloCode/.myenv/lib/python3.8/site-packages/jedi/inference/sys_path.py'>,\n",
       " 'jedi.inference.recursion': <module 'jedi.inference.recursion' from '/home/user/helloCode/.myenv/lib/python3.8/site-packages/jedi/inference/recursion.py'>,\n",
       " 'jedi.inference.flow_analysis': <module 'jedi.inference.flow_analysis' from '/home/user/helloCode/.myenv/lib/python3.8/site-packages/jedi/inference/flow_analysis.py'>,\n",
       " 'jedi.common': <module 'jedi.common' from '/home/user/helloCode/.myenv/lib/python3.8/site-packages/jedi/common.py'>,\n",
       " 'jedi.inference.lazy_value': <module 'jedi.inference.lazy_value' from '/home/user/helloCode/.myenv/lib/python3.8/site-packages/jedi/inference/lazy_value.py'>,\n",
       " 'jedi.inference.docstrings': <module 'jedi.inference.docstrings' from '/home/user/helloCode/.myenv/lib/python3.8/site-packages/jedi/inference/docstrings.py'>,\n",
       " 'jedi.plugins': <module 'jedi.plugins' from '/home/user/helloCode/.myenv/lib/python3.8/site-packages/jedi/plugins/__init__.py'>,\n",
       " 'jedi.inference.names': <module 'jedi.inference.names' from '/home/user/helloCode/.myenv/lib/python3.8/site-packages/jedi/inference/names.py'>,\n",
       " 'jedi.inference.filters': <module 'jedi.inference.filters' from '/home/user/helloCode/.myenv/lib/python3.8/site-packages/jedi/inference/filters.py'>,\n",
       " 'jedi.inference.compiled.getattr_static': <module 'jedi.inference.compiled.getattr_static' from '/home/user/helloCode/.myenv/lib/python3.8/site-packages/jedi/inference/compiled/getattr_static.py'>,\n",
       " 'jedi.inference.compiled.access': <module 'jedi.inference.compiled.access' from '/home/user/helloCode/.myenv/lib/python3.8/site-packages/jedi/inference/compiled/access.py'>,\n",
       " 'jedi.inference.signature': <module 'jedi.inference.signature' from '/home/user/helloCode/.myenv/lib/python3.8/site-packages/jedi/inference/signature.py'>,\n",
       " 'jedi.inference.context': <module 'jedi.inference.context' from '/home/user/helloCode/.myenv/lib/python3.8/site-packages/jedi/inference/context.py'>,\n",
       " 'jedi.inference.compiled.value': <module 'jedi.inference.compiled.value' from '/home/user/helloCode/.myenv/lib/python3.8/site-packages/jedi/inference/compiled/value.py'>,\n",
       " 'jedi.inference.compiled': <module 'jedi.inference.compiled' from '/home/user/helloCode/.myenv/lib/python3.8/site-packages/jedi/inference/compiled/__init__.py'>,\n",
       " 'jedi.inference.analysis': <module 'jedi.inference.analysis' from '/home/user/helloCode/.myenv/lib/python3.8/site-packages/jedi/inference/analysis.py'>,\n",
       " 'jedi.inference.gradual': <module 'jedi.inference.gradual' from '/home/user/helloCode/.myenv/lib/python3.8/site-packages/jedi/inference/gradual/__init__.py'>,\n",
       " 'jedi.inference.value.module': <module 'jedi.inference.value.module' from '/home/user/helloCode/.myenv/lib/python3.8/site-packages/jedi/inference/value/module.py'>,\n",
       " 'jedi.inference.value.dynamic_arrays': <module 'jedi.inference.value.dynamic_arrays' from '/home/user/helloCode/.myenv/lib/python3.8/site-packages/jedi/inference/value/dynamic_arrays.py'>,\n",
       " 'jedi.inference.value.iterable': <module 'jedi.inference.value.iterable' from '/home/user/helloCode/.myenv/lib/python3.8/site-packages/jedi/inference/value/iterable.py'>,\n",
       " 'jedi.inference.arguments': <module 'jedi.inference.arguments' from '/home/user/helloCode/.myenv/lib/python3.8/site-packages/jedi/inference/arguments.py'>,\n",
       " 'jedi.inference.parser_cache': <module 'jedi.inference.parser_cache' from '/home/user/helloCode/.myenv/lib/python3.8/site-packages/jedi/inference/parser_cache.py'>,\n",
       " 'jedi.inference.gradual.generics': <module 'jedi.inference.gradual.generics' from '/home/user/helloCode/.myenv/lib/python3.8/site-packages/jedi/inference/gradual/generics.py'>,\n",
       " 'jedi.inference.value.function': <module 'jedi.inference.value.function' from '/home/user/helloCode/.myenv/lib/python3.8/site-packages/jedi/inference/value/function.py'>,\n",
       " 'jedi.inference.value.klass': <module 'jedi.inference.value.klass' from '/home/user/helloCode/.myenv/lib/python3.8/site-packages/jedi/inference/value/klass.py'>,\n",
       " 'jedi.inference.value.instance': <module 'jedi.inference.value.instance' from '/home/user/helloCode/.myenv/lib/python3.8/site-packages/jedi/inference/value/instance.py'>,\n",
       " 'jedi.inference.value': <module 'jedi.inference.value' from '/home/user/helloCode/.myenv/lib/python3.8/site-packages/jedi/inference/value/__init__.py'>,\n",
       " 'jedi.inference.gradual.base': <module 'jedi.inference.gradual.base' from '/home/user/helloCode/.myenv/lib/python3.8/site-packages/jedi/inference/gradual/base.py'>,\n",
       " 'jedi.inference.gradual.type_var': <module 'jedi.inference.gradual.type_var' from '/home/user/helloCode/.myenv/lib/python3.8/site-packages/jedi/inference/gradual/type_var.py'>,\n",
       " 'jedi.inference.gradual.typing': <module 'jedi.inference.gradual.typing' from '/home/user/helloCode/.myenv/lib/python3.8/site-packages/jedi/inference/gradual/typing.py'>,\n",
       " 'jedi.inference.gradual.stub_value': <module 'jedi.inference.gradual.stub_value' from '/home/user/helloCode/.myenv/lib/python3.8/site-packages/jedi/inference/gradual/stub_value.py'>,\n",
       " 'jedi.inference.gradual.typeshed': <module 'jedi.inference.gradual.typeshed' from '/home/user/helloCode/.myenv/lib/python3.8/site-packages/jedi/inference/gradual/typeshed.py'>,\n",
       " 'jedi._compatibility': <module 'jedi._compatibility' from '/home/user/helloCode/.myenv/lib/python3.8/site-packages/jedi/_compatibility.py'>,\n",
       " 'jedi.inference.compiled.subprocess.functions': <module 'jedi.inference.compiled.subprocess.functions' from '/home/user/helloCode/.myenv/lib/python3.8/site-packages/jedi/inference/compiled/subprocess/functions.py'>,\n",
       " 'jedi.api.exceptions': <module 'jedi.api.exceptions' from '/home/user/helloCode/.myenv/lib/python3.8/site-packages/jedi/api/exceptions.py'>,\n",
       " 'jedi.inference.compiled.subprocess': <module 'jedi.inference.compiled.subprocess' from '/home/user/helloCode/.myenv/lib/python3.8/site-packages/jedi/inference/compiled/subprocess/__init__.py'>,\n",
       " 'jedi.inference.imports': <module 'jedi.inference.imports' from '/home/user/helloCode/.myenv/lib/python3.8/site-packages/jedi/inference/imports.py'>,\n",
       " 'jedi.inference.param': <module 'jedi.inference.param' from '/home/user/helloCode/.myenv/lib/python3.8/site-packages/jedi/inference/param.py'>,\n",
       " 'jedi.inference.gradual.annotation': <module 'jedi.inference.gradual.annotation' from '/home/user/helloCode/.myenv/lib/python3.8/site-packages/jedi/inference/gradual/annotation.py'>,\n",
       " 'jedi.inference.value.decorator': <module 'jedi.inference.value.decorator' from '/home/user/helloCode/.myenv/lib/python3.8/site-packages/jedi/inference/value/decorator.py'>,\n",
       " 'jedi.inference.syntax_tree': <module 'jedi.inference.syntax_tree' from '/home/user/helloCode/.myenv/lib/python3.8/site-packages/jedi/inference/syntax_tree.py'>,\n",
       " 'jedi.inference': <module 'jedi.inference' from '/home/user/helloCode/.myenv/lib/python3.8/site-packages/jedi/inference/__init__.py'>,\n",
       " 'jedi.inference.gradual.conversion': <module 'jedi.inference.gradual.conversion' from '/home/user/helloCode/.myenv/lib/python3.8/site-packages/jedi/inference/gradual/conversion.py'>,\n",
       " 'jedi.inference.compiled.mixed': <module 'jedi.inference.compiled.mixed' from '/home/user/helloCode/.myenv/lib/python3.8/site-packages/jedi/inference/compiled/mixed.py'>,\n",
       " 'pydoc_data': <module 'pydoc_data' from '/usr/lib/python3.8/pydoc_data/__init__.py'>,\n",
       " 'pydoc_data.topics': <module 'pydoc_data.topics' from '/usr/lib/python3.8/pydoc_data/topics.py'>,\n",
       " 'jedi.api.keywords': <module 'jedi.api.keywords' from '/home/user/helloCode/.myenv/lib/python3.8/site-packages/jedi/api/keywords.py'>,\n",
       " 'jedi.api.completion_cache': <module 'jedi.api.completion_cache' from '/home/user/helloCode/.myenv/lib/python3.8/site-packages/jedi/api/completion_cache.py'>,\n",
       " 'jedi.api.helpers': <module 'jedi.api.helpers' from '/home/user/helloCode/.myenv/lib/python3.8/site-packages/jedi/api/helpers.py'>,\n",
       " 'jedi.api.classes': <module 'jedi.api.classes' from '/home/user/helloCode/.myenv/lib/python3.8/site-packages/jedi/api/classes.py'>,\n",
       " 'jedi.api.interpreter': <module 'jedi.api.interpreter' from '/home/user/helloCode/.myenv/lib/python3.8/site-packages/jedi/api/interpreter.py'>,\n",
       " 'jedi.api.strings': <module 'jedi.api.strings' from '/home/user/helloCode/.myenv/lib/python3.8/site-packages/jedi/api/strings.py'>,\n",
       " 'jedi.api.file_name': <module 'jedi.api.file_name' from '/home/user/helloCode/.myenv/lib/python3.8/site-packages/jedi/api/file_name.py'>,\n",
       " 'jedi.inference.docstring_utils': <module 'jedi.inference.docstring_utils' from '/home/user/helloCode/.myenv/lib/python3.8/site-packages/jedi/inference/docstring_utils.py'>,\n",
       " 'jedi.api.completion': <module 'jedi.api.completion' from '/home/user/helloCode/.myenv/lib/python3.8/site-packages/jedi/api/completion.py'>,\n",
       " 'filecmp': <module 'filecmp' from '/usr/lib/python3.8/filecmp.py'>,\n",
       " 'jedi.api.environment': <module 'jedi.api.environment' from '/home/user/helloCode/.myenv/lib/python3.8/site-packages/jedi/api/environment.py'>,\n",
       " 'jedi.inference.references': <module 'jedi.inference.references' from '/home/user/helloCode/.myenv/lib/python3.8/site-packages/jedi/inference/references.py'>,\n",
       " 'jedi.api.project': <module 'jedi.api.project' from '/home/user/helloCode/.myenv/lib/python3.8/site-packages/jedi/api/project.py'>,\n",
       " 'jedi.api.errors': <module 'jedi.api.errors' from '/home/user/helloCode/.myenv/lib/python3.8/site-packages/jedi/api/errors.py'>,\n",
       " 'jedi.api.refactoring': <module 'jedi.api.refactoring' from '/home/user/helloCode/.myenv/lib/python3.8/site-packages/jedi/api/refactoring/__init__.py'>,\n",
       " 'jedi.api.refactoring.extract': <module 'jedi.api.refactoring.extract' from '/home/user/helloCode/.myenv/lib/python3.8/site-packages/jedi/api/refactoring/extract.py'>,\n",
       " 'jedi.inference.gradual.utils': <module 'jedi.inference.gradual.utils' from '/home/user/helloCode/.myenv/lib/python3.8/site-packages/jedi/inference/gradual/utils.py'>,\n",
       " 'jedi.api': <module 'jedi.api' from '/home/user/helloCode/.myenv/lib/python3.8/site-packages/jedi/api/__init__.py'>,\n",
       " 'jedi.plugins.stdlib': <module 'jedi.plugins.stdlib' from '/home/user/helloCode/.myenv/lib/python3.8/site-packages/jedi/plugins/stdlib.py'>,\n",
       " 'jedi.plugins.flask': <module 'jedi.plugins.flask' from '/home/user/helloCode/.myenv/lib/python3.8/site-packages/jedi/plugins/flask.py'>,\n",
       " 'jedi.plugins.pytest': <module 'jedi.plugins.pytest' from '/home/user/helloCode/.myenv/lib/python3.8/site-packages/jedi/plugins/pytest.py'>,\n",
       " 'jedi.plugins.django': <module 'jedi.plugins.django' from '/home/user/helloCode/.myenv/lib/python3.8/site-packages/jedi/plugins/django.py'>,\n",
       " 'jedi.plugins.registry': <module 'jedi.plugins.registry' from '/home/user/helloCode/.myenv/lib/python3.8/site-packages/jedi/plugins/registry.py'>,\n",
       " 'jedi': <module 'jedi' from '/home/user/helloCode/.myenv/lib/python3.8/site-packages/jedi/__init__.py'>,\n",
       " 'IPython.core.completer': <module 'IPython.core.completer' from '/home/user/helloCode/.myenv/lib/python3.8/site-packages/IPython/core/completer.py'>,\n",
       " 'IPython.terminal.ptutils': <module 'IPython.terminal.ptutils' from '/home/user/helloCode/.myenv/lib/python3.8/site-packages/IPython/terminal/ptutils.py'>,\n",
       " 'IPython.terminal.shortcuts': <module 'IPython.terminal.shortcuts' from '/home/user/helloCode/.myenv/lib/python3.8/site-packages/IPython/terminal/shortcuts.py'>,\n",
       " 'concurrent.futures.thread': <module 'concurrent.futures.thread' from '/usr/lib/python3.8/concurrent/futures/thread.py'>,\n",
       " 'IPython.terminal.debugger': <module 'IPython.terminal.debugger' from '/home/user/helloCode/.myenv/lib/python3.8/site-packages/IPython/terminal/debugger.py'>,\n",
       " 'IPython.lib.clipboard': <module 'IPython.lib.clipboard' from '/home/user/helloCode/.myenv/lib/python3.8/site-packages/IPython/lib/clipboard.py'>,\n",
       " 'IPython.terminal.magics': <module 'IPython.terminal.magics' from '/home/user/helloCode/.myenv/lib/python3.8/site-packages/IPython/terminal/magics.py'>,\n",
       " 'IPython.terminal.pt_inputhooks': <module 'IPython.terminal.pt_inputhooks' from '/home/user/helloCode/.myenv/lib/python3.8/site-packages/IPython/terminal/pt_inputhooks/__init__.py'>,\n",
       " 'IPython.terminal.prompts': <module 'IPython.terminal.prompts' from '/home/user/helloCode/.myenv/lib/python3.8/site-packages/IPython/terminal/prompts.py'>,\n",
       " 'IPython.terminal.interactiveshell': <module 'IPython.terminal.interactiveshell' from '/home/user/helloCode/.myenv/lib/python3.8/site-packages/IPython/terminal/interactiveshell.py'>,\n",
       " 'IPython.core.magics.auto': <module 'IPython.core.magics.auto' from '/home/user/helloCode/.myenv/lib/python3.8/site-packages/IPython/core/magics/auto.py'>,\n",
       " 'IPython.core.magics.basic': <module 'IPython.core.magics.basic' from '/home/user/helloCode/.myenv/lib/python3.8/site-packages/IPython/core/magics/basic.py'>,\n",
       " 'email': <module 'email' from '/usr/lib/python3.8/email/__init__.py'>,\n",
       " 'http': <module 'http' from '/usr/lib/python3.8/http/__init__.py'>,\n",
       " 'email.errors': <module 'email.errors' from '/usr/lib/python3.8/email/errors.py'>,\n",
       " 'email.quoprimime': <module 'email.quoprimime' from '/usr/lib/python3.8/email/quoprimime.py'>,\n",
       " 'email.base64mime': <module 'email.base64mime' from '/usr/lib/python3.8/email/base64mime.py'>,\n",
       " 'quopri': <module 'quopri' from '/usr/lib/python3.8/quopri.py'>,\n",
       " 'email.encoders': <module 'email.encoders' from '/usr/lib/python3.8/email/encoders.py'>,\n",
       " 'email.charset': <module 'email.charset' from '/usr/lib/python3.8/email/charset.py'>,\n",
       " 'email.header': <module 'email.header' from '/usr/lib/python3.8/email/header.py'>,\n",
       " 'email._parseaddr': <module 'email._parseaddr' from '/usr/lib/python3.8/email/_parseaddr.py'>,\n",
       " 'email.utils': <module 'email.utils' from '/usr/lib/python3.8/email/utils.py'>,\n",
       " 'email._policybase': <module 'email._policybase' from '/usr/lib/python3.8/email/_policybase.py'>,\n",
       " 'email.feedparser': <module 'email.feedparser' from '/usr/lib/python3.8/email/feedparser.py'>,\n",
       " 'email.parser': <module 'email.parser' from '/usr/lib/python3.8/email/parser.py'>,\n",
       " 'uu': <module 'uu' from '/usr/lib/python3.8/uu.py'>,\n",
       " 'email._encoded_words': <module 'email._encoded_words' from '/usr/lib/python3.8/email/_encoded_words.py'>,\n",
       " 'email.iterators': <module 'email.iterators' from '/usr/lib/python3.8/email/iterators.py'>,\n",
       " 'email.message': <module 'email.message' from '/usr/lib/python3.8/email/message.py'>,\n",
       " 'http.client': <module 'http.client' from '/usr/lib/python3.8/http/client.py'>,\n",
       " 'urllib.response': <module 'urllib.response' from '/usr/lib/python3.8/urllib/response.py'>,\n",
       " 'urllib.error': <module 'urllib.error' from '/usr/lib/python3.8/urllib/error.py'>,\n",
       " 'urllib.request': <module 'urllib.request' from '/usr/lib/python3.8/urllib/request.py'>,\n",
       " 'IPython.utils.contexts': <module 'IPython.utils.contexts' from '/home/user/helloCode/.myenv/lib/python3.8/site-packages/IPython/utils/contexts.py'>,\n",
       " 'IPython.core.magics.code': <module 'IPython.core.magics.code' from '/home/user/helloCode/.myenv/lib/python3.8/site-packages/IPython/core/magics/code.py'>,\n",
       " 'IPython.core.magics.config': <module 'IPython.core.magics.config' from '/home/user/helloCode/.myenv/lib/python3.8/site-packages/IPython/core/magics/config.py'>,\n",
       " 'IPython.core.magics.display': <module 'IPython.core.magics.display' from '/home/user/helloCode/.myenv/lib/python3.8/site-packages/IPython/core/magics/display.py'>,\n",
       " '_lsprof': <module '_lsprof' from '/usr/lib/python3.8/lib-dynload/_lsprof.cpython-38-x86_64-linux-gnu.so'>,\n",
       " 'profile': <module 'profile' from '/usr/lib/python3.8/profile.py'>,\n",
       " 'cProfile': <module 'cProfile' from '/usr/lib/python3.8/cProfile.py'>,\n",
       " 'pstats': <module 'pstats' from '/usr/lib/python3.8/pstats.py'>,\n",
       " 'timeit': <module 'timeit' from '/usr/lib/python3.8/timeit.py'>,\n",
       " 'IPython.utils.module_paths': <module 'IPython.utils.module_paths' from '/home/user/helloCode/.myenv/lib/python3.8/site-packages/IPython/utils/module_paths.py'>,\n",
       " 'IPython.utils.timing': <module 'IPython.utils.timing' from '/home/user/helloCode/.myenv/lib/python3.8/site-packages/IPython/utils/timing.py'>,\n",
       " 'IPython.core.magics.execution': <module 'IPython.core.magics.execution' from '/home/user/helloCode/.myenv/lib/python3.8/site-packages/IPython/core/magics/execution.py'>,\n",
       " 'IPython.core.magics.extension': <module 'IPython.core.magics.extension' from '/home/user/helloCode/.myenv/lib/python3.8/site-packages/IPython/core/magics/extension.py'>,\n",
       " 'IPython.core.magics.history': <module 'IPython.core.magics.history' from '/home/user/helloCode/.myenv/lib/python3.8/site-packages/IPython/core/magics/history.py'>,\n",
       " 'IPython.core.magics.logging': <module 'IPython.core.magics.logging' from '/home/user/helloCode/.myenv/lib/python3.8/site-packages/IPython/core/magics/logging.py'>,\n",
       " 'IPython.core.magics.namespace': <module 'IPython.core.magics.namespace' from '/home/user/helloCode/.myenv/lib/python3.8/site-packages/IPython/core/magics/namespace.py'>,\n",
       " 'IPython.core.magics.osm': <module 'IPython.core.magics.osm' from '/home/user/helloCode/.myenv/lib/python3.8/site-packages/IPython/core/magics/osm.py'>,\n",
       " 'IPython.core.magics.packaging': <module 'IPython.core.magics.packaging' from '/home/user/helloCode/.myenv/lib/python3.8/site-packages/IPython/core/magics/packaging.py'>,\n",
       " 'IPython.core.pylabtools': <module 'IPython.core.pylabtools' from '/home/user/helloCode/.myenv/lib/python3.8/site-packages/IPython/core/pylabtools.py'>,\n",
       " 'IPython.core.magics.pylab': <module 'IPython.core.magics.pylab' from '/home/user/helloCode/.myenv/lib/python3.8/site-packages/IPython/core/magics/pylab.py'>,\n",
       " 'IPython.core.magics.script': <module 'IPython.core.magics.script' from '/home/user/helloCode/.myenv/lib/python3.8/site-packages/IPython/core/magics/script.py'>,\n",
       " 'IPython.core.magics': <module 'IPython.core.magics' from '/home/user/helloCode/.myenv/lib/python3.8/site-packages/IPython/core/magics/__init__.py'>,\n",
       " 'IPython.core.shellapp': <module 'IPython.core.shellapp' from '/home/user/helloCode/.myenv/lib/python3.8/site-packages/IPython/core/shellapp.py'>,\n",
       " 'IPython.extensions': <module 'IPython.extensions' from '/home/user/helloCode/.myenv/lib/python3.8/site-packages/IPython/extensions/__init__.py'>,\n",
       " 'IPython.extensions.storemagic': <module 'IPython.extensions.storemagic' from '/home/user/helloCode/.myenv/lib/python3.8/site-packages/IPython/extensions/storemagic.py'>,\n",
       " 'IPython.terminal.ipapp': <module 'IPython.terminal.ipapp' from '/home/user/helloCode/.myenv/lib/python3.8/site-packages/IPython/terminal/ipapp.py'>,\n",
       " 'IPython.terminal.embed': <module 'IPython.terminal.embed' from '/home/user/helloCode/.myenv/lib/python3.8/site-packages/IPython/terminal/embed.py'>,\n",
       " 'IPython.utils.frame': <module 'IPython.utils.frame' from '/home/user/helloCode/.myenv/lib/python3.8/site-packages/IPython/utils/frame.py'>,\n",
       " 'IPython': <module 'IPython' from '/home/user/helloCode/.myenv/lib/python3.8/site-packages/IPython/__init__.py'>,\n",
       " 'ipykernel.control': <module 'ipykernel.control' from '/home/user/helloCode/.myenv/lib/python3.8/site-packages/ipykernel/control.py'>,\n",
       " 'ipykernel.heartbeat': <module 'ipykernel.heartbeat' from '/home/user/helloCode/.myenv/lib/python3.8/site-packages/ipykernel/heartbeat.py'>,\n",
       " 'ipykernel.iostream': <module 'ipykernel.iostream' from '/home/user/helloCode/.myenv/lib/python3.8/site-packages/ipykernel/iostream.py'>,\n",
       " 'IPython.utils.tokenutil': <module 'IPython.utils.tokenutil' from '/home/user/helloCode/.myenv/lib/python3.8/site-packages/IPython/utils/tokenutil.py'>,\n",
       " 'ipykernel.jsonutil': <module 'ipykernel.jsonutil' from '/home/user/helloCode/.myenv/lib/python3.8/site-packages/ipykernel/jsonutil.py'>,\n",
       " 'psutil._common': <module 'psutil._common' from '/home/user/helloCode/.myenv/lib/python3.8/site-packages/psutil/_common.py'>,\n",
       " 'psutil._compat': <module 'psutil._compat' from '/home/user/helloCode/.myenv/lib/python3.8/site-packages/psutil/_compat.py'>,\n",
       " 'psutil._psposix': <module 'psutil._psposix' from '/home/user/helloCode/.myenv/lib/python3.8/site-packages/psutil/_psposix.py'>,\n",
       " 'psutil._psutil_linux': <module 'psutil._psutil_linux' from '/home/user/helloCode/.myenv/lib/python3.8/site-packages/psutil/_psutil_linux.cpython-38-x86_64-linux-gnu.so'>,\n",
       " 'psutil._psutil_posix': <module 'psutil._psutil_posix' from '/home/user/helloCode/.myenv/lib/python3.8/site-packages/psutil/_psutil_posix.cpython-38-x86_64-linux-gnu.so'>,\n",
       " 'psutil._pslinux': <module 'psutil._pslinux' from '/home/user/helloCode/.myenv/lib/python3.8/site-packages/psutil/_pslinux.py'>,\n",
       " 'psutil': <module 'psutil' from '/home/user/helloCode/.myenv/lib/python3.8/site-packages/psutil/__init__.py'>,\n",
       " 'tornado.locks': <module 'tornado.locks' from '/home/user/helloCode/.myenv/lib/python3.8/site-packages/tornado/locks.py'>,\n",
       " 'tornado.queues': <module 'tornado.queues' from '/home/user/helloCode/.myenv/lib/python3.8/site-packages/tornado/queues.py'>,\n",
       " 'ipykernel.kernelbase': <module 'ipykernel.kernelbase' from '/home/user/helloCode/.myenv/lib/python3.8/site-packages/ipykernel/kernelbase.py'>,\n",
       " 'ipykernel.comm.comm': <module 'ipykernel.comm.comm' from '/home/user/helloCode/.myenv/lib/python3.8/site-packages/ipykernel/comm/comm.py'>,\n",
       " 'ipykernel.comm.manager': <module 'ipykernel.comm.manager' from '/home/user/helloCode/.myenv/lib/python3.8/site-packages/ipykernel/comm/manager.py'>,\n",
       " 'ipykernel.comm': <module 'ipykernel.comm' from '/home/user/helloCode/.myenv/lib/python3.8/site-packages/ipykernel/comm/__init__.py'>,\n",
       " 'ipykernel.compiler': <module 'ipykernel.compiler' from '/home/user/helloCode/.myenv/lib/python3.8/site-packages/ipykernel/compiler.py'>,\n",
       " 'debugpy._version': <module 'debugpy._version' from '/home/user/helloCode/.myenv/lib/python3.8/site-packages/debugpy/_version.py'>,\n",
       " 'debugpy.public_api': <module 'debugpy.public_api' from '/home/user/helloCode/.myenv/lib/python3.8/site-packages/debugpy/public_api.py'>,\n",
       " 'debugpy': <module 'debugpy' from '/home/user/helloCode/.myenv/lib/python3.8/site-packages/debugpy/__init__.py'>,\n",
       " 'debugpy._vendored._util': <module 'debugpy._vendored._util' from '/home/user/helloCode/.myenv/lib/python3.8/site-packages/debugpy/_vendored/_util.py'>,\n",
       " 'debugpy._vendored': <module 'debugpy._vendored' from '/home/user/helloCode/.myenv/lib/python3.8/site-packages/debugpy/_vendored/__init__.py'>,\n",
       " '_pydevd_bundle': <module '_pydevd_bundle' from '/home/user/helloCode/.myenv/lib/python3.8/site-packages/debugpy/_vendored/pydevd/_pydevd_bundle/__init__.py'>,\n",
       " 'encodings.ascii': <module 'encodings.ascii' from '/usr/lib/python3.8/encodings/ascii.py'>,\n",
       " 'stringprep': <module 'stringprep' from '/usr/lib/python3.8/stringprep.py'>,\n",
       " 'encodings.idna': <module 'encodings.idna' from '/usr/lib/python3.8/encodings/idna.py'>,\n",
       " '_pydevd_bundle.pydevd_vm_type': <module '_pydevd_bundle.pydevd_vm_type' from '/home/user/helloCode/.myenv/lib/python3.8/site-packages/debugpy/_vendored/pydevd/_pydevd_bundle/pydevd_vm_type.py'>,\n",
       " '_pydev_bundle': <module '_pydev_bundle' from '/home/user/helloCode/.myenv/lib/python3.8/site-packages/debugpy/_vendored/pydevd/_pydev_bundle/__init__.py'>,\n",
       " 'xmlrpc': <module 'xmlrpc' from '/usr/lib/python3.8/xmlrpc/__init__.py'>,\n",
       " 'xml.parsers': <module 'xml.parsers' from '/usr/lib/python3.8/xml/parsers/__init__.py'>,\n",
       " 'pyexpat.errors': <module 'pyexpat.errors'>,\n",
       " 'pyexpat.model': <module 'pyexpat.model'>,\n",
       " 'pyexpat': <module 'pyexpat' (built-in)>,\n",
       " 'xml.parsers.expat.model': <module 'pyexpat.model'>,\n",
       " 'xml.parsers.expat.errors': <module 'pyexpat.errors'>,\n",
       " 'xml.parsers.expat': <module 'xml.parsers.expat' from '/usr/lib/python3.8/xml/parsers/expat.py'>,\n",
       " 'gzip': <module 'gzip' from '/usr/lib/python3.8/gzip.py'>,\n",
       " 'xmlrpc.client': <module 'xmlrpc.client' from '/usr/lib/python3.8/xmlrpc/client.py'>,\n",
       " 'http.server': <module 'http.server' from '/usr/lib/python3.8/http/server.py'>,\n",
       " 'xmlrpc.server': <module 'xmlrpc.server' from '/usr/lib/python3.8/xmlrpc/server.py'>,\n",
       " '_pydev_bundle._pydev_saved_modules': <module '_pydev_bundle._pydev_saved_modules' from '/home/user/helloCode/.myenv/lib/python3.8/site-packages/debugpy/_vendored/pydevd/_pydev_bundle/_pydev_saved_modules.py'>,\n",
       " '_pydevd_bundle.pydevd_constants': <module '_pydevd_bundle.pydevd_constants' from '/home/user/helloCode/.myenv/lib/python3.8/site-packages/debugpy/_vendored/pydevd/_pydevd_bundle/pydevd_constants.py'>,\n",
       " '_pydev_runfiles': <module '_pydev_runfiles' from '/home/user/helloCode/.myenv/lib/python3.8/site-packages/debugpy/_vendored/pydevd/_pydev_runfiles/__init__.py'>,\n",
       " '_pydevd_frame_eval': <module '_pydevd_frame_eval' from '/home/user/helloCode/.myenv/lib/python3.8/site-packages/debugpy/_vendored/pydevd/_pydevd_frame_eval/__init__.py'>,\n",
       " 'pydev_ipython': <module 'pydev_ipython' from '/home/user/helloCode/.myenv/lib/python3.8/site-packages/debugpy/_vendored/pydevd/pydev_ipython/__init__.py'>,\n",
       " 'plistlib': <module 'plistlib' from '/usr/lib/python3.8/plistlib.py'>,\n",
       " 'pkg_resources.extern': <module 'pkg_resources.extern' from '/home/user/helloCode/.myenv/lib/python3.8/site-packages/pkg_resources/extern/__init__.py'>,\n",
       " 'pkg_resources._vendor': <module 'pkg_resources._vendor' from '/home/user/helloCode/.myenv/lib/python3.8/site-packages/pkg_resources/_vendor/__init__.py'>,\n",
       " 'pkg_resources.extern.six': <module 'pkg_resources._vendor.six' from '/home/user/helloCode/.myenv/lib/python3.8/site-packages/pkg_resources/_vendor/six.py'>,\n",
       " 'pkg_resources._vendor.six': <module 'pkg_resources._vendor.six' from '/home/user/helloCode/.myenv/lib/python3.8/site-packages/pkg_resources/_vendor/six.py'>,\n",
       " 'pkg_resources.extern.six.moves': <module 'pkg_resources._vendor.six.moves' (<pkg_resources._vendor.six._SixMetaPathImporter object at 0x7f37cb3a0ac0>)>,\n",
       " 'pkg_resources._vendor.six.moves': <module 'pkg_resources._vendor.six.moves' (<pkg_resources._vendor.six._SixMetaPathImporter object at 0x7f37cb3a0ac0>)>,\n",
       " 'pkg_resources.py31compat': <module 'pkg_resources.py31compat' from '/home/user/helloCode/.myenv/lib/python3.8/site-packages/pkg_resources/py31compat.py'>,\n",
       " 'pkg_resources.extern.appdirs': <module 'pkg_resources._vendor.appdirs' from '/home/user/helloCode/.myenv/lib/python3.8/site-packages/pkg_resources/_vendor/appdirs.py'>,\n",
       " 'pkg_resources._vendor.packaging.__about__': <module 'pkg_resources._vendor.packaging.__about__' from '/home/user/helloCode/.myenv/lib/python3.8/site-packages/pkg_resources/_vendor/packaging/__about__.py'>,\n",
       " 'pkg_resources.extern.packaging': <module 'pkg_resources._vendor.packaging' from '/home/user/helloCode/.myenv/lib/python3.8/site-packages/pkg_resources/_vendor/packaging/__init__.py'>,\n",
       " 'pkg_resources.extern.packaging._structures': <module 'pkg_resources.extern.packaging._structures' from '/home/user/helloCode/.myenv/lib/python3.8/site-packages/pkg_resources/_vendor/packaging/_structures.py'>,\n",
       " 'pkg_resources.extern.packaging.version': <module 'pkg_resources.extern.packaging.version' from '/home/user/helloCode/.myenv/lib/python3.8/site-packages/pkg_resources/_vendor/packaging/version.py'>,\n",
       " 'pkg_resources.extern.packaging._compat': <module 'pkg_resources.extern.packaging._compat' from '/home/user/helloCode/.myenv/lib/python3.8/site-packages/pkg_resources/_vendor/packaging/_compat.py'>,\n",
       " 'pkg_resources.extern.packaging.specifiers': <module 'pkg_resources.extern.packaging.specifiers' from '/home/user/helloCode/.myenv/lib/python3.8/site-packages/pkg_resources/_vendor/packaging/specifiers.py'>,\n",
       " 'pkg_resources.extern.pyparsing': <module 'pkg_resources._vendor.pyparsing' from '/home/user/helloCode/.myenv/lib/python3.8/site-packages/pkg_resources/_vendor/pyparsing.py'>,\n",
       " 'pkg_resources.extern.six.moves.urllib': <module 'pkg_resources._vendor.six.moves.urllib' (<pkg_resources._vendor.six._SixMetaPathImporter object at 0x7f37cb3a0ac0>)>,\n",
       " 'pkg_resources.extern.packaging.markers': <module 'pkg_resources.extern.packaging.markers' from '/home/user/helloCode/.myenv/lib/python3.8/site-packages/pkg_resources/_vendor/packaging/markers.py'>,\n",
       " 'pkg_resources.extern.packaging.requirements': <module 'pkg_resources.extern.packaging.requirements' from '/home/user/helloCode/.myenv/lib/python3.8/site-packages/pkg_resources/_vendor/packaging/requirements.py'>,\n",
       " 'pkg_resources': <module 'pkg_resources' from '/home/user/helloCode/.myenv/lib/python3.8/site-packages/pkg_resources/__init__.py'>,\n",
       " 'pydevd_plugins': <module 'pydevd_plugins' from '/home/user/helloCode/.myenv/lib/python3.8/site-packages/debugpy/_vendored/pydevd/pydevd_plugins/__init__.py'>,\n",
       " '_pydev_bundle.pydev_log': <module '_pydev_bundle.pydev_log' from '/home/user/helloCode/.myenv/lib/python3.8/site-packages/debugpy/_vendored/pydevd/_pydev_bundle/pydev_log.py'>,\n",
       " '_pydev_bundle._pydev_filesystem_encoding': <module '_pydev_bundle._pydev_filesystem_encoding' from '/home/user/helloCode/.myenv/lib/python3.8/site-packages/debugpy/_vendored/pydevd/_pydev_bundle/_pydev_filesystem_encoding.py'>,\n",
       " '_pydevd_bundle.pydevd_comm_constants': <module '_pydevd_bundle.pydevd_comm_constants' from '/home/user/helloCode/.myenv/lib/python3.8/site-packages/debugpy/_vendored/pydevd/_pydevd_bundle/pydevd_comm_constants.py'>,\n",
       " 'pydevd_file_utils': <module 'pydevd_file_utils' from '/home/user/helloCode/.myenv/lib/python3.8/site-packages/debugpy/_vendored/pydevd/pydevd_file_utils.py'>,\n",
       " '_pydev_bundle._pydev_execfile': <module '_pydev_bundle._pydev_execfile' from '/home/user/helloCode/.myenv/lib/python3.8/site-packages/debugpy/_vendored/pydevd/_pydev_bundle/_pydev_execfile.py'>,\n",
       " '_pydevd_bundle.pydevd_exec2': <module '_pydevd_bundle.pydevd_exec2' from '/home/user/helloCode/.myenv/lib/python3.8/site-packages/debugpy/_vendored/pydevd/_pydevd_bundle/pydevd_exec2.py'>,\n",
       " '_pydev_bundle.pydev_imports': <module '_pydev_bundle.pydev_imports' from '/home/user/helloCode/.myenv/lib/python3.8/site-packages/debugpy/_vendored/pydevd/_pydev_bundle/pydev_imports.py'>,\n",
       " '_pydev_bundle.pydev_is_thread_alive': <module '_pydev_bundle.pydev_is_thread_alive' from '/home/user/helloCode/.myenv/lib/python3.8/site-packages/debugpy/_vendored/pydevd/_pydev_bundle/pydev_is_thread_alive.py'>,\n",
       " '_pydev_bundle.pydev_override': <module '_pydev_bundle.pydev_override' from '/home/user/helloCode/.myenv/lib/python3.8/site-packages/debugpy/_vendored/pydevd/_pydev_bundle/pydev_override.py'>,\n",
       " 'pydevd_plugins.extensions': <module 'pydevd_plugins.extensions' from '/home/user/helloCode/.myenv/lib/python3.8/site-packages/debugpy/_vendored/pydevd/pydevd_plugins/extensions/__init__.py'>,\n",
       " '_pydevd_bundle.pydevd_extension_utils': <module '_pydevd_bundle.pydevd_extension_utils' from '/home/user/helloCode/.myenv/lib/python3.8/site-packages/debugpy/_vendored/pydevd/_pydevd_bundle/pydevd_extension_utils.py'>,\n",
       " '_pydevd_bundle.pydevd_frame_utils': <module '_pydevd_bundle.pydevd_frame_utils' from '/home/user/helloCode/.myenv/lib/python3.8/site-packages/debugpy/_vendored/pydevd/_pydevd_bundle/pydevd_frame_utils.py'>,\n",
       " '_pydevd_bundle.pydevd_filtering': <module '_pydevd_bundle.pydevd_filtering' from '/home/user/helloCode/.myenv/lib/python3.8/site-packages/debugpy/_vendored/pydevd/_pydevd_bundle/pydevd_filtering.py'>,\n",
       " '_pydevd_bundle.pydevd_io': <module '_pydevd_bundle.pydevd_io' from '/home/user/helloCode/.myenv/lib/python3.8/site-packages/debugpy/_vendored/pydevd/_pydevd_bundle/pydevd_io.py'>,\n",
       " '_pydevd_bundle.pydevd_utils': <module '_pydevd_bundle.pydevd_utils' from '/home/user/helloCode/.myenv/lib/python3.8/site-packages/debugpy/_vendored/pydevd/_pydevd_bundle/pydevd_utils.py'>,\n",
       " '_pydevd_bundle.pydevd_runpy': <module '_pydevd_bundle.pydevd_runpy' from '/home/user/helloCode/.myenv/lib/python3.8/site-packages/debugpy/_vendored/pydevd/_pydevd_bundle/pydevd_runpy.py'>,\n",
       " '_pydev_bundle._pydev_tipper_common': <module '_pydev_bundle._pydev_tipper_common' from '/home/user/helloCode/.myenv/lib/python3.8/site-packages/debugpy/_vendored/pydevd/_pydev_bundle/_pydev_tipper_common.py'>,\n",
       " '_pydev_bundle._pydev_imports_tipper': <module '_pydev_bundle._pydev_imports_tipper' from '/home/user/helloCode/.myenv/lib/python3.8/site-packages/debugpy/_vendored/pydevd/_pydev_bundle/_pydev_imports_tipper.py'>,\n",
       " '_pydev_bundle._pydev_calltip_util': <module '_pydev_bundle._pydev_calltip_util' from '/home/user/helloCode/.myenv/lib/python3.8/site-packages/debugpy/_vendored/pydevd/_pydev_bundle/_pydev_calltip_util.py'>,\n",
       " '_pydevd_bundle.pydevd_safe_repr': <module '_pydevd_bundle.pydevd_safe_repr' from '/home/user/helloCode/.myenv/lib/python3.8/site-packages/debugpy/_vendored/pydevd/_pydevd_bundle/pydevd_safe_repr.py'>,\n",
       " '_pydevd_bundle.pydevd_resolver': <module '_pydevd_bundle.pydevd_resolver' from '/home/user/helloCode/.myenv/lib/python3.8/site-packages/debugpy/_vendored/pydevd/_pydevd_bundle/pydevd_resolver.py'>,\n",
       " '_pydevd_bundle.pydevd_extension_api': <module '_pydevd_bundle.pydevd_extension_api' from '/home/user/helloCode/.myenv/lib/python3.8/site-packages/debugpy/_vendored/pydevd/_pydevd_bundle/pydevd_extension_api.py'>,\n",
       " '_pydevd_bundle.pydevd_xml': <module '_pydevd_bundle.pydevd_xml' from '/home/user/helloCode/.myenv/lib/python3.8/site-packages/debugpy/_vendored/pydevd/_pydevd_bundle/pydevd_xml.py'>,\n",
       " '_pydevd_bundle.pydevd_dont_trace': <module '_pydevd_bundle.pydevd_dont_trace' from '/home/user/helloCode/.myenv/lib/python3.8/site-packages/debugpy/_vendored/pydevd/_pydevd_bundle/pydevd_dont_trace.py'>,\n",
       " '_pydevd_frame_eval.vendored': <module '_pydevd_frame_eval.vendored' from '/home/user/helloCode/.myenv/lib/python3.8/site-packages/debugpy/_vendored/pydevd/_pydevd_frame_eval/vendored/__init__.py'>,\n",
       " '_pydevd_frame_eval.vendored.bytecode.flags': <module '_pydevd_frame_eval.vendored.bytecode.flags' from '/home/user/helloCode/.myenv/lib/python3.8/site-packages/debugpy/_vendored/pydevd/_pydevd_frame_eval/vendored/bytecode/flags.py'>,\n",
       " '_pydevd_frame_eval.vendored.bytecode.instr': <module '_pydevd_frame_eval.vendored.bytecode.instr' from '/home/user/helloCode/.myenv/lib/python3.8/site-packages/debugpy/_vendored/pydevd/_pydevd_frame_eval/vendored/bytecode/instr.py'>,\n",
       " '_pydevd_frame_eval.vendored.bytecode.bytecode': <module '_pydevd_frame_eval.vendored.bytecode.bytecode' from '/home/user/helloCode/.myenv/lib/python3.8/site-packages/debugpy/_vendored/pydevd/_pydevd_frame_eval/vendored/bytecode/bytecode.py'>,\n",
       " '_pydevd_frame_eval.vendored.bytecode.concrete': <module '_pydevd_frame_eval.vendored.bytecode.concrete' from '/home/user/helloCode/.myenv/lib/python3.8/site-packages/debugpy/_vendored/pydevd/_pydevd_frame_eval/vendored/bytecode/concrete.py'>,\n",
       " '_pydevd_frame_eval.vendored.bytecode.cfg': <module '_pydevd_frame_eval.vendored.bytecode.cfg' from '/home/user/helloCode/.myenv/lib/python3.8/site-packages/debugpy/_vendored/pydevd/_pydevd_frame_eval/vendored/bytecode/cfg.py'>,\n",
       " '_pydevd_frame_eval.vendored.bytecode': <module '_pydevd_frame_eval.vendored.bytecode' from '/home/user/helloCode/.myenv/lib/python3.8/site-packages/debugpy/_vendored/pydevd/_pydevd_frame_eval/vendored/bytecode/__init__.py'>,\n",
       " '_pydevd_bundle.pydevd_bytecode_utils': <module '_pydevd_bundle.pydevd_bytecode_utils' from '/home/user/helloCode/.myenv/lib/python3.8/site-packages/debugpy/_vendored/pydevd/_pydevd_bundle/pydevd_bytecode_utils.py'>,\n",
       " '_pydevd_bundle.pydevd_cython': <module '_pydevd_bundle.pydevd_cython' from '/home/user/helloCode/.myenv/lib/python3.8/site-packages/debugpy/_vendored/pydevd/_pydevd_bundle/pydevd_cython.cpython-38-x86_64-linux-gnu.so'>,\n",
       " '_pydevd_bundle.pydevd_cython_wrapper': <module '_pydevd_bundle.pydevd_cython_wrapper' from '/home/user/helloCode/.myenv/lib/python3.8/site-packages/debugpy/_vendored/pydevd/_pydevd_bundle/pydevd_cython_wrapper.py'>,\n",
       " '_pydevd_bundle.pydevd_additional_thread_info': <module '_pydevd_bundle.pydevd_additional_thread_info' from '/home/user/helloCode/.myenv/lib/python3.8/site-packages/debugpy/_vendored/pydevd/_pydevd_bundle/pydevd_additional_thread_info.py'>,\n",
       " '_pydevd_bundle.pydevd_thread_lifecycle': <module '_pydevd_bundle.pydevd_thread_lifecycle' from '/home/user/helloCode/.myenv/lib/python3.8/site-packages/debugpy/_vendored/pydevd/_pydevd_bundle/pydevd_thread_lifecycle.py'>,\n",
       " '_pydevd_bundle.pydevd_save_locals': <module '_pydevd_bundle.pydevd_save_locals' from '/home/user/helloCode/.myenv/lib/python3.8/site-packages/debugpy/_vendored/pydevd/_pydevd_bundle/pydevd_save_locals.py'>,\n",
       " '_pydevd_bundle.pydevd_defaults': <module '_pydevd_bundle.pydevd_defaults' from '/home/user/helloCode/.myenv/lib/python3.8/site-packages/debugpy/_vendored/pydevd/_pydevd_bundle/pydevd_defaults.py'>,\n",
       " '_pydev_bundle.pydev_monkey': <module '_pydev_bundle.pydev_monkey' from '/home/user/helloCode/.myenv/lib/python3.8/site-packages/debugpy/_vendored/pydevd/_pydev_bundle/pydev_monkey.py'>,\n",
       " 'pydevd_tracing': <module 'pydevd_tracing' from '/home/user/helloCode/.myenv/lib/python3.8/site-packages/debugpy/_vendored/pydevd/pydevd_tracing.py'>,\n",
       " '_pydevd_bundle.pydevd_collect_bytecode_info': <module '_pydevd_bundle.pydevd_collect_bytecode_info' from '/home/user/helloCode/.myenv/lib/python3.8/site-packages/debugpy/_vendored/pydevd/_pydevd_bundle/pydevd_collect_bytecode_info.py'>,\n",
       " '_pydevd_bundle.pydevd_daemon_thread': <module '_pydevd_bundle.pydevd_daemon_thread' from '/home/user/helloCode/.myenv/lib/python3.8/site-packages/debugpy/_vendored/pydevd/_pydevd_bundle/pydevd_daemon_thread.py'>,\n",
       " '_pydevd_bundle.pydevd_timeout': <module '_pydevd_bundle.pydevd_timeout' from '/home/user/helloCode/.myenv/lib/python3.8/site-packages/debugpy/_vendored/pydevd/_pydevd_bundle/pydevd_timeout.py'>,\n",
       " '_pydevd_bundle.pydevd_vars': <module '_pydevd_bundle.pydevd_vars' from '/home/user/helloCode/.myenv/lib/python3.8/site-packages/debugpy/_vendored/pydevd/_pydevd_bundle/pydevd_vars.py'>,\n",
       " '_pydev_bundle.pydev_console_utils': <module '_pydev_bundle.pydev_console_utils' from '/home/user/helloCode/.myenv/lib/python3.8/site-packages/debugpy/_vendored/pydevd/_pydev_bundle/pydev_console_utils.py'>,\n",
       " '_pydevd_bundle.pydevd_import_class': <module '_pydevd_bundle.pydevd_import_class' from '/home/user/helloCode/.myenv/lib/python3.8/site-packages/debugpy/_vendored/pydevd/_pydevd_bundle/pydevd_import_class.py'>,\n",
       " '_pydevd_bundle.pydevd_breakpoints': <module '_pydevd_bundle.pydevd_breakpoints' from '/home/user/helloCode/.myenv/lib/python3.8/site-packages/debugpy/_vendored/pydevd/_pydevd_bundle/pydevd_breakpoints.py'>,\n",
       " '_pydevd_bundle.pydevd_custom_frames': <module '_pydevd_bundle.pydevd_custom_frames' from '/home/user/helloCode/.myenv/lib/python3.8/site-packages/debugpy/_vendored/pydevd/_pydevd_bundle/pydevd_custom_frames.py'>,\n",
       " '_pydevd_bundle.pydevd_dont_trace_files': <module '_pydevd_bundle.pydevd_dont_trace_files' from '/home/user/helloCode/.myenv/lib/python3.8/site-packages/debugpy/_vendored/pydevd/_pydevd_bundle/pydevd_dont_trace_files.py'>,\n",
       " '_pydevd_bundle.pydevd_net_command': <module '_pydevd_bundle.pydevd_net_command' from '/home/user/helloCode/.myenv/lib/python3.8/site-packages/debugpy/_vendored/pydevd/_pydevd_bundle/pydevd_net_command.py'>,\n",
       " '_pydevd_bundle.pydevconsole_code': <module '_pydevd_bundle.pydevconsole_code' from '/home/user/helloCode/.myenv/lib/python3.8/site-packages/debugpy/_vendored/pydevd/_pydevd_bundle/pydevconsole_code.py'>,\n",
       " '_pydev_bundle.pydev_umd': <module '_pydev_bundle.pydev_umd' from '/home/user/helloCode/.myenv/lib/python3.8/site-packages/debugpy/_vendored/pydevd/_pydev_bundle/pydev_umd.py'>,\n",
       " 'pydevconsole': <module 'pydevconsole' from '/home/user/helloCode/.myenv/lib/python3.8/site-packages/debugpy/_vendored/pydevd/pydevconsole.py'>,\n",
       " '_pydev_bundle._pydev_completer': <module '_pydev_bundle._pydev_completer' from '/home/user/helloCode/.myenv/lib/python3.8/site-packages/debugpy/_vendored/pydevd/_pydev_bundle/_pydev_completer.py'>,\n",
       " '_pydevd_bundle.pydevd_net_command_factory_xml': <module '_pydevd_bundle.pydevd_net_command_factory_xml' from '/home/user/helloCode/.myenv/lib/python3.8/site-packages/debugpy/_vendored/pydevd/_pydevd_bundle/pydevd_net_command_factory_xml.py'>,\n",
       " '_pydevd_bundle.pydevd_frame': <module '_pydevd_bundle.pydevd_frame' from '/home/user/helloCode/.myenv/lib/python3.8/site-packages/debugpy/_vendored/pydevd/_pydevd_bundle/pydevd_frame.py'>,\n",
       " '_pydevd_bundle.pydevd_additional_thread_info_regular': <module '_pydevd_bundle.pydevd_additional_thread_info_regular' from '/home/user/helloCode/.myenv/lib/python3.8/site-packages/debugpy/_vendored/pydevd/_pydevd_bundle/pydevd_additional_thread_info_regular.py'>,\n",
       " '_pydevd_bundle.pydevd_trace_dispatch': <module '_pydevd_bundle.pydevd_trace_dispatch' from '/home/user/helloCode/.myenv/lib/python3.8/site-packages/debugpy/_vendored/pydevd/_pydevd_bundle/pydevd_trace_dispatch.py'>,\n",
       " '_pydevd_bundle._debug_adapter': <module '_pydevd_bundle._debug_adapter' from '/home/user/helloCode/.myenv/lib/python3.8/site-packages/debugpy/_vendored/pydevd/_pydevd_bundle/_debug_adapter/__init__.py'>,\n",
       " '_pydevd_bundle._debug_adapter.pydevd_schema_log': <module '_pydevd_bundle._debug_adapter.pydevd_schema_log' from '/home/user/helloCode/.myenv/lib/python3.8/site-packages/debugpy/_vendored/pydevd/_pydevd_bundle/_debug_adapter/pydevd_schema_log.py'>,\n",
       " '_pydevd_bundle._debug_adapter.pydevd_base_schema': <module '_pydevd_bundle._debug_adapter.pydevd_base_schema' from '/home/user/helloCode/.myenv/lib/python3.8/site-packages/debugpy/_vendored/pydevd/_pydevd_bundle/_debug_adapter/pydevd_base_schema.py'>,\n",
       " '_pydevd_bundle._debug_adapter.pydevd_schema': <module '_pydevd_bundle._debug_adapter.pydevd_schema' from '/home/user/helloCode/.myenv/lib/python3.8/site-packages/debugpy/_vendored/pydevd/_pydevd_bundle/_debug_adapter/pydevd_schema.py'>,\n",
       " '_pydevd_bundle.pydevd_reload': <module '_pydevd_bundle.pydevd_reload' from '/home/user/helloCode/.myenv/lib/python3.8/site-packages/debugpy/_vendored/pydevd/_pydevd_bundle/pydevd_reload.py'>,\n",
       " '_pydev_bundle.fsnotify': <module '_pydev_bundle.fsnotify' from '/home/user/helloCode/.myenv/lib/python3.8/site-packages/debugpy/_vendored/pydevd/_pydev_bundle/fsnotify/__init__.py'>,\n",
       " '_pydevd_bundle.pydevd_console': <module '_pydevd_bundle.pydevd_console' from '/home/user/helloCode/.myenv/lib/python3.8/site-packages/debugpy/_vendored/pydevd/_pydevd_bundle/pydevd_console.py'>,\n",
       " '_pydevd_bundle.pydevd_comm': <module '_pydevd_bundle.pydevd_comm' from '/home/user/helloCode/.myenv/lib/python3.8/site-packages/debugpy/_vendored/pydevd/_pydevd_bundle/pydevd_comm.py'>,\n",
       " '_pydevd_frame_eval.pydevd_frame_tracing': <module '_pydevd_frame_eval.pydevd_frame_tracing' from '/home/user/helloCode/.myenv/lib/python3.8/site-packages/debugpy/_vendored/pydevd/_pydevd_frame_eval/pydevd_frame_tracing.py'>,\n",
       " '_pydevd_frame_eval.pydevd_modify_bytecode': <module '_pydevd_frame_eval.pydevd_modify_bytecode' from '/home/user/helloCode/.myenv/lib/python3.8/site-packages/debugpy/_vendored/pydevd/_pydevd_frame_eval/pydevd_modify_bytecode.py'>,\n",
       " '_pydevd_frame_eval.pydevd_frame_evaluator': <module '_pydevd_frame_eval.pydevd_frame_evaluator' from '/home/user/helloCode/.myenv/lib/python3.8/site-packages/debugpy/_vendored/pydevd/_pydevd_frame_eval/pydevd_frame_evaluator.cpython-38-x86_64-linux-gnu.so'>,\n",
       " '_pydevd_frame_eval.pydevd_frame_eval_cython_wrapper': <module '_pydevd_frame_eval.pydevd_frame_eval_cython_wrapper' from '/home/user/helloCode/.myenv/lib/python3.8/site-packages/debugpy/_vendored/pydevd/_pydevd_frame_eval/pydevd_frame_eval_cython_wrapper.py'>,\n",
       " '_pydevd_frame_eval.pydevd_frame_eval_main': <module '_pydevd_frame_eval.pydevd_frame_eval_main' from '/home/user/helloCode/.myenv/lib/python3.8/site-packages/debugpy/_vendored/pydevd/_pydevd_frame_eval/pydevd_frame_eval_main.py'>,\n",
       " '_pydevd_bundle.pydevd_source_mapping': <module '_pydevd_bundle.pydevd_source_mapping' from '/home/user/helloCode/.myenv/lib/python3.8/site-packages/debugpy/_vendored/pydevd/_pydevd_bundle/pydevd_source_mapping.py'>,\n",
       " '_pydevd_bundle.pydevd_concurrency_analyser': <module '_pydevd_bundle.pydevd_concurrency_analyser' from '/home/user/helloCode/.myenv/lib/python3.8/site-packages/debugpy/_vendored/pydevd/_pydevd_bundle/pydevd_concurrency_analyser/__init__.py'>,\n",
       " '_pydevd_bundle.pydevd_concurrency_analyser.pydevd_thread_wrappers': <module '_pydevd_bundle.pydevd_concurrency_analyser.pydevd_thread_wrappers' from '/home/user/helloCode/.myenv/lib/python3.8/site-packages/debugpy/_vendored/pydevd/_pydevd_bundle/pydevd_concurrency_analyser/pydevd_thread_wrappers.py'>,\n",
       " '_pydevd_bundle.pydevd_concurrency_analyser.pydevd_concurrency_logger': <module '_pydevd_bundle.pydevd_concurrency_analyser.pydevd_concurrency_logger' from '/home/user/helloCode/.myenv/lib/python3.8/site-packages/debugpy/_vendored/pydevd/_pydevd_bundle/pydevd_concurrency_analyser/pydevd_concurrency_logger.py'>,\n",
       " '_pydevd_bundle.pydevd_net_command_factory_json': <module '_pydevd_bundle.pydevd_net_command_factory_json' from '/home/user/helloCode/.myenv/lib/python3.8/site-packages/debugpy/_vendored/pydevd/_pydevd_bundle/pydevd_net_command_factory_json.py'>,\n",
       " '_pydevd_bundle.pydevd_api': <module '_pydevd_bundle.pydevd_api' from '/home/user/helloCode/.myenv/lib/python3.8/site-packages/debugpy/_vendored/pydevd/_pydevd_bundle/pydevd_api.py'>,\n",
       " '_pydevd_bundle.pydevd_json_debug_options': <module '_pydevd_bundle.pydevd_json_debug_options' from '/home/user/helloCode/.myenv/lib/python3.8/site-packages/debugpy/_vendored/pydevd/_pydevd_bundle/pydevd_json_debug_options.py'>,\n",
       " '_pydevd_bundle.pydevd_process_net_command_json': <module '_pydevd_bundle.pydevd_process_net_command_json' from '/home/user/helloCode/.myenv/lib/python3.8/site-packages/debugpy/_vendored/pydevd/_pydevd_bundle/pydevd_process_net_command_json.py'>,\n",
       " '_pydevd_bundle.pydevd_traceproperty': <module '_pydevd_bundle.pydevd_traceproperty' from '/home/user/helloCode/.myenv/lib/python3.8/site-packages/debugpy/_vendored/pydevd/_pydevd_bundle/pydevd_traceproperty.py'>,\n",
       " '_pydevd_bundle.pydevd_process_net_command': <module '_pydevd_bundle.pydevd_process_net_command' from '/home/user/helloCode/.myenv/lib/python3.8/site-packages/debugpy/_vendored/pydevd/_pydevd_bundle/pydevd_process_net_command.py'>,\n",
       " '_pydevd_bundle.pydevd_suspended_frames': <module '_pydevd_bundle.pydevd_suspended_frames' from '/home/user/helloCode/.myenv/lib/python3.8/site-packages/debugpy/_vendored/pydevd/_pydevd_bundle/pydevd_suspended_frames.py'>,\n",
       " '_pydevd_bundle.pydevd_trace_api': <module '_pydevd_bundle.pydevd_trace_api' from '/home/user/helloCode/.myenv/lib/python3.8/site-packages/debugpy/_vendored/pydevd/_pydevd_bundle/pydevd_trace_api.py'>,\n",
       " 'pydevd_plugins.pydevd_line_validation': <module 'pydevd_plugins.pydevd_line_validation' from '/home/user/helloCode/.myenv/lib/python3.8/site-packages/debugpy/_vendored/pydevd/pydevd_plugins/pydevd_line_validation.py'>,\n",
       " 'django.utils': <module 'django.utils' from '/home/user/helloCode/.myenv/lib/python3.8/site-packages/django/utils/__init__.py'>,\n",
       " 'django.utils.functional': <module 'django.utils.functional' from '/home/user/helloCode/.myenv/lib/python3.8/site-packages/django/utils/functional.py'>,\n",
       " 'django.utils.regex_helper': <module 'django.utils.regex_helper' from '/home/user/helloCode/.myenv/lib/python3.8/site-packages/django/utils/regex_helper.py'>,\n",
       " 'django.utils.version': <module 'django.utils.version' from '/home/user/helloCode/.myenv/lib/python3.8/site-packages/django/utils/version.py'>,\n",
       " 'django': <module 'django' from '/home/user/helloCode/.myenv/lib/python3.8/site-packages/django/__init__.py'>,\n",
       " 'pydevd_plugins.django_debug': <module 'pydevd_plugins.django_debug' from '/home/user/helloCode/.myenv/lib/python3.8/site-packages/debugpy/_vendored/pydevd/pydevd_plugins/django_debug.py'>,\n",
       " 'pydevd_plugins.jinja2_debug': <module 'pydevd_plugins.jinja2_debug' from '/home/user/helloCode/.myenv/lib/python3.8/site-packages/debugpy/_vendored/pydevd/pydevd_plugins/jinja2_debug.py'>,\n",
       " '_pydevd_bundle.pydevd_plugin_utils': <module '_pydevd_bundle.pydevd_plugin_utils' from '/home/user/helloCode/.myenv/lib/python3.8/site-packages/debugpy/_vendored/pydevd/_pydevd_bundle/pydevd_plugin_utils.py'>,\n",
       " 'pydevd_plugins.extensions.types': <module 'pydevd_plugins.extensions.types' from '/home/user/helloCode/.myenv/lib/python3.8/site-packages/debugpy/_vendored/pydevd/pydevd_plugins/extensions/types/__init__.py'>,\n",
       " 'pydevd_plugins.extensions.types.pydevd_helpers': <module 'pydevd_plugins.extensions.types.pydevd_helpers' from '/home/user/helloCode/.myenv/lib/python3.8/site-packages/debugpy/_vendored/pydevd/pydevd_plugins/extensions/types/pydevd_helpers.py'>,\n",
       " 'pydevd_plugins.extensions.types.pydevd_plugin_numpy_types': <module 'pydevd_plugins.extensions.types.pydevd_plugin_numpy_types' from '/home/user/helloCode/.myenv/lib/python3.8/site-packages/debugpy/_vendored/pydevd/pydevd_plugins/extensions/types/pydevd_plugin_numpy_types.py'>,\n",
       " 'pydevd_plugins.extensions.types.pydevd_plugin_pandas_types': <module 'pydevd_plugins.extensions.types.pydevd_plugin_pandas_types' from '/home/user/helloCode/.myenv/lib/python3.8/site-packages/debugpy/_vendored/pydevd/pydevd_plugins/extensions/types/pydevd_plugin_pandas_types.py'>,\n",
       " 'pydevd_plugins.extensions.types.pydevd_plugins_django_form_str': <module 'pydevd_plugins.extensions.types.pydevd_plugins_django_form_str' from '/home/user/helloCode/.myenv/lib/python3.8/site-packages/debugpy/_vendored/pydevd/pydevd_plugins/extensions/types/pydevd_plugins_django_form_str.py'>,\n",
       " 'pydevd': <module 'pydevd' from '/home/user/helloCode/.myenv/lib/python3.8/site-packages/debugpy/_vendored/pydevd/pydevd.py'>,\n",
       " 'debugpy._vendored.force_pydevd': <module 'debugpy._vendored.force_pydevd' from '/home/user/helloCode/.myenv/lib/python3.8/site-packages/debugpy/_vendored/force_pydevd.py'>,\n",
       " 'debugpy.server': <module 'debugpy.server' from '/home/user/helloCode/.myenv/lib/python3.8/site-packages/debugpy/server/__init__.py'>,\n",
       " 'debugpy.adapter': <module 'debugpy.adapter' from '/home/user/helloCode/.myenv/lib/python3.8/site-packages/debugpy/adapter/__init__.py'>,\n",
       " 'debugpy.common': <module 'debugpy.common' from '/home/user/helloCode/.myenv/lib/python3.8/site-packages/debugpy/common/__init__.py'>,\n",
       " 'debugpy.common.json': <module 'debugpy.common.json' from '/home/user/helloCode/.myenv/lib/python3.8/site-packages/debugpy/common/json.py'>,\n",
       " 'debugpy.common.timestamp': <module 'debugpy.common.timestamp' from '/home/user/helloCode/.myenv/lib/python3.8/site-packages/debugpy/common/timestamp.py'>,\n",
       " 'debugpy.common.util': <module 'debugpy.common.util' from '/home/user/helloCode/.myenv/lib/python3.8/site-packages/debugpy/common/util.py'>,\n",
       " 'debugpy.common.log': <module 'debugpy.common.log' from '/home/user/helloCode/.myenv/lib/python3.8/site-packages/debugpy/common/log.py'>,\n",
       " 'debugpy.common.sockets': <module 'debugpy.common.sockets' from '/home/user/helloCode/.myenv/lib/python3.8/site-packages/debugpy/common/sockets.py'>,\n",
       " 'debugpy.server.api': <module 'debugpy.server.api' from '/home/user/helloCode/.myenv/lib/python3.8/site-packages/debugpy/server/api.py'>,\n",
       " 'ipykernel.debugger': <module 'ipykernel.debugger' from '/home/user/helloCode/.myenv/lib/python3.8/site-packages/ipykernel/debugger.py'>,\n",
       " 'packaging.__about__': <module 'packaging.__about__' from '/home/user/helloCode/.myenv/lib/python3.8/site-packages/packaging/__about__.py'>,\n",
       " 'packaging': <module 'packaging' from '/home/user/helloCode/.myenv/lib/python3.8/site-packages/packaging/__init__.py'>,\n",
       " 'packaging._structures': <module 'packaging._structures' from '/home/user/helloCode/.myenv/lib/python3.8/site-packages/packaging/_structures.py'>,\n",
       " 'packaging.version': <module 'packaging.version' from '/home/user/helloCode/.myenv/lib/python3.8/site-packages/packaging/version.py'>,\n",
       " 'ipykernel.eventloops': <module 'ipykernel.eventloops' from '/home/user/helloCode/.myenv/lib/python3.8/site-packages/ipykernel/eventloops.py'>,\n",
       " 'IPython.core.payloadpage': <module 'IPython.core.payloadpage' from '/home/user/helloCode/.myenv/lib/python3.8/site-packages/IPython/core/payloadpage.py'>,\n",
       " 'ipykernel.displayhook': <module 'ipykernel.displayhook' from '/home/user/helloCode/.myenv/lib/python3.8/site-packages/ipykernel/displayhook.py'>,\n",
       " 'ipykernel.zmqshell': <module 'ipykernel.zmqshell' from '/home/user/helloCode/.myenv/lib/python3.8/site-packages/ipykernel/zmqshell.py'>,\n",
       " 'ipykernel.ipkernel': <module 'ipykernel.ipkernel' from '/home/user/helloCode/.myenv/lib/python3.8/site-packages/ipykernel/ipkernel.py'>,\n",
       " 'ipykernel.parentpoller': <module 'ipykernel.parentpoller' from '/home/user/helloCode/.myenv/lib/python3.8/site-packages/ipykernel/parentpoller.py'>,\n",
       " 'ipykernel.kernelapp': <module 'ipykernel.kernelapp' from '/home/user/helloCode/.myenv/lib/python3.8/site-packages/ipykernel/kernelapp.py'>,\n",
       " 'faulthandler': <module 'faulthandler' (built-in)>,\n",
       " 'IPython.core.completerlib': <module 'IPython.core.completerlib' from '/home/user/helloCode/.myenv/lib/python3.8/site-packages/IPython/core/completerlib.py'>,\n",
       " 'jedi.inference.finder': <module 'jedi.inference.finder' from '/home/user/helloCode/.myenv/lib/python3.8/site-packages/jedi/inference/finder.py'>}"
      ]
     },
     "execution_count": 41,
     "metadata": {},
     "output_type": "execute_result"
    }
   ],
   "source": [
    "sys.modules"
   ]
  },
  {
   "cell_type": "code",
   "execution_count": 42,
   "metadata": {},
   "outputs": [
    {
     "name": "stdout",
     "output_type": "stream",
     "text": [
      "3\n",
      "-1\n"
     ]
    }
   ],
   "source": [
    "str = \"aacecaaa\"\n",
    "strlist = list(str)\n",
    "lenstr = len(strlist)\n",
    "dic = Counter(strlist)\n",
    "miniKey = min(dic, key=dic.get)\n",
    "ind = strlist.index(miniKey)\n",
    "print(ind)\n",
    "miniind = min(len(str[:ind]), len(str[ind+1:]))\n",
    "maxiind = max(len(str[:ind]), len(str[ind+1:]))\n",
    "print(miniind-maxiind)"
   ]
  },
  {
   "cell_type": "markdown",
   "metadata": {},
   "source": [
    "## functools module"
   ]
  },
  {
   "cell_type": "code",
   "execution_count": 43,
   "metadata": {},
   "outputs": [
    {
     "data": {
      "text/plain": [
       "['RLock',\n",
       " 'WRAPPER_ASSIGNMENTS',\n",
       " 'WRAPPER_UPDATES',\n",
       " '_CacheInfo',\n",
       " '_HashedSeq',\n",
       " '_NOT_FOUND',\n",
       " '__all__',\n",
       " '__builtins__',\n",
       " '__cached__',\n",
       " '__doc__',\n",
       " '__file__',\n",
       " '__loader__',\n",
       " '__name__',\n",
       " '__package__',\n",
       " '__spec__',\n",
       " '_c3_merge',\n",
       " '_c3_mro',\n",
       " '_compose_mro',\n",
       " '_convert',\n",
       " '_find_impl',\n",
       " '_ge_from_gt',\n",
       " '_ge_from_le',\n",
       " '_ge_from_lt',\n",
       " '_gt_from_ge',\n",
       " '_gt_from_le',\n",
       " '_gt_from_lt',\n",
       " '_initial_missing',\n",
       " '_le_from_ge',\n",
       " '_le_from_gt',\n",
       " '_le_from_lt',\n",
       " '_lru_cache_wrapper',\n",
       " '_lt_from_ge',\n",
       " '_lt_from_gt',\n",
       " '_lt_from_le',\n",
       " '_make_key',\n",
       " '_unwrap_partial',\n",
       " 'cached_property',\n",
       " 'cmp_to_key',\n",
       " 'get_cache_token',\n",
       " 'lru_cache',\n",
       " 'namedtuple',\n",
       " 'partial',\n",
       " 'partialmethod',\n",
       " 'recursive_repr',\n",
       " 'reduce',\n",
       " 'singledispatch',\n",
       " 'singledispatchmethod',\n",
       " 'total_ordering',\n",
       " 'update_wrapper',\n",
       " 'wraps']"
      ]
     },
     "execution_count": 43,
     "metadata": {},
     "output_type": "execute_result"
    }
   ],
   "source": [
    "import functools\n",
    "dir(functools)"
   ]
  },
  {
   "cell_type": "markdown",
   "metadata": {},
   "source": [
    "##### 1. reduce"
   ]
  },
  {
   "cell_type": "code",
   "execution_count": 44,
   "metadata": {},
   "outputs": [],
   "source": [
    "from functools import reduce"
   ]
  },
  {
   "cell_type": "code",
   "execution_count": 45,
   "metadata": {},
   "outputs": [
    {
     "data": {
      "text/plain": [
       "15"
      ]
     },
     "execution_count": 45,
     "metadata": {},
     "output_type": "execute_result"
    }
   ],
   "source": [
    "l = [1,2,3,4,5]\n",
    "reduce(lambda x,y: x+y, l) "
   ]
  },
  {
   "cell_type": "markdown",
   "metadata": {},
   "source": [
    "##### 2. total_ordering"
   ]
  },
  {
   "cell_type": "code",
   "execution_count": 46,
   "metadata": {},
   "outputs": [],
   "source": [
    "from functools import total_ordering"
   ]
  },
  {
   "cell_type": "code",
   "execution_count": 47,
   "metadata": {},
   "outputs": [],
   "source": [
    "@total_ordering\n",
    "class Car:\n",
    "    def __init__(self, model, mileage):\n",
    "        self.model = model\n",
    "        self.mileage = mileage\n",
    "        \n",
    "    def __eq__(self, other):\n",
    "        return self.mileage == other.mileage\n",
    "    \n",
    "    def __lt__(self, other):\n",
    "        return self.mileage < other.mileage\n",
    "    \n",
    "    def __le__(self, other):\n",
    "        return self.mileage <= other.mileage\n"
   ]
  },
  {
   "cell_type": "code",
   "execution_count": 48,
   "metadata": {},
   "outputs": [],
   "source": [
    "c1 = Car(\"Audi\", 700)\n",
    "c2 = Car(\"BMW\", 800)"
   ]
  },
  {
   "cell_type": "code",
   "execution_count": 49,
   "metadata": {},
   "outputs": [
    {
     "data": {
      "text/plain": [
       "False"
      ]
     },
     "execution_count": 49,
     "metadata": {},
     "output_type": "execute_result"
    }
   ],
   "source": [
    "c1 == c2"
   ]
  },
  {
   "cell_type": "code",
   "execution_count": 50,
   "metadata": {},
   "outputs": [
    {
     "data": {
      "text/plain": [
       "True"
      ]
     },
     "execution_count": 50,
     "metadata": {},
     "output_type": "execute_result"
    }
   ],
   "source": [
    "c1<c2"
   ]
  },
  {
   "cell_type": "code",
   "execution_count": 51,
   "metadata": {},
   "outputs": [
    {
     "data": {
      "text/plain": [
       "False"
      ]
     },
     "execution_count": 51,
     "metadata": {},
     "output_type": "execute_result"
    }
   ],
   "source": [
    "c1>c2"
   ]
  },
  {
   "cell_type": "code",
   "execution_count": 52,
   "metadata": {},
   "outputs": [
    {
     "data": {
      "text/plain": [
       "True"
      ]
     },
     "execution_count": 52,
     "metadata": {},
     "output_type": "execute_result"
    }
   ],
   "source": [
    "c1<=c2"
   ]
  },
  {
   "cell_type": "markdown",
   "metadata": {},
   "source": [
    "##### 3. cached_property"
   ]
  },
  {
   "cell_type": "code",
   "execution_count": 53,
   "metadata": {},
   "outputs": [],
   "source": [
    "from functools import cached_property"
   ]
  },
  {
   "cell_type": "code",
   "execution_count": 54,
   "metadata": {},
   "outputs": [],
   "source": [
    "class Marksheet:\n",
    "    def __init__(self, *grades):\n",
    "        self.grades = grades\n",
    "        \n",
    "        \n",
    "    @cached_property\n",
    "    def total(self):\n",
    "        print(\"Calculating total.\")\n",
    "        return sum(self.grades)\n",
    "    \n",
    "    @cached_property\n",
    "    def average(self):\n",
    "        print(\"Calculating average.\")\n",
    "        return self.total/len(self.grades)"
   ]
  },
  {
   "cell_type": "code",
   "execution_count": 55,
   "metadata": {},
   "outputs": [],
   "source": [
    "m = Marksheet(100, 90, 95)"
   ]
  },
  {
   "cell_type": "code",
   "execution_count": 56,
   "metadata": {},
   "outputs": [
    {
     "name": "stdout",
     "output_type": "stream",
     "text": [
      "Calculating total.\n"
     ]
    },
    {
     "data": {
      "text/plain": [
       "285"
      ]
     },
     "execution_count": 56,
     "metadata": {},
     "output_type": "execute_result"
    }
   ],
   "source": [
    "m.total"
   ]
  },
  {
   "cell_type": "code",
   "execution_count": 57,
   "metadata": {},
   "outputs": [
    {
     "name": "stdout",
     "output_type": "stream",
     "text": [
      "Calculating average.\n"
     ]
    },
    {
     "data": {
      "text/plain": [
       "95.0"
      ]
     },
     "execution_count": 57,
     "metadata": {},
     "output_type": "execute_result"
    }
   ],
   "source": [
    "m.average"
   ]
  },
  {
   "cell_type": "markdown",
   "metadata": {},
   "source": [
    "##### 4. lru_cache"
   ]
  },
  {
   "cell_type": "code",
   "execution_count": 58,
   "metadata": {},
   "outputs": [],
   "source": [
    "from functools import lru_cache"
   ]
  },
  {
   "cell_type": "code",
   "execution_count": 59,
   "metadata": {},
   "outputs": [],
   "source": [
    "@lru_cache()\n",
    "def fib(n):\n",
    "    if n < 2:\n",
    "        return n\n",
    "    print(f\"calculating fib {n}\")\n",
    "    return fib(n-1) + fib(n-2)"
   ]
  },
  {
   "cell_type": "code",
   "execution_count": 60,
   "metadata": {},
   "outputs": [
    {
     "name": "stdout",
     "output_type": "stream",
     "text": [
      "calculating fib 2\n",
      "calculating fib 3\n",
      "calculating fib 4\n",
      "calculating fib 5\n",
      "calculating fib 6\n",
      "calculating fib 7\n",
      "calculating fib 8\n",
      "calculating fib 9\n"
     ]
    },
    {
     "data": {
      "text/plain": [
       "[0, 1, 1, 2, 3, 5, 8, 13, 21, 34]"
      ]
     },
     "execution_count": 60,
     "metadata": {},
     "output_type": "execute_result"
    }
   ],
   "source": [
    "[fib(x) for x in range(10)]"
   ]
  },
  {
   "cell_type": "code",
   "execution_count": 61,
   "metadata": {},
   "outputs": [
    {
     "data": {
      "text/plain": [
       "CacheInfo(hits=16, misses=10, maxsize=128, currsize=10)"
      ]
     },
     "execution_count": 61,
     "metadata": {},
     "output_type": "execute_result"
    }
   ],
   "source": [
    "fib.cache_info() "
   ]
  },
  {
   "cell_type": "markdown",
   "metadata": {},
   "source": [
    "##### 5. partial"
   ]
  },
  {
   "cell_type": "code",
   "execution_count": 62,
   "metadata": {},
   "outputs": [],
   "source": [
    "from functools import partial"
   ]
  },
  {
   "cell_type": "code",
   "execution_count": 63,
   "metadata": {},
   "outputs": [],
   "source": [
    "def add(a,b):\n",
    "    print(a, b)\n",
    "    return a + b"
   ]
  },
  {
   "cell_type": "code",
   "execution_count": 64,
   "metadata": {},
   "outputs": [],
   "source": [
    "add_one = partial(add, 1)"
   ]
  },
  {
   "cell_type": "code",
   "execution_count": 65,
   "metadata": {},
   "outputs": [
    {
     "name": "stdout",
     "output_type": "stream",
     "text": [
      "1 5\n"
     ]
    },
    {
     "data": {
      "text/plain": [
       "6"
      ]
     },
     "execution_count": 65,
     "metadata": {},
     "output_type": "execute_result"
    }
   ],
   "source": [
    "add_one(5)"
   ]
  },
  {
   "cell_type": "markdown",
   "metadata": {},
   "source": [
    "##### 6. wraps"
   ]
  },
  {
   "cell_type": "code",
   "execution_count": 66,
   "metadata": {},
   "outputs": [],
   "source": [
    "from functools import wraps"
   ]
  },
  {
   "cell_type": "code",
   "execution_count": 67,
   "metadata": {},
   "outputs": [],
   "source": [
    "def mylogger(func):\n",
    "    \n",
    "    @wraps(func)\n",
    "    def wrapper(*args, **kwargs):\n",
    "        print(f\"Running {func.__name__}\")\n",
    "        return func(*args, **kwargs)\n",
    "    return wrapper"
   ]
  },
  {
   "cell_type": "code",
   "execution_count": 68,
   "metadata": {},
   "outputs": [],
   "source": [
    "@mylogger\n",
    "def add(a,b):\n",
    "    \"\"\"add a and b\"\"\"\n",
    "    return a + b"
   ]
  },
  {
   "cell_type": "code",
   "execution_count": 69,
   "metadata": {},
   "outputs": [
    {
     "name": "stdout",
     "output_type": "stream",
     "text": [
      "Running add\n"
     ]
    },
    {
     "data": {
      "text/plain": [
       "3"
      ]
     },
     "execution_count": 69,
     "metadata": {},
     "output_type": "execute_result"
    }
   ],
   "source": [
    "add(1, 2)"
   ]
  },
  {
   "cell_type": "code",
   "execution_count": 70,
   "metadata": {},
   "outputs": [
    {
     "data": {
      "text/plain": [
       "'add'"
      ]
     },
     "execution_count": 70,
     "metadata": {},
     "output_type": "execute_result"
    }
   ],
   "source": [
    "add.__name__"
   ]
  },
  {
   "cell_type": "code",
   "execution_count": 71,
   "metadata": {},
   "outputs": [
    {
     "data": {
      "text/plain": [
       "'add a and b'"
      ]
     },
     "execution_count": 71,
     "metadata": {},
     "output_type": "execute_result"
    }
   ],
   "source": [
    "add.__doc__"
   ]
  },
  {
   "cell_type": "markdown",
   "metadata": {},
   "source": [
    "### 7. singledispatch\n",
    "#### Generic function\n",
    "\n",
    "A function composed of multiple functions implementing the same operation for different types. Which implementation should be used during a call is determined by the dispatch algorithm.\n",
    "#### Single dispatch\n",
    "\n",
    "A form of generic function dispatch where the implementation is chosen based on the type of a single argument.\n"
   ]
  },
  {
   "cell_type": "code",
   "execution_count": 72,
   "metadata": {},
   "outputs": [],
   "source": [
    "def append_one(obj):\n",
    "    if type(obj) == list:\n",
    "        return obj + [1]\n",
    "    elif type(obj) == set:\n",
    "        return obj.union({1})\n",
    "    elif type(obj) == str:\n",
    "        return obj + str(1)\n",
    "    else:\n",
    "        print(\"Unsupported type\")\n",
    "        return obj"
   ]
  },
  {
   "cell_type": "code",
   "execution_count": 73,
   "metadata": {},
   "outputs": [
    {
     "data": {
      "text/plain": [
       "[1, 2, 3, 1]"
      ]
     },
     "execution_count": 73,
     "metadata": {},
     "output_type": "execute_result"
    }
   ],
   "source": [
    "append_one([1,2,3])"
   ]
  },
  {
   "cell_type": "code",
   "execution_count": 74,
   "metadata": {},
   "outputs": [
    {
     "data": {
      "text/plain": [
       "{1, 2, 3}"
      ]
     },
     "execution_count": 74,
     "metadata": {},
     "output_type": "execute_result"
    }
   ],
   "source": [
    "append_one({1,2,3})"
   ]
  },
  {
   "cell_type": "code",
   "execution_count": 75,
   "metadata": {},
   "outputs": [
    {
     "name": "stdout",
     "output_type": "stream",
     "text": [
      "Unsupported type\n"
     ]
    },
    {
     "data": {
      "text/plain": [
       "'abcde'"
      ]
     },
     "execution_count": 75,
     "metadata": {},
     "output_type": "execute_result"
    }
   ],
   "source": [
    "append_one(\"abcde\")"
   ]
  },
  {
   "cell_type": "code",
   "execution_count": 76,
   "metadata": {},
   "outputs": [],
   "source": [
    "from functools import singledispatch"
   ]
  },
  {
   "cell_type": "code",
   "execution_count": null,
   "metadata": {},
   "outputs": [],
   "source": [
    "@singledispatch\n",
    "def append_one(obj):\n",
    "    print(\"Unsupported type\")\n",
    "    return obj\n",
    "\n",
    "@append_one.register\n",
    "def _(obj: list):\n",
    "    return obj + [1]\n",
    "\n",
    "@append_one.register\n",
    "def _(obj: set):\n",
    "    return obj.union({1})\n",
    "\n",
    "@append_one.register\n",
    "def _(obj: str):\n",
    "    return obj + str(1)"
   ]
  },
  {
   "cell_type": "code",
   "execution_count": 78,
   "metadata": {},
   "outputs": [
    {
     "data": {
      "text/plain": [
       "[1, 2, 3, 1]"
      ]
     },
     "execution_count": 78,
     "metadata": {},
     "output_type": "execute_result"
    }
   ],
   "source": [
    "append_one([1,2,3])"
   ]
  },
  {
   "cell_type": "code",
   "execution_count": 79,
   "metadata": {},
   "outputs": [
    {
     "name": "stdout",
     "output_type": "stream",
     "text": [
      "Unsupported type\n"
     ]
    },
    {
     "data": {
      "text/plain": [
       "2"
      ]
     },
     "execution_count": 79,
     "metadata": {},
     "output_type": "execute_result"
    }
   ],
   "source": [
    "append_one(2)"
   ]
  },
  {
   "cell_type": "code",
   "execution_count": 80,
   "metadata": {},
   "outputs": [
    {
     "name": "stdout",
     "output_type": "stream",
     "text": [
      "Unsupported type\n"
     ]
    },
    {
     "data": {
      "text/plain": [
       "'abcd'"
      ]
     },
     "execution_count": 80,
     "metadata": {},
     "output_type": "execute_result"
    }
   ],
   "source": [
    "append_one('abcd')"
   ]
  }
 ],
 "metadata": {
  "kernelspec": {
   "display_name": "Python 3.8.10 ('.myenv': venv)",
   "language": "python",
   "name": "python3"
  },
  "language_info": {
   "codemirror_mode": {
    "name": "ipython",
    "version": 3
   },
   "file_extension": ".py",
   "mimetype": "text/x-python",
   "name": "python",
   "nbconvert_exporter": "python",
   "pygments_lexer": "ipython3",
   "version": "3.8.10"
  },
  "orig_nbformat": 4,
  "vscode": {
   "interpreter": {
    "hash": "5d9de5ace9ec981fe88fbb2d5149b79ab2798d0214df3658e400fc492002c983"
   }
  }
 },
 "nbformat": 4,
 "nbformat_minor": 2
}
