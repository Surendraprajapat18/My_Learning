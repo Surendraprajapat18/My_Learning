{
 "cells": [
  {
   "cell_type": "code",
   "execution_count": 1,
   "metadata": {},
   "outputs": [],
   "source": [
    "import numpy as np"
   ]
  },
  {
   "cell_type": "code",
   "execution_count": 2,
   "metadata": {},
   "outputs": [
    {
     "data": {
      "text/plain": [
       "array([[0, 0, 0, 0, 0, 0],\n",
       "       [0, 1, 0, 0, 0, 0],\n",
       "       [0, 0, 2, 0, 0, 0],\n",
       "       [0, 0, 0, 3, 0, 0],\n",
       "       [0, 0, 0, 0, 4, 0],\n",
       "       [0, 0, 0, 0, 0, 5]])"
      ]
     },
     "execution_count": 2,
     "metadata": {},
     "output_type": "execute_result"
    }
   ],
   "source": [
    "np.diag(np.arange(6))"
   ]
  },
  {
   "cell_type": "code",
   "execution_count": 3,
   "metadata": {},
   "outputs": [
    {
     "data": {
      "text/plain": [
       "'1.22.4'"
      ]
     },
     "execution_count": 3,
     "metadata": {},
     "output_type": "execute_result"
    }
   ],
   "source": [
    "np.__version__"
   ]
  },
  {
   "cell_type": "code",
   "execution_count": 9,
   "metadata": {},
   "outputs": [
    {
     "name": "stdout",
     "output_type": "stream",
     "text": [
      "True\n",
      "False\n",
      "False\n",
      "True\n"
     ]
    }
   ],
   "source": [
    "A = np.array([[3, 2, 1, 4],\n",
    "              [5, 2, 1, 6]])\n",
    "\n",
    "B = np.array([[3, 2, 1, 4],\n",
    "              [5, 2, 0, 6]])\n",
    "\n",
    "C = np.array([[True, False, False],\n",
    "              [True, True, True]])\n",
    "\n",
    "D = np.array([0.1, 0.3])\n",
    "print(np.all(A))\n",
    "print(np.all(B))\n",
    "print(np.all(C))\n",
    "print((np.all(D)))"
   ]
  },
  {
   "cell_type": "code",
   "execution_count": 20,
   "metadata": {},
   "outputs": [
    {
     "name": "stdout",
     "output_type": "stream",
     "text": [
      "A: [ True  True]\n",
      "B: [ True False]\n",
      "C: [False  True]\n"
     ]
    }
   ],
   "source": [
    "A = np.array([[3, 2, 1, 4],\n",
    "              [5, 2, 1, 6]])\n",
    " \n",
    "B = np.array([[3, 2, 1, 4],\n",
    "              [5, 2, 0, 6]])\n",
    " \n",
    "C = np.array([[True, False, False],\n",
    "              [True, True, True]])\n",
    " \n",
    "for name, array in zip(list('ABC'), [A, B, C]):\n",
    "    print(f'{name}: {np.all(array, axis=1)}')"
   ]
  },
  {
   "cell_type": "code",
   "execution_count": 17,
   "metadata": {},
   "outputs": [
    {
     "name": "stdout",
     "output_type": "stream",
     "text": [
      "A: False\n",
      "B: True\n",
      "C: True\n",
      "D: True\n"
     ]
    }
   ],
   "source": [
    "A = np.array([[0, 0, 0],\n",
    "              [0, 0, 0]])\n",
    "\n",
    "B = np.array([[0, 0, 0],\n",
    "              [0, 1, 0]])\n",
    "\n",
    "C = np.array([[False, False, False],\n",
    "              [True, False, False]])\n",
    "\n",
    "D = np.array([[0.1, 0.0]])\n",
    "\n",
    "for name,array in zip(list('ABCD'),[A,B,C,D]):\n",
    "    print(name+\": \"+str(np.any(array)))"
   ]
  },
  {
   "cell_type": "code",
   "execution_count": 21,
   "metadata": {},
   "outputs": [
    {
     "name": "stdout",
     "output_type": "stream",
     "text": [
      "A: [False False False]\n",
      "B: [False  True False]\n",
      "C: [ True False False]\n",
      "D: [ True False]\n"
     ]
    }
   ],
   "source": [
    "A = np.array([[0, 0, 0],\n",
    "              [0, 0, 0]])\n",
    "\n",
    "B = np.array([[0, 0, 0],\n",
    "              [0, 1, 0]])\n",
    "\n",
    "C = np.array([[False, False, False],\n",
    "              [True, False, False]])\n",
    "\n",
    "D = np.array([[0.1, 0.0]])\n",
    "\n",
    "for name, array in zip(list('ABCD'), [A, B, C, D]):\n",
    "    print(f'{name}: {np.any(array, axis=0)}')"
   ]
  },
  {
   "cell_type": "code",
   "execution_count": null,
   "metadata": {},
   "outputs": [],
   "source": []
  },
  {
   "cell_type": "code",
   "execution_count": null,
   "metadata": {},
   "outputs": [],
   "source": []
  }
 ],
 "metadata": {
  "kernelspec": {
   "display_name": "Python 3.8.10 ('.myenv': venv)",
   "language": "python",
   "name": "python3"
  },
  "language_info": {
   "codemirror_mode": {
    "name": "ipython",
    "version": 3
   },
   "file_extension": ".py",
   "mimetype": "text/x-python",
   "name": "python",
   "nbconvert_exporter": "python",
   "pygments_lexer": "ipython3",
   "version": "3.8.10"
  },
  "orig_nbformat": 4,
  "vscode": {
   "interpreter": {
    "hash": "78127f5608c65fa057fd53abcc4407db123face8ba2c7da30fed13927ab85375"
   }
  }
 },
 "nbformat": 4,
 "nbformat_minor": 2
}
